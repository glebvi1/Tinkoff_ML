{
  "nbformat": 4,
  "nbformat_minor": 0,
  "metadata": {
    "colab": {
      "name": "Копия блокнота \"Task 4.ipynb\"",
      "provenance": []
    },
    "kernelspec": {
      "display_name": "Python 3",
      "language": "python",
      "name": "python3"
    },
    "language_info": {
      "codemirror_mode": {
        "name": "ipython",
        "version": 3
      },
      "file_extension": ".py",
      "mimetype": "text/x-python",
      "name": "python",
      "nbconvert_exporter": "python",
      "pygments_lexer": "ipython3",
      "version": "3.7.3"
    }
  },
  "cells": [
    {
      "cell_type": "markdown",
      "metadata": {
        "id": "UsnIB3xgHCIQ"
      },
      "source": [
        "# Домашнее задание\n",
        "\n",
        "Всего у вас 2 домашних задания:\n",
        "\n",
        "### 1) Бинарная классификация на примере детекции фрода на кредитных картах (6 баллов)\n",
        "(в этом файле)\n",
        "\n",
        "### 2) Небинарная классификация на вашем датасете (6 баллов)\n",
        "(тоже в этом файле)"
      ]
    },
    {
      "cell_type": "code",
      "metadata": {
        "id": "Map6D_tV6XO9"
      },
      "source": [
        "import pandas as pd\n",
        "import numpy as np\n",
        "import matplotlib.pyplot as plt\n",
        "import seaborn as sns\n",
        "\n",
        "from collections import Counter"
      ],
      "execution_count": null,
      "outputs": []
    },
    {
      "cell_type": "code",
      "metadata": {
        "id": "dtodjT6l6XRU"
      },
      "source": [
        "from sklearn.metrics import log_loss\n",
        "from sklearn.metrics import accuracy_score\n",
        "from sklearn.metrics import precision_score\n",
        "from sklearn.metrics import recall_score\n",
        "from sklearn.metrics import f1_score\n",
        "from sklearn.metrics import roc_auc_score\n",
        "\n",
        "from sklearn.metrics import roc_curve\n",
        "from sklearn.metrics import precision_recall_curve"
      ],
      "execution_count": null,
      "outputs": []
    },
    {
      "cell_type": "code",
      "metadata": {
        "id": "CwmbHNgc6Xb6"
      },
      "source": [
        "from sklearn.linear_model import LogisticRegression\n",
        "from sklearn.neighbors import KNeighborsClassifier\n",
        "from sklearn.tree import DecisionTreeClassifier\n",
        "from sklearn.ensemble import RandomForestClassifier"
      ],
      "execution_count": null,
      "outputs": []
    },
    {
      "cell_type": "code",
      "metadata": {
        "id": "wW-stMBx6Xg0"
      },
      "source": [
        "from sklearn.model_selection import train_test_split\n",
        "from sklearn.model_selection import GridSearchCV\n",
        "from sklearn.model_selection import RepeatedStratifiedKFold\n",
        "from sklearn.model_selection import cross_val_score"
      ],
      "execution_count": null,
      "outputs": []
    },
    {
      "cell_type": "code",
      "metadata": {
        "id": "kWp4QNQp6XjN"
      },
      "source": [
        "from sklearn.preprocessing  import StandardScaler\n",
        "from sklearn.preprocessing import LabelEncoder"
      ],
      "execution_count": null,
      "outputs": []
    },
    {
      "cell_type": "markdown",
      "metadata": {
        "id": "TGXVKCnb6Vpt"
      },
      "source": [
        "# 1 - Бинарная классификация на примере детекции фрода на кредитных картах (суммарно 6 баллов)\n",
        "У вас есть информация о множесте транзакций. Вам нужно научиться предсказывать, какие из них мошеннические, а какие нет."
      ]
    },
    {
      "cell_type": "markdown",
      "metadata": {
        "id": "3obeGZDVHCIX"
      },
      "source": [
        "### (1 балл) Считайте данные\n",
        "Сами считайте и предобработайте, если надо, данные из файла creditcard.csv"
      ]
    },
    {
      "cell_type": "code",
      "metadata": {
        "colab": {
          "base_uri": "https://localhost:8080/",
          "height": 226
        },
        "id": "UTXNbr8FJcFR",
        "outputId": "089df203-3b8d-4933-d108-33ef0519f54d"
      },
      "source": [
        "data = pd.read_csv(\"creditcard.csv\")\n",
        "data.head()"
      ],
      "execution_count": null,
      "outputs": [
        {
          "output_type": "execute_result",
          "data": {
            "text/html": [
              "<div>\n",
              "<style scoped>\n",
              "    .dataframe tbody tr th:only-of-type {\n",
              "        vertical-align: middle;\n",
              "    }\n",
              "\n",
              "    .dataframe tbody tr th {\n",
              "        vertical-align: top;\n",
              "    }\n",
              "\n",
              "    .dataframe thead th {\n",
              "        text-align: right;\n",
              "    }\n",
              "</style>\n",
              "<table border=\"1\" class=\"dataframe\">\n",
              "  <thead>\n",
              "    <tr style=\"text-align: right;\">\n",
              "      <th></th>\n",
              "      <th>Time</th>\n",
              "      <th>V1</th>\n",
              "      <th>V2</th>\n",
              "      <th>V3</th>\n",
              "      <th>V4</th>\n",
              "      <th>V5</th>\n",
              "      <th>V6</th>\n",
              "      <th>V7</th>\n",
              "      <th>V8</th>\n",
              "      <th>V9</th>\n",
              "      <th>V10</th>\n",
              "      <th>V11</th>\n",
              "      <th>V12</th>\n",
              "      <th>V13</th>\n",
              "      <th>V14</th>\n",
              "      <th>V15</th>\n",
              "      <th>V16</th>\n",
              "      <th>V17</th>\n",
              "      <th>V18</th>\n",
              "      <th>V19</th>\n",
              "      <th>V20</th>\n",
              "      <th>V21</th>\n",
              "      <th>V22</th>\n",
              "      <th>V23</th>\n",
              "      <th>V24</th>\n",
              "      <th>V25</th>\n",
              "      <th>V26</th>\n",
              "      <th>V27</th>\n",
              "      <th>V28</th>\n",
              "      <th>Amount</th>\n",
              "      <th>Class</th>\n",
              "    </tr>\n",
              "  </thead>\n",
              "  <tbody>\n",
              "    <tr>\n",
              "      <th>0</th>\n",
              "      <td>0.0</td>\n",
              "      <td>-1.359807</td>\n",
              "      <td>-0.072781</td>\n",
              "      <td>2.536347</td>\n",
              "      <td>1.378155</td>\n",
              "      <td>-0.338321</td>\n",
              "      <td>0.462388</td>\n",
              "      <td>0.239599</td>\n",
              "      <td>0.098698</td>\n",
              "      <td>0.363787</td>\n",
              "      <td>0.090794</td>\n",
              "      <td>-0.551600</td>\n",
              "      <td>-0.617801</td>\n",
              "      <td>-0.991390</td>\n",
              "      <td>-0.311169</td>\n",
              "      <td>1.468177</td>\n",
              "      <td>-0.470401</td>\n",
              "      <td>0.207971</td>\n",
              "      <td>0.025791</td>\n",
              "      <td>0.403993</td>\n",
              "      <td>0.251412</td>\n",
              "      <td>-0.018307</td>\n",
              "      <td>0.277838</td>\n",
              "      <td>-0.110474</td>\n",
              "      <td>0.066928</td>\n",
              "      <td>0.128539</td>\n",
              "      <td>-0.189115</td>\n",
              "      <td>0.133558</td>\n",
              "      <td>-0.021053</td>\n",
              "      <td>149.62</td>\n",
              "      <td>0</td>\n",
              "    </tr>\n",
              "    <tr>\n",
              "      <th>1</th>\n",
              "      <td>0.0</td>\n",
              "      <td>1.191857</td>\n",
              "      <td>0.266151</td>\n",
              "      <td>0.166480</td>\n",
              "      <td>0.448154</td>\n",
              "      <td>0.060018</td>\n",
              "      <td>-0.082361</td>\n",
              "      <td>-0.078803</td>\n",
              "      <td>0.085102</td>\n",
              "      <td>-0.255425</td>\n",
              "      <td>-0.166974</td>\n",
              "      <td>1.612727</td>\n",
              "      <td>1.065235</td>\n",
              "      <td>0.489095</td>\n",
              "      <td>-0.143772</td>\n",
              "      <td>0.635558</td>\n",
              "      <td>0.463917</td>\n",
              "      <td>-0.114805</td>\n",
              "      <td>-0.183361</td>\n",
              "      <td>-0.145783</td>\n",
              "      <td>-0.069083</td>\n",
              "      <td>-0.225775</td>\n",
              "      <td>-0.638672</td>\n",
              "      <td>0.101288</td>\n",
              "      <td>-0.339846</td>\n",
              "      <td>0.167170</td>\n",
              "      <td>0.125895</td>\n",
              "      <td>-0.008983</td>\n",
              "      <td>0.014724</td>\n",
              "      <td>2.69</td>\n",
              "      <td>0</td>\n",
              "    </tr>\n",
              "    <tr>\n",
              "      <th>2</th>\n",
              "      <td>1.0</td>\n",
              "      <td>-1.358354</td>\n",
              "      <td>-1.340163</td>\n",
              "      <td>1.773209</td>\n",
              "      <td>0.379780</td>\n",
              "      <td>-0.503198</td>\n",
              "      <td>1.800499</td>\n",
              "      <td>0.791461</td>\n",
              "      <td>0.247676</td>\n",
              "      <td>-1.514654</td>\n",
              "      <td>0.207643</td>\n",
              "      <td>0.624501</td>\n",
              "      <td>0.066084</td>\n",
              "      <td>0.717293</td>\n",
              "      <td>-0.165946</td>\n",
              "      <td>2.345865</td>\n",
              "      <td>-2.890083</td>\n",
              "      <td>1.109969</td>\n",
              "      <td>-0.121359</td>\n",
              "      <td>-2.261857</td>\n",
              "      <td>0.524980</td>\n",
              "      <td>0.247998</td>\n",
              "      <td>0.771679</td>\n",
              "      <td>0.909412</td>\n",
              "      <td>-0.689281</td>\n",
              "      <td>-0.327642</td>\n",
              "      <td>-0.139097</td>\n",
              "      <td>-0.055353</td>\n",
              "      <td>-0.059752</td>\n",
              "      <td>378.66</td>\n",
              "      <td>0</td>\n",
              "    </tr>\n",
              "    <tr>\n",
              "      <th>3</th>\n",
              "      <td>1.0</td>\n",
              "      <td>-0.966272</td>\n",
              "      <td>-0.185226</td>\n",
              "      <td>1.792993</td>\n",
              "      <td>-0.863291</td>\n",
              "      <td>-0.010309</td>\n",
              "      <td>1.247203</td>\n",
              "      <td>0.237609</td>\n",
              "      <td>0.377436</td>\n",
              "      <td>-1.387024</td>\n",
              "      <td>-0.054952</td>\n",
              "      <td>-0.226487</td>\n",
              "      <td>0.178228</td>\n",
              "      <td>0.507757</td>\n",
              "      <td>-0.287924</td>\n",
              "      <td>-0.631418</td>\n",
              "      <td>-1.059647</td>\n",
              "      <td>-0.684093</td>\n",
              "      <td>1.965775</td>\n",
              "      <td>-1.232622</td>\n",
              "      <td>-0.208038</td>\n",
              "      <td>-0.108300</td>\n",
              "      <td>0.005274</td>\n",
              "      <td>-0.190321</td>\n",
              "      <td>-1.175575</td>\n",
              "      <td>0.647376</td>\n",
              "      <td>-0.221929</td>\n",
              "      <td>0.062723</td>\n",
              "      <td>0.061458</td>\n",
              "      <td>123.50</td>\n",
              "      <td>0</td>\n",
              "    </tr>\n",
              "    <tr>\n",
              "      <th>4</th>\n",
              "      <td>2.0</td>\n",
              "      <td>-1.158233</td>\n",
              "      <td>0.877737</td>\n",
              "      <td>1.548718</td>\n",
              "      <td>0.403034</td>\n",
              "      <td>-0.407193</td>\n",
              "      <td>0.095921</td>\n",
              "      <td>0.592941</td>\n",
              "      <td>-0.270533</td>\n",
              "      <td>0.817739</td>\n",
              "      <td>0.753074</td>\n",
              "      <td>-0.822843</td>\n",
              "      <td>0.538196</td>\n",
              "      <td>1.345852</td>\n",
              "      <td>-1.119670</td>\n",
              "      <td>0.175121</td>\n",
              "      <td>-0.451449</td>\n",
              "      <td>-0.237033</td>\n",
              "      <td>-0.038195</td>\n",
              "      <td>0.803487</td>\n",
              "      <td>0.408542</td>\n",
              "      <td>-0.009431</td>\n",
              "      <td>0.798278</td>\n",
              "      <td>-0.137458</td>\n",
              "      <td>0.141267</td>\n",
              "      <td>-0.206010</td>\n",
              "      <td>0.502292</td>\n",
              "      <td>0.219422</td>\n",
              "      <td>0.215153</td>\n",
              "      <td>69.99</td>\n",
              "      <td>0</td>\n",
              "    </tr>\n",
              "  </tbody>\n",
              "</table>\n",
              "</div>"
            ],
            "text/plain": [
              "   Time        V1        V2        V3  ...       V27       V28  Amount  Class\n",
              "0   0.0 -1.359807 -0.072781  2.536347  ...  0.133558 -0.021053  149.62      0\n",
              "1   0.0  1.191857  0.266151  0.166480  ... -0.008983  0.014724    2.69      0\n",
              "2   1.0 -1.358354 -1.340163  1.773209  ... -0.055353 -0.059752  378.66      0\n",
              "3   1.0 -0.966272 -0.185226  1.792993  ...  0.062723  0.061458  123.50      0\n",
              "4   2.0 -1.158233  0.877737  1.548718  ...  0.219422  0.215153   69.99      0\n",
              "\n",
              "[5 rows x 31 columns]"
            ]
          },
          "metadata": {},
          "execution_count": 45
        }
      ]
    },
    {
      "cell_type": "code",
      "metadata": {
        "colab": {
          "base_uri": "https://localhost:8080/"
        },
        "id": "JSwBlGzRKOTW",
        "outputId": "8d9487f3-9838-4083-82f6-b700ff86c47e"
      },
      "source": [
        "counts = Counter(data[\"Class\"])\n",
        "counts"
      ],
      "execution_count": null,
      "outputs": [
        {
          "output_type": "execute_result",
          "data": {
            "text/plain": [
              "Counter({0: 284315, 1: 492})"
            ]
          },
          "metadata": {},
          "execution_count": 46
        }
      ]
    },
    {
      "cell_type": "code",
      "metadata": {
        "colab": {
          "base_uri": "https://localhost:8080/"
        },
        "id": "__cJPEKRHCIY",
        "outputId": "fda57bc5-dabf-4570-91fb-a42e8d5d85c1"
      },
      "source": [
        "data.info()"
      ],
      "execution_count": null,
      "outputs": [
        {
          "output_type": "stream",
          "name": "stdout",
          "text": [
            "<class 'pandas.core.frame.DataFrame'>\n",
            "RangeIndex: 284807 entries, 0 to 284806\n",
            "Data columns (total 31 columns):\n",
            " #   Column  Non-Null Count   Dtype  \n",
            "---  ------  --------------   -----  \n",
            " 0   Time    284807 non-null  float64\n",
            " 1   V1      284807 non-null  float64\n",
            " 2   V2      284807 non-null  float64\n",
            " 3   V3      284807 non-null  float64\n",
            " 4   V4      284807 non-null  float64\n",
            " 5   V5      284807 non-null  float64\n",
            " 6   V6      284807 non-null  float64\n",
            " 7   V7      284807 non-null  float64\n",
            " 8   V8      284807 non-null  float64\n",
            " 9   V9      284807 non-null  float64\n",
            " 10  V10     284807 non-null  float64\n",
            " 11  V11     284807 non-null  float64\n",
            " 12  V12     284807 non-null  float64\n",
            " 13  V13     284807 non-null  float64\n",
            " 14  V14     284807 non-null  float64\n",
            " 15  V15     284807 non-null  float64\n",
            " 16  V16     284807 non-null  float64\n",
            " 17  V17     284807 non-null  float64\n",
            " 18  V18     284807 non-null  float64\n",
            " 19  V19     284807 non-null  float64\n",
            " 20  V20     284807 non-null  float64\n",
            " 21  V21     284807 non-null  float64\n",
            " 22  V22     284807 non-null  float64\n",
            " 23  V23     284807 non-null  float64\n",
            " 24  V24     284807 non-null  float64\n",
            " 25  V25     284807 non-null  float64\n",
            " 26  V26     284807 non-null  float64\n",
            " 27  V27     284807 non-null  float64\n",
            " 28  V28     284807 non-null  float64\n",
            " 29  Amount  284807 non-null  float64\n",
            " 30  Class   284807 non-null  int64  \n",
            "dtypes: float64(30), int64(1)\n",
            "memory usage: 67.4 MB\n"
          ]
        }
      ]
    },
    {
      "cell_type": "markdown",
      "metadata": {
        "id": "DqYpCh1qLJyZ"
      },
      "source": [
        "Данные чистые"
      ]
    },
    {
      "cell_type": "code",
      "metadata": {
        "colab": {
          "base_uri": "https://localhost:8080/"
        },
        "id": "CLCxrMymHCIZ",
        "outputId": "6ac00222-dae7-4b38-e312-c0500e9b40e0"
      },
      "source": [
        "data.isna().mean().sum()"
      ],
      "execution_count": null,
      "outputs": [
        {
          "output_type": "execute_result",
          "data": {
            "text/plain": [
              "0.0"
            ]
          },
          "metadata": {},
          "execution_count": 48
        }
      ]
    },
    {
      "cell_type": "markdown",
      "metadata": {
        "id": "m0TkJbYRLLpJ"
      },
      "source": [
        "Разделим данные на тренировочную и тестовую части"
      ]
    },
    {
      "cell_type": "code",
      "metadata": {
        "id": "TmNykdPJTi_J"
      },
      "source": [
        "X = data.drop(columns=['Class']) \n",
        "y = data['Class']"
      ],
      "execution_count": null,
      "outputs": []
    },
    {
      "cell_type": "code",
      "metadata": {
        "colab": {
          "base_uri": "https://localhost:8080/"
        },
        "id": "xzDS1Q6xLOwh",
        "outputId": "b29bbbc8-43ab-4916-f7b2-7923e1f68a1e"
      },
      "source": [
        "X_train, X_test, y_train, y_test = train_test_split(X.values, y.values, \n",
        "                                                    test_size=0.2, random_state=42)\n",
        "X_train.shape, X_test.shape, y_train.shape, y_test.shape"
      ],
      "execution_count": null,
      "outputs": [
        {
          "output_type": "execute_result",
          "data": {
            "text/plain": [
              "((227845, 30), (56962, 30), (227845,), (56962,))"
            ]
          },
          "metadata": {},
          "execution_count": 50
        }
      ]
    },
    {
      "cell_type": "markdown",
      "metadata": {
        "id": "1Tnj9wevHCIa"
      },
      "source": [
        "### (2 балла) Обучите несколько моделей, посмотрите на метрики.\n",
        "Как модели точно возьмите LogisticRegression, KNN и константу, можете придумать еще какие-нибудь.\n",
        "\n",
        "Как метрики точно возьмите accuracy, precision, recall, f1, roc_auc. Постройте ROC-кривую."
      ]
    },
    {
      "cell_type": "code",
      "metadata": {
        "id": "Mwhd4rAKHCIa"
      },
      "source": [
        "const_pred = np.zeros(len(X_test))"
      ],
      "execution_count": null,
      "outputs": []
    },
    {
      "cell_type": "code",
      "metadata": {
        "id": "YpHDGRN4HCIb"
      },
      "source": [
        "knn = KNeighborsClassifier(n_neighbors=4)\n",
        "knn.fit(X_train, y_train)\n",
        "knn_pred = knn.predict(X_test)"
      ],
      "execution_count": null,
      "outputs": []
    },
    {
      "cell_type": "code",
      "metadata": {
        "id": "Om70agyuBurR"
      },
      "source": [
        "knn_pred_proba = knn.predict_proba(X_test)[:, 1]"
      ],
      "execution_count": null,
      "outputs": []
    },
    {
      "cell_type": "code",
      "metadata": {
        "colab": {
          "base_uri": "https://localhost:8080/"
        },
        "id": "By-CoJeipKJb",
        "outputId": "fccf78db-52f6-4a03-b3b0-9b5cf16cbc2d"
      },
      "source": [
        "logreg = LogisticRegression(random_state=42)\n",
        "logreg.fit(X_train, y_train)\n",
        "logreg_pred = logreg.predict(X_test)\n",
        "logreg_pred_proba = logreg.predict_proba(X_test)[:, 1]"
      ],
      "execution_count": null,
      "outputs": [
        {
          "output_type": "stream",
          "name": "stderr",
          "text": [
            "/usr/local/lib/python3.7/dist-packages/sklearn/linear_model/_logistic.py:818: ConvergenceWarning: lbfgs failed to converge (status=1):\n",
            "STOP: TOTAL NO. of ITERATIONS REACHED LIMIT.\n",
            "\n",
            "Increase the number of iterations (max_iter) or scale the data as shown in:\n",
            "    https://scikit-learn.org/stable/modules/preprocessing.html\n",
            "Please also refer to the documentation for alternative solver options:\n",
            "    https://scikit-learn.org/stable/modules/linear_model.html#logistic-regression\n",
            "  extra_warning_msg=_LOGISTIC_SOLVER_CONVERGENCE_MSG,\n"
          ]
        }
      ]
    },
    {
      "cell_type": "code",
      "metadata": {
        "colab": {
          "base_uri": "https://localhost:8080/"
        },
        "id": "H3pFqTwupfJi",
        "outputId": "6e2a4cfb-2168-48d5-b36f-cd3640cf33a3"
      },
      "source": [
        "bin_metrics = {\"LogLos\": log_loss, \"Accuracy\": accuracy_score, \n",
        "               \"Precision\": precision_score, \"Recall\": recall_score, \n",
        "               \"F1\": f1_score}\n",
        "\n",
        "for name_metric, metric in bin_metrics.items():\n",
        "  print(name_metric)\n",
        "  print(f\"Const = {metric(y_test, const_pred)}\")\n",
        "  print(f\"KNN = {metric(y_test, knn_pred)}\")\n",
        "  print(f\"LogReg = {metric(y_test, logreg_pred)}\")\n",
        "  print()\n",
        "\n",
        "print(\"ROC-AUC\")\n",
        "print(f\"Const = {roc_auc_score(y_test, const_pred)}\")\n",
        "print(f\"KNN = {roc_auc_score(y_test, knn_pred_proba)}\")\n",
        "print(f\"LogReg = {roc_auc_score(y_test, logreg_pred_proba)}\")"
      ],
      "execution_count": null,
      "outputs": [
        {
          "output_type": "stream",
          "name": "stderr",
          "text": [
            "/usr/local/lib/python3.7/dist-packages/sklearn/metrics/_classification.py:1308: UndefinedMetricWarning: Precision is ill-defined and being set to 0.0 due to no predicted samples. Use `zero_division` parameter to control this behavior.\n",
            "  _warn_prf(average, modifier, msg_start, len(result))\n"
          ]
        },
        {
          "output_type": "stream",
          "name": "stdout",
          "text": [
            "LogLos\n",
            "Const = 0.05942207237634395\n",
            "KNN = 0.05639033398979583\n",
            "LogReg = 0.047295610138568644\n",
            "\n",
            "Accuracy\n",
            "Const = 0.9982795547909132\n",
            "KNN = 0.9983673326077034\n",
            "LogReg = 0.9986306660580738\n",
            "\n",
            "Precision\n",
            "Const = 0.0\n",
            "KNN = 1.0\n",
            "LogReg = 0.6111111111111112\n",
            "\n",
            "Recall\n",
            "Const = 0.0\n",
            "KNN = 0.05102040816326531\n",
            "LogReg = 0.5612244897959183\n",
            "\n",
            "F1\n",
            "Const = 0.0\n",
            "KNN = 0.09708737864077671\n",
            "LogReg = 0.5851063829787235\n",
            "\n",
            "ROC-AUC\n",
            "Const = 0.5\n",
            "KNN = 0.6010812227958149\n",
            "LogReg = 0.9009455428203921\n"
          ]
        }
      ]
    },
    {
      "cell_type": "markdown",
      "metadata": {
        "id": "iDDUBP9Y7nnW"
      },
      "source": [
        "ROC-кривые"
      ]
    },
    {
      "cell_type": "code",
      "metadata": {
        "id": "GOCsN_2l5hLv"
      },
      "source": [
        "def draw_roc_curve(pred, title):\n",
        "  fpr, tpr, thresholds = roc_curve(y_test, pred)\n",
        "  plt.plot(fpr, tpr, 'b', linewidth=3)\n",
        "  plt.plot([0, 1], [0, 1], 'k--')\n",
        "  plt.plot([0, 0], [0, 1], 'k')\n",
        "  plt.plot([1, 1], [0, 1], 'k')\n",
        "  plt.plot([0, 1], [0, 0], 'k')\n",
        "  plt.plot([0, 1], [1, 1], 'k')\n",
        "  plt.xlabel('False positive rate')\n",
        "  plt.ylabel('True positive rate')\n",
        "  plt.axis('equal')\n",
        "  plt.title(title)"
      ],
      "execution_count": null,
      "outputs": []
    },
    {
      "cell_type": "code",
      "metadata": {
        "colab": {
          "base_uri": "https://localhost:8080/",
          "height": 458
        },
        "id": "KvB5EWlc5Shi",
        "outputId": "8ecfb8ad-e4ec-4b61-f1a5-4548b12b59b9"
      },
      "source": [
        "plt.figure(figsize=(7, 7))\n",
        "draw_roc_curve(const_pred, \"Const roc curve\")"
      ],
      "execution_count": null,
      "outputs": [
        {
          "output_type": "display_data",
          "data": {
            "image/png": "[encoded data removed]",
            "text/plain": [
              "<Figure size 504x504 with 1 Axes>"
            ]
          },
          "metadata": {
            "needs_background": "light"
          }
        }
      ]
    },
    {
      "cell_type": "code",
      "metadata": {
        "colab": {
          "base_uri": "https://localhost:8080/",
          "height": 458
        },
        "id": "smkCkGpPBrun",
        "outputId": "52ff3b51-ce91-464a-a47e-4bd9c4d16979"
      },
      "source": [
        "plt.figure(figsize=(7, 7))\n",
        "draw_roc_curve(knn_pred_proba, \"KNN roc curve\")"
      ],
      "execution_count": null,
      "outputs": [
        {
          "output_type": "display_data",
          "data": {
            "image/png": "[encoded data removed]",
            "text/plain": [
              "<Figure size 504x504 with 1 Axes>"
            ]
          },
          "metadata": {
            "needs_background": "light"
          }
        }
      ]
    },
    {
      "cell_type": "code",
      "metadata": {
        "colab": {
          "base_uri": "https://localhost:8080/",
          "height": 458
        },
        "id": "tpP_qIzH7ev7",
        "outputId": "ce6b1c4f-5bc7-4d91-8d3f-c263b5b353a0"
      },
      "source": [
        "plt.figure(figsize=(7, 7))\n",
        "draw_roc_curve(logreg_pred_proba, \"Logreg roc curve\")"
      ],
      "execution_count": null,
      "outputs": [
        {
          "output_type": "display_data",
          "data": {
            "image/png": "[encoded data removed]",
            "text/plain": [
              "<Figure size 504x504 with 1 Axes>"
            ]
          },
          "metadata": {
            "needs_background": "light"
          }
        }
      ]
    },
    {
      "cell_type": "markdown",
      "metadata": {
        "id": "XU5l7FXlHCIc"
      },
      "source": [
        "### (1 балл) Выберите одну метрику, которую вы будете максимизировать\n",
        "\n",
        "Представьте, что вы решаете задачу автоматического поиска мошеннических транзакций, чтобы ваш робот автоматически банил пользователей, который их осуществляют.\n",
        "\n",
        "Обоснуйте свой выбор."
      ]
    },
    {
      "cell_type": "markdown",
      "metadata": {
        "id": "faKk9ElPAxbL"
      },
      "source": [
        "Я бы максимизировал метрику ROC-AUC для логистической регрессии. Она лучше показывает точность модели, учитывая, что класса 0 больше."
      ]
    },
    {
      "cell_type": "markdown",
      "metadata": {
        "id": "Mlshg2WSHCId"
      },
      "source": [
        "### (2 балла) Переберите гиперпараметры разных моделей, попытайтесь добиться лучшего результата по этой метрике\n",
        "\n",
        "Постройте график для каждого перебора, сделайте красивый отчет (не надо просто говорить \"я решил выбрать 2, 0.7 и 6, так не пойдет\".\n",
        "\n",
        "Можно преобразовывать датасет, преобразовывать, добавлять, удалять фичи, всё что угодно.\n",
        "\n",
        "Отсутствие результата тоже результат (вдруг вы перебрали кучу вещей, а лучший все еще самый первый запуск, главное что перебрали)."
      ]
    },
    {
      "cell_type": "markdown",
      "metadata": {
        "id": "Lt6RofaEUik6"
      },
      "source": [
        "Применим стандартизацию"
      ]
    },
    {
      "cell_type": "code",
      "metadata": {
        "id": "TMetc9i_UiHM"
      },
      "source": [
        "sdc = StandardScaler()\n",
        "X_sdc = sdc.fit_transform(X)"
      ],
      "execution_count": null,
      "outputs": []
    },
    {
      "cell_type": "code",
      "metadata": {
        "colab": {
          "base_uri": "https://localhost:8080/"
        },
        "id": "_WJAbwTgUiJf",
        "outputId": "82e1426b-1852-4327-c446-090bc1fcd545"
      },
      "source": [
        "X_train, X_test, y_train, y_test = train_test_split(X_sdc, y.values, \n",
        "                                                    test_size=0.2, random_state=42)\n",
        "X_train.shape, X_test.shape, y_train.shape, y_test.shape"
      ],
      "execution_count": null,
      "outputs": [
        {
          "output_type": "execute_result",
          "data": {
            "text/plain": [
              "((227845, 30), (56962, 30), (227845,), (56962,))"
            ]
          },
          "metadata": {},
          "execution_count": 61
        }
      ]
    },
    {
      "cell_type": "markdown",
      "metadata": {
        "id": "jd97eLQyVFdK"
      },
      "source": [
        "Кроссвалидация + подбор гиперпараметров для линейной регрессии"
      ]
    },
    {
      "cell_type": "code",
      "metadata": {
        "colab": {
          "base_uri": "https://localhost:8080/"
        },
        "id": "iKP-TmsjHCIe",
        "outputId": "847ba3b6-3514-4cbb-b1a5-c0a68ef6af4d"
      },
      "source": [
        "grid_logreg = {\"penalty\": ['l1', 'l2', \"elasticnet\", \"none\"],\n",
        "               \"C\": np.arange(1.0, 3.0, 0.5),\n",
        "               \"random_state\": [42]}\n",
        "\n",
        "cross_val_logreg = GridSearchCV(LogisticRegression(), grid_logreg, cv=5, verbose=3)\n",
        "cross_val_logreg.fit(X_train, y_train)"
      ],
      "execution_count": null,
      "outputs": [
        {
          "output_type": "stream",
          "name": "stdout",
          "text": [
            "Fitting 5 folds for each of 16 candidates, totalling 80 fits\n",
            "[CV 1/5] END ..C=1.0, penalty=l1, random_state=42;, score=nan total time=   0.0s\n",
            "[CV 2/5] END ..C=1.0, penalty=l1, random_state=42;, score=nan total time=   0.0s\n",
            "[CV 3/5] END ..C=1.0, penalty=l1, random_state=42;, score=nan total time=   0.0s\n",
            "[CV 4/5] END ..C=1.0, penalty=l1, random_state=42;, score=nan total time=   0.0s\n",
            "[CV 5/5] END ..C=1.0, penalty=l1, random_state=42;, score=nan total time=   0.0s\n",
            "[CV 1/5] END C=1.0, penalty=l2, random_state=42;, score=0.999 total time=   2.0s\n",
            "[CV 2/5] END C=1.0, penalty=l2, random_state=42;, score=0.999 total time=   2.2s\n",
            "[CV 3/5] END C=1.0, penalty=l2, random_state=42;, score=0.999 total time=   2.2s\n",
            "[CV 4/5] END C=1.0, penalty=l2, random_state=42;, score=0.999 total time=   2.3s\n",
            "[CV 5/5] END C=1.0, penalty=l2, random_state=42;, score=0.999 total time=   2.3s\n",
            "[CV 1/5] END C=1.0, penalty=elasticnet, random_state=42;, score=nan total time=   0.0s\n",
            "[CV 2/5] END C=1.0, penalty=elasticnet, random_state=42;, score=nan total time=   0.0s\n",
            "[CV 3/5] END C=1.0, penalty=elasticnet, random_state=42;, score=nan total time=   0.0s\n",
            "[CV 4/5] END C=1.0, penalty=elasticnet, random_state=42;, score=nan total time=   0.0s\n",
            "[CV 5/5] END C=1.0, penalty=elasticnet, random_state=42;, score=nan total time=   0.0s\n",
            "[CV 1/5] END C=1.0, penalty=none, random_state=42;, score=0.999 total time=   2.0s\n",
            "[CV 2/5] END C=1.0, penalty=none, random_state=42;, score=0.999 total time=   2.5s\n",
            "[CV 3/5] END C=1.0, penalty=none, random_state=42;, score=0.999 total time=   2.3s\n",
            "[CV 4/5] END C=1.0, penalty=none, random_state=42;, score=0.999 total time=   2.4s\n",
            "[CV 5/5] END C=1.0, penalty=none, random_state=42;, score=0.999 total time=   2.2s\n",
            "[CV 1/5] END ..C=1.5, penalty=l1, random_state=42;, score=nan total time=   0.0s\n",
            "[CV 2/5] END ..C=1.5, penalty=l1, random_state=42;, score=nan total time=   0.0s\n",
            "[CV 3/5] END ..C=1.5, penalty=l1, random_state=42;, score=nan total time=   0.0s\n",
            "[CV 4/5] END ..C=1.5, penalty=l1, random_state=42;, score=nan total time=   0.0s\n",
            "[CV 5/5] END ..C=1.5, penalty=l1, random_state=42;, score=nan total time=   0.0s\n",
            "[CV 1/5] END C=1.5, penalty=l2, random_state=42;, score=0.999 total time=   2.1s\n",
            "[CV 2/5] END C=1.5, penalty=l2, random_state=42;, score=0.999 total time=   2.3s\n",
            "[CV 3/5] END C=1.5, penalty=l2, random_state=42;, score=0.999 total time=   2.3s\n",
            "[CV 4/5] END C=1.5, penalty=l2, random_state=42;, score=0.999 total time=   2.4s\n",
            "[CV 5/5] END C=1.5, penalty=l2, random_state=42;, score=0.999 total time=   2.2s\n",
            "[CV 1/5] END C=1.5, penalty=elasticnet, random_state=42;, score=nan total time=   0.0s\n",
            "[CV 2/5] END C=1.5, penalty=elasticnet, random_state=42;, score=nan total time=   0.0s\n",
            "[CV 3/5] END C=1.5, penalty=elasticnet, random_state=42;, score=nan total time=   0.0s\n",
            "[CV 4/5] END C=1.5, penalty=elasticnet, random_state=42;, score=nan total time=   0.0s\n",
            "[CV 5/5] END C=1.5, penalty=elasticnet, random_state=42;, score=nan total time=   0.0s\n"
          ]
        },
        {
          "output_type": "stream",
          "name": "stderr",
          "text": [
            "/usr/local/lib/python3.7/dist-packages/sklearn/linear_model/_logistic.py:1484: UserWarning: Setting penalty='none' will ignore the C and l1_ratio parameters\n",
            "  \"Setting penalty='none' will ignore the C and l1_ratio parameters\"\n"
          ]
        },
        {
          "output_type": "stream",
          "name": "stdout",
          "text": [
            "[CV 1/5] END C=1.5, penalty=none, random_state=42;, score=0.999 total time=   2.0s\n"
          ]
        },
        {
          "output_type": "stream",
          "name": "stderr",
          "text": [
            "/usr/local/lib/python3.7/dist-packages/sklearn/linear_model/_logistic.py:1484: UserWarning: Setting penalty='none' will ignore the C and l1_ratio parameters\n",
            "  \"Setting penalty='none' will ignore the C and l1_ratio parameters\"\n"
          ]
        },
        {
          "output_type": "stream",
          "name": "stdout",
          "text": [
            "[CV 2/5] END C=1.5, penalty=none, random_state=42;, score=0.999 total time=   2.5s\n"
          ]
        },
        {
          "output_type": "stream",
          "name": "stderr",
          "text": [
            "/usr/local/lib/python3.7/dist-packages/sklearn/linear_model/_logistic.py:1484: UserWarning: Setting penalty='none' will ignore the C and l1_ratio parameters\n",
            "  \"Setting penalty='none' will ignore the C and l1_ratio parameters\"\n"
          ]
        },
        {
          "output_type": "stream",
          "name": "stdout",
          "text": [
            "[CV 3/5] END C=1.5, penalty=none, random_state=42;, score=0.999 total time=   2.3s\n"
          ]
        },
        {
          "output_type": "stream",
          "name": "stderr",
          "text": [
            "/usr/local/lib/python3.7/dist-packages/sklearn/linear_model/_logistic.py:1484: UserWarning: Setting penalty='none' will ignore the C and l1_ratio parameters\n",
            "  \"Setting penalty='none' will ignore the C and l1_ratio parameters\"\n"
          ]
        },
        {
          "output_type": "stream",
          "name": "stdout",
          "text": [
            "[CV 4/5] END C=1.5, penalty=none, random_state=42;, score=0.999 total time=   2.4s\n"
          ]
        },
        {
          "output_type": "stream",
          "name": "stderr",
          "text": [
            "/usr/local/lib/python3.7/dist-packages/sklearn/linear_model/_logistic.py:1484: UserWarning: Setting penalty='none' will ignore the C and l1_ratio parameters\n",
            "  \"Setting penalty='none' will ignore the C and l1_ratio parameters\"\n"
          ]
        },
        {
          "output_type": "stream",
          "name": "stdout",
          "text": [
            "[CV 5/5] END C=1.5, penalty=none, random_state=42;, score=0.999 total time=   2.2s\n",
            "[CV 1/5] END ..C=2.0, penalty=l1, random_state=42;, score=nan total time=   0.0s\n",
            "[CV 2/5] END ..C=2.0, penalty=l1, random_state=42;, score=nan total time=   0.0s\n",
            "[CV 3/5] END ..C=2.0, penalty=l1, random_state=42;, score=nan total time=   0.0s\n",
            "[CV 4/5] END ..C=2.0, penalty=l1, random_state=42;, score=nan total time=   0.0s\n",
            "[CV 5/5] END ..C=2.0, penalty=l1, random_state=42;, score=nan total time=   0.0s\n",
            "[CV 1/5] END C=2.0, penalty=l2, random_state=42;, score=0.999 total time=   2.0s\n",
            "[CV 2/5] END C=2.0, penalty=l2, random_state=42;, score=0.999 total time=   2.4s\n",
            "[CV 3/5] END C=2.0, penalty=l2, random_state=42;, score=0.999 total time=   2.3s\n",
            "[CV 4/5] END C=2.0, penalty=l2, random_state=42;, score=0.999 total time=   2.3s\n",
            "[CV 5/5] END C=2.0, penalty=l2, random_state=42;, score=0.999 total time=   2.2s\n",
            "[CV 1/5] END C=2.0, penalty=elasticnet, random_state=42;, score=nan total time=   0.0s\n",
            "[CV 2/5] END C=2.0, penalty=elasticnet, random_state=42;, score=nan total time=   0.0s\n",
            "[CV 3/5] END C=2.0, penalty=elasticnet, random_state=42;, score=nan total time=   0.0s\n",
            "[CV 4/5] END C=2.0, penalty=elasticnet, random_state=42;, score=nan total time=   0.0s\n",
            "[CV 5/5] END C=2.0, penalty=elasticnet, random_state=42;, score=nan total time=   0.0s\n"
          ]
        },
        {
          "output_type": "stream",
          "name": "stderr",
          "text": [
            "/usr/local/lib/python3.7/dist-packages/sklearn/linear_model/_logistic.py:1484: UserWarning: Setting penalty='none' will ignore the C and l1_ratio parameters\n",
            "  \"Setting penalty='none' will ignore the C and l1_ratio parameters\"\n"
          ]
        },
        {
          "output_type": "stream",
          "name": "stdout",
          "text": [
            "[CV 1/5] END C=2.0, penalty=none, random_state=42;, score=0.999 total time=   2.0s\n"
          ]
        },
        {
          "output_type": "stream",
          "name": "stderr",
          "text": [
            "/usr/local/lib/python3.7/dist-packages/sklearn/linear_model/_logistic.py:1484: UserWarning: Setting penalty='none' will ignore the C and l1_ratio parameters\n",
            "  \"Setting penalty='none' will ignore the C and l1_ratio parameters\"\n"
          ]
        },
        {
          "output_type": "stream",
          "name": "stdout",
          "text": [
            "[CV 2/5] END C=2.0, penalty=none, random_state=42;, score=0.999 total time=   2.5s\n"
          ]
        },
        {
          "output_type": "stream",
          "name": "stderr",
          "text": [
            "/usr/local/lib/python3.7/dist-packages/sklearn/linear_model/_logistic.py:1484: UserWarning: Setting penalty='none' will ignore the C and l1_ratio parameters\n",
            "  \"Setting penalty='none' will ignore the C and l1_ratio parameters\"\n"
          ]
        },
        {
          "output_type": "stream",
          "name": "stdout",
          "text": [
            "[CV 3/5] END C=2.0, penalty=none, random_state=42;, score=0.999 total time=   2.3s\n"
          ]
        },
        {
          "output_type": "stream",
          "name": "stderr",
          "text": [
            "/usr/local/lib/python3.7/dist-packages/sklearn/linear_model/_logistic.py:1484: UserWarning: Setting penalty='none' will ignore the C and l1_ratio parameters\n",
            "  \"Setting penalty='none' will ignore the C and l1_ratio parameters\"\n"
          ]
        },
        {
          "output_type": "stream",
          "name": "stdout",
          "text": [
            "[CV 4/5] END C=2.0, penalty=none, random_state=42;, score=0.999 total time=   2.4s\n"
          ]
        },
        {
          "output_type": "stream",
          "name": "stderr",
          "text": [
            "/usr/local/lib/python3.7/dist-packages/sklearn/linear_model/_logistic.py:1484: UserWarning: Setting penalty='none' will ignore the C and l1_ratio parameters\n",
            "  \"Setting penalty='none' will ignore the C and l1_ratio parameters\"\n"
          ]
        },
        {
          "output_type": "stream",
          "name": "stdout",
          "text": [
            "[CV 5/5] END C=2.0, penalty=none, random_state=42;, score=0.999 total time=   2.2s\n",
            "[CV 1/5] END ..C=2.5, penalty=l1, random_state=42;, score=nan total time=   0.0s\n",
            "[CV 2/5] END ..C=2.5, penalty=l1, random_state=42;, score=nan total time=   0.0s\n",
            "[CV 3/5] END ..C=2.5, penalty=l1, random_state=42;, score=nan total time=   0.0s\n",
            "[CV 4/5] END ..C=2.5, penalty=l1, random_state=42;, score=nan total time=   0.0s\n",
            "[CV 5/5] END ..C=2.5, penalty=l1, random_state=42;, score=nan total time=   0.0s\n",
            "[CV 1/5] END C=2.5, penalty=l2, random_state=42;, score=0.999 total time=   2.0s\n",
            "[CV 2/5] END C=2.5, penalty=l2, random_state=42;, score=0.999 total time=   2.4s\n",
            "[CV 3/5] END C=2.5, penalty=l2, random_state=42;, score=0.999 total time=   2.4s\n",
            "[CV 4/5] END C=2.5, penalty=l2, random_state=42;, score=0.999 total time=   2.2s\n",
            "[CV 5/5] END C=2.5, penalty=l2, random_state=42;, score=0.999 total time=   2.2s\n",
            "[CV 1/5] END C=2.5, penalty=elasticnet, random_state=42;, score=nan total time=   0.0s\n",
            "[CV 2/5] END C=2.5, penalty=elasticnet, random_state=42;, score=nan total time=   0.0s\n",
            "[CV 3/5] END C=2.5, penalty=elasticnet, random_state=42;, score=nan total time=   0.0s\n",
            "[CV 4/5] END C=2.5, penalty=elasticnet, random_state=42;, score=nan total time=   0.0s\n",
            "[CV 5/5] END C=2.5, penalty=elasticnet, random_state=42;, score=nan total time=   0.0s\n"
          ]
        },
        {
          "output_type": "stream",
          "name": "stderr",
          "text": [
            "/usr/local/lib/python3.7/dist-packages/sklearn/linear_model/_logistic.py:1484: UserWarning: Setting penalty='none' will ignore the C and l1_ratio parameters\n",
            "  \"Setting penalty='none' will ignore the C and l1_ratio parameters\"\n"
          ]
        },
        {
          "output_type": "stream",
          "name": "stdout",
          "text": [
            "[CV 1/5] END C=2.5, penalty=none, random_state=42;, score=0.999 total time=   2.0s\n"
          ]
        },
        {
          "output_type": "stream",
          "name": "stderr",
          "text": [
            "/usr/local/lib/python3.7/dist-packages/sklearn/linear_model/_logistic.py:1484: UserWarning: Setting penalty='none' will ignore the C and l1_ratio parameters\n",
            "  \"Setting penalty='none' will ignore the C and l1_ratio parameters\"\n"
          ]
        },
        {
          "output_type": "stream",
          "name": "stdout",
          "text": [
            "[CV 2/5] END C=2.5, penalty=none, random_state=42;, score=0.999 total time=   2.6s\n"
          ]
        },
        {
          "output_type": "stream",
          "name": "stderr",
          "text": [
            "/usr/local/lib/python3.7/dist-packages/sklearn/linear_model/_logistic.py:1484: UserWarning: Setting penalty='none' will ignore the C and l1_ratio parameters\n",
            "  \"Setting penalty='none' will ignore the C and l1_ratio parameters\"\n"
          ]
        },
        {
          "output_type": "stream",
          "name": "stdout",
          "text": [
            "[CV 3/5] END C=2.5, penalty=none, random_state=42;, score=0.999 total time=   2.3s\n"
          ]
        },
        {
          "output_type": "stream",
          "name": "stderr",
          "text": [
            "/usr/local/lib/python3.7/dist-packages/sklearn/linear_model/_logistic.py:1484: UserWarning: Setting penalty='none' will ignore the C and l1_ratio parameters\n",
            "  \"Setting penalty='none' will ignore the C and l1_ratio parameters\"\n"
          ]
        },
        {
          "output_type": "stream",
          "name": "stdout",
          "text": [
            "[CV 4/5] END C=2.5, penalty=none, random_state=42;, score=0.999 total time=   2.4s\n"
          ]
        },
        {
          "output_type": "stream",
          "name": "stderr",
          "text": [
            "/usr/local/lib/python3.7/dist-packages/sklearn/linear_model/_logistic.py:1484: UserWarning: Setting penalty='none' will ignore the C and l1_ratio parameters\n",
            "  \"Setting penalty='none' will ignore the C and l1_ratio parameters\"\n"
          ]
        },
        {
          "output_type": "stream",
          "name": "stdout",
          "text": [
            "[CV 5/5] END C=2.5, penalty=none, random_state=42;, score=0.999 total time=   2.2s\n"
          ]
        },
        {
          "output_type": "stream",
          "name": "stderr",
          "text": [
            "/usr/local/lib/python3.7/dist-packages/sklearn/model_selection/_validation.py:372: FitFailedWarning: \n",
            "40 fits failed out of a total of 80.\n",
            "The score on these train-test partitions for these parameters will be set to nan.\n",
            "If these failures are not expected, you can try to debug them by setting error_score='raise'.\n",
            "\n",
            "Below are more details about the failures:\n",
            "--------------------------------------------------------------------------------\n",
            "20 fits failed with the following error:\n",
            "Traceback (most recent call last):\n",
            "  File \"/usr/local/lib/python3.7/dist-packages/sklearn/model_selection/_validation.py\", line 681, in _fit_and_score\n",
            "    estimator.fit(X_train, y_train, **fit_params)\n",
            "  File \"/usr/local/lib/python3.7/dist-packages/sklearn/linear_model/_logistic.py\", line 1461, in fit\n",
            "    solver = _check_solver(self.solver, self.penalty, self.dual)\n",
            "  File \"/usr/local/lib/python3.7/dist-packages/sklearn/linear_model/_logistic.py\", line 449, in _check_solver\n",
            "    % (solver, penalty)\n",
            "ValueError: Solver lbfgs supports only 'l2' or 'none' penalties, got l1 penalty.\n",
            "\n",
            "--------------------------------------------------------------------------------\n",
            "20 fits failed with the following error:\n",
            "Traceback (most recent call last):\n",
            "  File \"/usr/local/lib/python3.7/dist-packages/sklearn/model_selection/_validation.py\", line 681, in _fit_and_score\n",
            "    estimator.fit(X_train, y_train, **fit_params)\n",
            "  File \"/usr/local/lib/python3.7/dist-packages/sklearn/linear_model/_logistic.py\", line 1461, in fit\n",
            "    solver = _check_solver(self.solver, self.penalty, self.dual)\n",
            "  File \"/usr/local/lib/python3.7/dist-packages/sklearn/linear_model/_logistic.py\", line 449, in _check_solver\n",
            "    % (solver, penalty)\n",
            "ValueError: Solver lbfgs supports only 'l2' or 'none' penalties, got elasticnet penalty.\n",
            "\n",
            "  warnings.warn(some_fits_failed_message, FitFailedWarning)\n",
            "/usr/local/lib/python3.7/dist-packages/sklearn/model_selection/_search.py:972: UserWarning: One or more of the test scores are non-finite: [       nan 0.99921877        nan 0.99922316        nan 0.99921877\n",
            "        nan 0.99922316        nan 0.99921877        nan 0.99922316\n",
            "        nan 0.99921877        nan 0.99922316]\n",
            "  category=UserWarning,\n"
          ]
        },
        {
          "output_type": "execute_result",
          "data": {
            "text/plain": [
              "GridSearchCV(cv=5, estimator=LogisticRegression(),\n",
              "             param_grid={'C': array([1. , 1.5, 2. , 2.5]),\n",
              "                         'penalty': ['l1', 'l2', 'elasticnet', 'none'],\n",
              "                         'random_state': [42]},\n",
              "             verbose=3)"
            ]
          },
          "metadata": {},
          "execution_count": 62
        }
      ]
    },
    {
      "cell_type": "code",
      "metadata": {
        "colab": {
          "base_uri": "https://localhost:8080/"
        },
        "id": "FMV0T7ENXMSN",
        "outputId": "0377b7a0-86a3-4e96-a302-3d31f89848cb"
      },
      "source": [
        "cross_val_logreg.best_params_"
      ],
      "execution_count": null,
      "outputs": [
        {
          "output_type": "execute_result",
          "data": {
            "text/plain": [
              "{'C': 1.0, 'penalty': 'none', 'random_state': 42}"
            ]
          },
          "metadata": {},
          "execution_count": 63
        }
      ]
    },
    {
      "cell_type": "code",
      "metadata": {
        "id": "pIEFw1N2HCIf"
      },
      "source": [
        "cross_val_logreg_pred_proba = cross_val_logreg.predict_proba(X_test)[:, 1]\n",
        "cross_val_logreg_pred = cross_val_logreg.predict(X_test)"
      ],
      "execution_count": null,
      "outputs": []
    },
    {
      "cell_type": "code",
      "metadata": {
        "colab": {
          "base_uri": "https://localhost:8080/",
          "height": 477
        },
        "id": "0NqToE7oO1gr",
        "outputId": "e5795e49-eb62-4004-ffa4-691a61cd4f53"
      },
      "source": [
        "print(roc_auc_score(y_test, cross_val_logreg_pred_proba))\n",
        "plt.figure(figsize=(7, 7))\n",
        "draw_roc_curve(cross_val_logreg_pred_proba, \"Кроссвалидация + подбор гиперпараметров для логистической регрессии\")"
      ],
      "execution_count": null,
      "outputs": [
        {
          "output_type": "stream",
          "name": "stdout",
          "text": [
            "0.9746656541063246\n"
          ]
        },
        {
          "output_type": "display_data",
          "data": {
            "image/png": "[encoded data removed]",
            "text/plain": [
              "<Figure size 504x504 with 1 Axes>"
            ]
          },
          "metadata": {
            "needs_background": "light"
          }
        }
      ]
    },
    {
      "cell_type": "markdown",
      "metadata": {
        "id": "op0Wzr7kXWO2"
      },
      "source": [
        "**ROC-AUC** повысился на 7%\n",
        "\n",
        "**F1** мера повысилась на 11%\n",
        "\n",
        "**Precision** повысился на 25%"
      ]
    },
    {
      "cell_type": "code",
      "metadata": {
        "colab": {
          "base_uri": "https://localhost:8080/"
        },
        "id": "Qj8nOsHsXq4t",
        "outputId": "f49990cf-2b88-42aa-862c-e54ba28490d0"
      },
      "source": [
        "bin_metrics = {\"LogLos\": log_loss, \"Accuracy\": accuracy_score, \n",
        "               \"Precision\": precision_score, \"Recall\": recall_score, \n",
        "               \"F1\": f1_score}\n",
        "\n",
        "for name_metric, metric in bin_metrics.items():\n",
        "  print(name_metric)\n",
        "  metric_score1 = round(metric(y_test, logreg_pred), 2)\n",
        "  metric_score2 = round(metric(y_test, cross_val_logreg_pred), 2)\n",
        "\n",
        "  print(f\"LogReg = {metric_score1}\")\n",
        "  print(f\"Improved LogReg = {metric_score2}\")\n",
        "  print(f\"Difference = {round(metric_score2 - metric_score1, 2)}\")\n",
        "  print()\n",
        "\n",
        "metric_score1 = round(roc_auc_score(y_test, logreg_pred_proba), 2)\n",
        "metric_score2 = round(roc_auc_score(y_test, cross_val_logreg_pred_proba), 2)\n",
        "print(\"ROC-AUC\")\n",
        "print(f\"LogReg = {metric_score1}\")\n",
        "print(f\"Improved LogReg = {metric_score2}\")\n",
        "print(f\"Difference = {round(metric_score2 - metric_score1, 2)}\")"
      ],
      "execution_count": null,
      "outputs": [
        {
          "output_type": "stream",
          "name": "stdout",
          "text": [
            "LogLos\n",
            "LogReg = 0.05\n",
            "Improved LogReg = 0.03\n",
            "Difference = -0.02\n",
            "\n",
            "Accuracy\n",
            "LogReg = 1.0\n",
            "Improved LogReg = 1.0\n",
            "Difference = 0.0\n",
            "\n",
            "Precision\n",
            "LogReg = 0.61\n",
            "Improved LogReg = 0.86\n",
            "Difference = 0.25\n",
            "\n",
            "Recall\n",
            "LogReg = 0.56\n",
            "Improved LogReg = 0.58\n",
            "Difference = 0.02\n",
            "\n",
            "F1\n",
            "LogReg = 0.59\n",
            "Improved LogReg = 0.7\n",
            "Difference = 0.11\n",
            "\n",
            "ROC-AUC\n",
            "LogReg = 0.9\n",
            "Improved LogReg = 0.97\n",
            "Difference = 0.07\n"
          ]
        }
      ]
    },
    {
      "cell_type": "markdown",
      "metadata": {
        "id": "ztmqOhliZRAP"
      },
      "source": [
        "Обучим дерево решений и случайный лес"
      ]
    },
    {
      "cell_type": "code",
      "metadata": {
        "colab": {
          "base_uri": "https://localhost:8080/"
        },
        "id": "ua_HYZQTZ80o",
        "outputId": "96179baf-5b9d-4572-a6a1-8b062281cb37"
      },
      "source": [
        "grid_tree = {\"criterion\": (\"gini\", \"entropy\"),\n",
        "             \"max_depth\": np.arange(3, 20),\n",
        "             \"splitter\": [\"best\", \"random\"],\n",
        "             \"random_state\": [42]}\n",
        "\n",
        "tree = GridSearchCV(DecisionTreeClassifier(), grid_tree, cv=5, verbose=3)\n",
        "tree.fit(X_train, y_train)"
      ],
      "execution_count": null,
      "outputs": [
        {
          "output_type": "stream",
          "name": "stdout",
          "text": [
            "Fitting 5 folds for each of 68 candidates, totalling 340 fits\n",
            "[CV 1/5] END criterion=gini, max_depth=3, random_state=42, splitter=best;, score=0.999 total time=   3.3s\n",
            "[CV 2/5] END criterion=gini, max_depth=3, random_state=42, splitter=best;, score=0.999 total time=   3.3s\n",
            "[CV 3/5] END criterion=gini, max_depth=3, random_state=42, splitter=best;, score=0.999 total time=   3.3s\n",
            "[CV 4/5] END criterion=gini, max_depth=3, random_state=42, splitter=best;, score=0.999 total time=   3.3s\n",
            "[CV 5/5] END criterion=gini, max_depth=3, random_state=42, splitter=best;, score=0.999 total time=   3.3s\n",
            "[CV 1/5] END criterion=gini, max_depth=3, random_state=42, splitter=random;, score=0.999 total time=   0.2s\n",
            "[CV 2/5] END criterion=gini, max_depth=3, random_state=42, splitter=random;, score=0.999 total time=   0.2s\n",
            "[CV 3/5] END criterion=gini, max_depth=3, random_state=42, splitter=random;, score=0.999 total time=   0.2s\n",
            "[CV 4/5] END criterion=gini, max_depth=3, random_state=42, splitter=random;, score=0.999 total time=   0.2s\n",
            "[CV 5/5] END criterion=gini, max_depth=3, random_state=42, splitter=random;, score=0.999 total time=   0.3s\n",
            "[CV 1/5] END criterion=gini, max_depth=4, random_state=42, splitter=best;, score=0.999 total time=   4.4s\n",
            "[CV 2/5] END criterion=gini, max_depth=4, random_state=42, splitter=best;, score=0.999 total time=   4.4s\n",
            "[CV 3/5] END criterion=gini, max_depth=4, random_state=42, splitter=best;, score=0.999 total time=   4.4s\n",
            "[CV 4/5] END criterion=gini, max_depth=4, random_state=42, splitter=best;, score=0.999 total time=   4.4s\n",
            "[CV 5/5] END criterion=gini, max_depth=4, random_state=42, splitter=best;, score=0.999 total time=   4.3s\n",
            "[CV 1/5] END criterion=gini, max_depth=4, random_state=42, splitter=random;, score=0.999 total time=   0.3s\n",
            "[CV 2/5] END criterion=gini, max_depth=4, random_state=42, splitter=random;, score=0.999 total time=   0.3s\n",
            "[CV 3/5] END criterion=gini, max_depth=4, random_state=42, splitter=random;, score=0.999 total time=   0.3s\n",
            "[CV 4/5] END criterion=gini, max_depth=4, random_state=42, splitter=random;, score=0.999 total time=   0.3s\n",
            "[CV 5/5] END criterion=gini, max_depth=4, random_state=42, splitter=random;, score=0.999 total time=   0.3s\n",
            "[CV 1/5] END criterion=gini, max_depth=5, random_state=42, splitter=best;, score=0.999 total time=   5.4s\n",
            "[CV 2/5] END criterion=gini, max_depth=5, random_state=42, splitter=best;, score=0.999 total time=   5.4s\n",
            "[CV 3/5] END criterion=gini, max_depth=5, random_state=42, splitter=best;, score=0.999 total time=   5.4s\n",
            "[CV 4/5] END criterion=gini, max_depth=5, random_state=42, splitter=best;, score=0.999 total time=   5.4s\n",
            "[CV 5/5] END criterion=gini, max_depth=5, random_state=42, splitter=best;, score=0.999 total time=   5.4s\n",
            "[CV 1/5] END criterion=gini, max_depth=5, random_state=42, splitter=random;, score=0.999 total time=   0.4s\n",
            "[CV 2/5] END criterion=gini, max_depth=5, random_state=42, splitter=random;, score=0.999 total time=   0.4s\n",
            "[CV 3/5] END criterion=gini, max_depth=5, random_state=42, splitter=random;, score=0.999 total time=   0.4s\n",
            "[CV 4/5] END criterion=gini, max_depth=5, random_state=42, splitter=random;, score=0.999 total time=   0.4s\n",
            "[CV 5/5] END criterion=gini, max_depth=5, random_state=42, splitter=random;, score=0.999 total time=   0.4s\n",
            "[CV 1/5] END criterion=gini, max_depth=6, random_state=42, splitter=best;, score=1.000 total time=   6.6s\n",
            "[CV 2/5] END criterion=gini, max_depth=6, random_state=42, splitter=best;, score=0.999 total time=   6.6s\n",
            "[CV 3/5] END criterion=gini, max_depth=6, random_state=42, splitter=best;, score=0.999 total time=   6.5s\n",
            "[CV 4/5] END criterion=gini, max_depth=6, random_state=42, splitter=best;, score=0.999 total time=   6.6s\n",
            "[CV 5/5] END criterion=gini, max_depth=6, random_state=42, splitter=best;, score=0.999 total time=   6.5s\n",
            "[CV 1/5] END criterion=gini, max_depth=6, random_state=42, splitter=random;, score=0.999 total time=   0.5s\n",
            "[CV 2/5] END criterion=gini, max_depth=6, random_state=42, splitter=random;, score=0.999 total time=   0.5s\n",
            "[CV 3/5] END criterion=gini, max_depth=6, random_state=42, splitter=random;, score=0.999 total time=   0.5s\n",
            "[CV 4/5] END criterion=gini, max_depth=6, random_state=42, splitter=random;, score=0.999 total time=   0.5s\n",
            "[CV 5/5] END criterion=gini, max_depth=6, random_state=42, splitter=random;, score=0.999 total time=   0.5s\n",
            "[CV 1/5] END criterion=gini, max_depth=7, random_state=42, splitter=best;, score=0.999 total time=   7.7s\n",
            "[CV 2/5] END criterion=gini, max_depth=7, random_state=42, splitter=best;, score=0.999 total time=   7.6s\n",
            "[CV 3/5] END criterion=gini, max_depth=7, random_state=42, splitter=best;, score=0.999 total time=   7.6s\n",
            "[CV 4/5] END criterion=gini, max_depth=7, random_state=42, splitter=best;, score=0.999 total time=   7.7s\n",
            "[CV 5/5] END criterion=gini, max_depth=7, random_state=42, splitter=best;, score=0.999 total time=   7.6s\n",
            "[CV 1/5] END criterion=gini, max_depth=7, random_state=42, splitter=random;, score=0.999 total time=   0.5s\n",
            "[CV 2/5] END criterion=gini, max_depth=7, random_state=42, splitter=random;, score=0.999 total time=   0.5s\n",
            "[CV 3/5] END criterion=gini, max_depth=7, random_state=42, splitter=random;, score=0.999 total time=   0.5s\n",
            "[CV 4/5] END criterion=gini, max_depth=7, random_state=42, splitter=random;, score=0.999 total time=   0.5s\n",
            "[CV 5/5] END criterion=gini, max_depth=7, random_state=42, splitter=random;, score=0.999 total time=   0.5s\n",
            "[CV 1/5] END criterion=gini, max_depth=8, random_state=42, splitter=best;, score=0.999 total time=   8.6s\n",
            "[CV 2/5] END criterion=gini, max_depth=8, random_state=42, splitter=best;, score=0.999 total time=   8.6s\n",
            "[CV 3/5] END criterion=gini, max_depth=8, random_state=42, splitter=best;, score=0.999 total time=   8.6s\n",
            "[CV 4/5] END criterion=gini, max_depth=8, random_state=42, splitter=best;, score=0.999 total time=   8.7s\n",
            "[CV 5/5] END criterion=gini, max_depth=8, random_state=42, splitter=best;, score=0.999 total time=   8.7s\n",
            "[CV 1/5] END criterion=gini, max_depth=8, random_state=42, splitter=random;, score=0.999 total time=   0.7s\n",
            "[CV 2/5] END criterion=gini, max_depth=8, random_state=42, splitter=random;, score=0.999 total time=   0.7s\n",
            "[CV 3/5] END criterion=gini, max_depth=8, random_state=42, splitter=random;, score=0.999 total time=   0.7s\n",
            "[CV 4/5] END criterion=gini, max_depth=8, random_state=42, splitter=random;, score=0.999 total time=   0.7s\n",
            "[CV 5/5] END criterion=gini, max_depth=8, random_state=42, splitter=random;, score=0.999 total time=   0.7s\n",
            "[CV 1/5] END criterion=gini, max_depth=9, random_state=42, splitter=best;, score=0.999 total time=   9.8s\n",
            "[CV 2/5] END criterion=gini, max_depth=9, random_state=42, splitter=best;, score=0.999 total time=   9.7s\n",
            "[CV 3/5] END criterion=gini, max_depth=9, random_state=42, splitter=best;, score=0.999 total time=   9.7s\n",
            "[CV 4/5] END criterion=gini, max_depth=9, random_state=42, splitter=best;, score=0.999 total time=   9.6s\n",
            "[CV 5/5] END criterion=gini, max_depth=9, random_state=42, splitter=best;, score=0.999 total time=   9.7s\n",
            "[CV 1/5] END criterion=gini, max_depth=9, random_state=42, splitter=random;, score=0.999 total time=   0.7s\n",
            "[CV 2/5] END criterion=gini, max_depth=9, random_state=42, splitter=random;, score=0.999 total time=   0.7s\n",
            "[CV 3/5] END criterion=gini, max_depth=9, random_state=42, splitter=random;, score=0.999 total time=   0.7s\n",
            "[CV 4/5] END criterion=gini, max_depth=9, random_state=42, splitter=random;, score=0.999 total time=   0.7s\n",
            "[CV 5/5] END criterion=gini, max_depth=9, random_state=42, splitter=random;, score=0.999 total time=   0.7s\n",
            "[CV 1/5] END criterion=gini, max_depth=10, random_state=42, splitter=best;, score=0.999 total time=  10.8s\n",
            "[CV 2/5] END criterion=gini, max_depth=10, random_state=42, splitter=best;, score=0.999 total time=  10.7s\n",
            "[CV 3/5] END criterion=gini, max_depth=10, random_state=42, splitter=best;, score=0.999 total time=  10.8s\n",
            "[CV 4/5] END criterion=gini, max_depth=10, random_state=42, splitter=best;, score=0.999 total time=  10.7s\n",
            "[CV 5/5] END criterion=gini, max_depth=10, random_state=42, splitter=best;, score=0.999 total time=  10.8s\n",
            "[CV 1/5] END criterion=gini, max_depth=10, random_state=42, splitter=random;, score=0.999 total time=   0.7s\n",
            "[CV 2/5] END criterion=gini, max_depth=10, random_state=42, splitter=random;, score=0.999 total time=   0.8s\n",
            "[CV 3/5] END criterion=gini, max_depth=10, random_state=42, splitter=random;, score=0.999 total time=   0.8s\n",
            "[CV 4/5] END criterion=gini, max_depth=10, random_state=42, splitter=random;, score=0.999 total time=   0.7s\n",
            "[CV 5/5] END criterion=gini, max_depth=10, random_state=42, splitter=random;, score=0.999 total time=   0.8s\n",
            "[CV 1/5] END criterion=gini, max_depth=11, random_state=42, splitter=best;, score=0.999 total time=  11.9s\n",
            "[CV 2/5] END criterion=gini, max_depth=11, random_state=42, splitter=best;, score=0.999 total time=  11.9s\n",
            "[CV 3/5] END criterion=gini, max_depth=11, random_state=42, splitter=best;, score=0.999 total time=  11.9s\n",
            "[CV 4/5] END criterion=gini, max_depth=11, random_state=42, splitter=best;, score=0.999 total time=  11.8s\n",
            "[CV 5/5] END criterion=gini, max_depth=11, random_state=42, splitter=best;, score=0.999 total time=  11.9s\n",
            "[CV 1/5] END criterion=gini, max_depth=11, random_state=42, splitter=random;, score=0.999 total time=   0.8s\n",
            "[CV 2/5] END criterion=gini, max_depth=11, random_state=42, splitter=random;, score=0.999 total time=   0.8s\n",
            "[CV 3/5] END criterion=gini, max_depth=11, random_state=42, splitter=random;, score=0.999 total time=   0.8s\n",
            "[CV 4/5] END criterion=gini, max_depth=11, random_state=42, splitter=random;, score=0.999 total time=   0.8s\n",
            "[CV 5/5] END criterion=gini, max_depth=11, random_state=42, splitter=random;, score=0.999 total time=   0.7s\n",
            "[CV 1/5] END criterion=gini, max_depth=12, random_state=42, splitter=best;, score=0.999 total time=  12.9s\n",
            "[CV 2/5] END criterion=gini, max_depth=12, random_state=42, splitter=best;, score=0.999 total time=  12.8s\n",
            "[CV 3/5] END criterion=gini, max_depth=12, random_state=42, splitter=best;, score=0.999 total time=  12.9s\n",
            "[CV 4/5] END criterion=gini, max_depth=12, random_state=42, splitter=best;, score=0.999 total time=  12.8s\n",
            "[CV 5/5] END criterion=gini, max_depth=12, random_state=42, splitter=best;, score=0.999 total time=  12.8s\n",
            "[CV 1/5] END criterion=gini, max_depth=12, random_state=42, splitter=random;, score=0.999 total time=   1.0s\n",
            "[CV 2/5] END criterion=gini, max_depth=12, random_state=42, splitter=random;, score=0.999 total time=   0.9s\n",
            "[CV 3/5] END criterion=gini, max_depth=12, random_state=42, splitter=random;, score=0.999 total time=   0.8s\n",
            "[CV 4/5] END criterion=gini, max_depth=12, random_state=42, splitter=random;, score=0.999 total time=   0.9s\n",
            "[CV 5/5] END criterion=gini, max_depth=12, random_state=42, splitter=random;, score=0.999 total time=   1.0s\n",
            "[CV 1/5] END criterion=gini, max_depth=13, random_state=42, splitter=best;, score=0.999 total time=  14.1s\n",
            "[CV 2/5] END criterion=gini, max_depth=13, random_state=42, splitter=best;, score=0.999 total time=  13.8s\n",
            "[CV 3/5] END criterion=gini, max_depth=13, random_state=42, splitter=best;, score=0.999 total time=  13.9s\n",
            "[CV 4/5] END criterion=gini, max_depth=13, random_state=42, splitter=best;, score=0.999 total time=  13.8s\n",
            "[CV 5/5] END criterion=gini, max_depth=13, random_state=42, splitter=best;, score=0.999 total time=  13.9s\n",
            "[CV 1/5] END criterion=gini, max_depth=13, random_state=42, splitter=random;, score=0.999 total time=   0.9s\n",
            "[CV 2/5] END criterion=gini, max_depth=13, random_state=42, splitter=random;, score=0.999 total time=   0.8s\n",
            "[CV 3/5] END criterion=gini, max_depth=13, random_state=42, splitter=random;, score=0.999 total time=   0.9s\n",
            "[CV 4/5] END criterion=gini, max_depth=13, random_state=42, splitter=random;, score=0.999 total time=   0.8s\n",
            "[CV 5/5] END criterion=gini, max_depth=13, random_state=42, splitter=random;, score=0.999 total time=   0.9s\n",
            "[CV 1/5] END criterion=gini, max_depth=14, random_state=42, splitter=best;, score=0.999 total time=  14.9s\n",
            "[CV 2/5] END criterion=gini, max_depth=14, random_state=42, splitter=best;, score=0.999 total time=  14.7s\n",
            "[CV 3/5] END criterion=gini, max_depth=14, random_state=42, splitter=best;, score=0.999 total time=  14.9s\n",
            "[CV 4/5] END criterion=gini, max_depth=14, random_state=42, splitter=best;, score=0.999 total time=  14.8s\n",
            "[CV 5/5] END criterion=gini, max_depth=14, random_state=42, splitter=best;, score=0.999 total time=  15.0s\n",
            "[CV 1/5] END criterion=gini, max_depth=14, random_state=42, splitter=random;, score=0.999 total time=   0.9s\n",
            "[CV 2/5] END criterion=gini, max_depth=14, random_state=42, splitter=random;, score=0.999 total time=   0.8s\n",
            "[CV 3/5] END criterion=gini, max_depth=14, random_state=42, splitter=random;, score=0.999 total time=   1.0s\n",
            "[CV 4/5] END criterion=gini, max_depth=14, random_state=42, splitter=random;, score=0.999 total time=   0.9s\n",
            "[CV 5/5] END criterion=gini, max_depth=14, random_state=42, splitter=random;, score=0.999 total time=   0.9s\n",
            "[CV 1/5] END criterion=gini, max_depth=15, random_state=42, splitter=best;, score=0.999 total time=  16.1s\n",
            "[CV 2/5] END criterion=gini, max_depth=15, random_state=42, splitter=best;, score=0.999 total time=  15.7s\n",
            "[CV 3/5] END criterion=gini, max_depth=15, random_state=42, splitter=best;, score=0.999 total time=  15.9s\n",
            "[CV 4/5] END criterion=gini, max_depth=15, random_state=42, splitter=best;, score=0.999 total time=  15.7s\n",
            "[CV 5/5] END criterion=gini, max_depth=15, random_state=42, splitter=best;, score=0.999 total time=  15.9s\n",
            "[CV 1/5] END criterion=gini, max_depth=15, random_state=42, splitter=random;, score=0.999 total time=   1.0s\n",
            "[CV 2/5] END criterion=gini, max_depth=15, random_state=42, splitter=random;, score=0.999 total time=   0.9s\n",
            "[CV 3/5] END criterion=gini, max_depth=15, random_state=42, splitter=random;, score=0.999 total time=   1.0s\n",
            "[CV 4/5] END criterion=gini, max_depth=15, random_state=42, splitter=random;, score=0.999 total time=   0.9s\n",
            "[CV 5/5] END criterion=gini, max_depth=15, random_state=42, splitter=random;, score=0.999 total time=   1.0s\n",
            "[CV 1/5] END criterion=gini, max_depth=16, random_state=42, splitter=best;, score=0.999 total time=  17.1s\n",
            "[CV 2/5] END criterion=gini, max_depth=16, random_state=42, splitter=best;, score=0.999 total time=  16.6s\n",
            "[CV 3/5] END criterion=gini, max_depth=16, random_state=42, splitter=best;, score=0.999 total time=  17.0s\n",
            "[CV 4/5] END criterion=gini, max_depth=16, random_state=42, splitter=best;, score=0.999 total time=  16.7s\n",
            "[CV 5/5] END criterion=gini, max_depth=16, random_state=42, splitter=best;, score=0.999 total time=  16.9s\n",
            "[CV 1/5] END criterion=gini, max_depth=16, random_state=42, splitter=random;, score=0.999 total time=   1.1s\n",
            "[CV 2/5] END criterion=gini, max_depth=16, random_state=42, splitter=random;, score=0.999 total time=   0.9s\n",
            "[CV 3/5] END criterion=gini, max_depth=16, random_state=42, splitter=random;, score=0.999 total time=   1.0s\n",
            "[CV 4/5] END criterion=gini, max_depth=16, random_state=42, splitter=random;, score=0.999 total time=   1.0s\n",
            "[CV 5/5] END criterion=gini, max_depth=16, random_state=42, splitter=random;, score=0.999 total time=   1.1s\n",
            "[CV 1/5] END criterion=gini, max_depth=17, random_state=42, splitter=best;, score=0.999 total time=  18.0s\n",
            "[CV 2/5] END criterion=gini, max_depth=17, random_state=42, splitter=best;, score=0.999 total time=  16.6s\n",
            "[CV 3/5] END criterion=gini, max_depth=17, random_state=42, splitter=best;, score=0.999 total time=  17.9s\n",
            "[CV 4/5] END criterion=gini, max_depth=17, random_state=42, splitter=best;, score=0.999 total time=  17.4s\n",
            "[CV 5/5] END criterion=gini, max_depth=17, random_state=42, splitter=best;, score=0.999 total time=  17.8s\n",
            "[CV 1/5] END criterion=gini, max_depth=17, random_state=42, splitter=random;, score=0.999 total time=   1.1s\n",
            "[CV 2/5] END criterion=gini, max_depth=17, random_state=42, splitter=random;, score=0.999 total time=   1.0s\n",
            "[CV 3/5] END criterion=gini, max_depth=17, random_state=42, splitter=random;, score=0.999 total time=   1.1s\n",
            "[CV 4/5] END criterion=gini, max_depth=17, random_state=42, splitter=random;, score=0.999 total time=   0.9s\n",
            "[CV 5/5] END criterion=gini, max_depth=17, random_state=42, splitter=random;, score=0.999 total time=   1.1s\n",
            "[CV 1/5] END criterion=gini, max_depth=18, random_state=42, splitter=best;, score=0.999 total time=  19.0s\n",
            "[CV 2/5] END criterion=gini, max_depth=18, random_state=42, splitter=best;, score=0.999 total time=  16.5s\n",
            "[CV 3/5] END criterion=gini, max_depth=18, random_state=42, splitter=best;, score=0.999 total time=  18.8s\n",
            "[CV 4/5] END criterion=gini, max_depth=18, random_state=42, splitter=best;, score=0.999 total time=  17.5s\n",
            "[CV 5/5] END criterion=gini, max_depth=18, random_state=42, splitter=best;, score=0.999 total time=  18.0s\n",
            "[CV 1/5] END criterion=gini, max_depth=18, random_state=42, splitter=random;, score=0.999 total time=   1.1s\n",
            "[CV 2/5] END criterion=gini, max_depth=18, random_state=42, splitter=random;, score=0.999 total time=   0.9s\n",
            "[CV 3/5] END criterion=gini, max_depth=18, random_state=42, splitter=random;, score=0.999 total time=   1.0s\n",
            "[CV 4/5] END criterion=gini, max_depth=18, random_state=42, splitter=random;, score=0.999 total time=   0.9s\n",
            "[CV 5/5] END criterion=gini, max_depth=18, random_state=42, splitter=random;, score=0.999 total time=   1.2s\n",
            "[CV 1/5] END criterion=gini, max_depth=19, random_state=42, splitter=best;, score=0.999 total time=  20.0s\n",
            "[CV 2/5] END criterion=gini, max_depth=19, random_state=42, splitter=best;, score=0.999 total time=  16.7s\n",
            "[CV 3/5] END criterion=gini, max_depth=19, random_state=42, splitter=best;, score=0.999 total time=  18.9s\n",
            "[CV 4/5] END criterion=gini, max_depth=19, random_state=42, splitter=best;, score=0.999 total time=  17.5s\n",
            "[CV 5/5] END criterion=gini, max_depth=19, random_state=42, splitter=best;, score=0.999 total time=  18.1s\n",
            "[CV 1/5] END criterion=gini, max_depth=19, random_state=42, splitter=random;, score=0.999 total time=   1.4s\n",
            "[CV 2/5] END criterion=gini, max_depth=19, random_state=42, splitter=random;, score=0.999 total time=   1.0s\n",
            "[CV 3/5] END criterion=gini, max_depth=19, random_state=42, splitter=random;, score=0.999 total time=   1.2s\n",
            "[CV 4/5] END criterion=gini, max_depth=19, random_state=42, splitter=random;, score=0.999 total time=   1.0s\n",
            "[CV 5/5] END criterion=gini, max_depth=19, random_state=42, splitter=random;, score=0.999 total time=   1.2s\n",
            "[CV 1/5] END criterion=entropy, max_depth=3, random_state=42, splitter=best;, score=0.999 total time=   4.7s\n",
            "[CV 2/5] END criterion=entropy, max_depth=3, random_state=42, splitter=best;, score=0.999 total time=   4.6s\n",
            "[CV 3/5] END criterion=entropy, max_depth=3, random_state=42, splitter=best;, score=0.999 total time=   4.7s\n",
            "[CV 4/5] END criterion=entropy, max_depth=3, random_state=42, splitter=best;, score=0.999 total time=   4.6s\n",
            "[CV 5/5] END criterion=entropy, max_depth=3, random_state=42, splitter=best;, score=0.999 total time=   4.6s\n",
            "[CV 1/5] END criterion=entropy, max_depth=3, random_state=42, splitter=random;, score=0.999 total time=   0.2s\n",
            "[CV 2/5] END criterion=entropy, max_depth=3, random_state=42, splitter=random;, score=0.999 total time=   0.2s\n",
            "[CV 3/5] END criterion=entropy, max_depth=3, random_state=42, splitter=random;, score=0.999 total time=   0.2s\n",
            "[CV 4/5] END criterion=entropy, max_depth=3, random_state=42, splitter=random;, score=0.999 total time=   0.2s\n",
            "[CV 5/5] END criterion=entropy, max_depth=3, random_state=42, splitter=random;, score=0.999 total time=   0.2s\n",
            "[CV 1/5] END criterion=entropy, max_depth=4, random_state=42, splitter=best;, score=0.999 total time=   6.1s\n",
            "[CV 2/5] END criterion=entropy, max_depth=4, random_state=42, splitter=best;, score=0.999 total time=   6.2s\n",
            "[CV 3/5] END criterion=entropy, max_depth=4, random_state=42, splitter=best;, score=0.999 total time=   6.1s\n",
            "[CV 4/5] END criterion=entropy, max_depth=4, random_state=42, splitter=best;, score=0.999 total time=   6.2s\n",
            "[CV 5/5] END criterion=entropy, max_depth=4, random_state=42, splitter=best;, score=0.999 total time=   6.2s\n",
            "[CV 1/5] END criterion=entropy, max_depth=4, random_state=42, splitter=random;, score=0.999 total time=   0.3s\n",
            "[CV 2/5] END criterion=entropy, max_depth=4, random_state=42, splitter=random;, score=0.999 total time=   0.3s\n",
            "[CV 3/5] END criterion=entropy, max_depth=4, random_state=42, splitter=random;, score=0.999 total time=   0.3s\n",
            "[CV 4/5] END criterion=entropy, max_depth=4, random_state=42, splitter=random;, score=0.999 total time=   0.3s\n",
            "[CV 5/5] END criterion=entropy, max_depth=4, random_state=42, splitter=random;, score=0.999 total time=   0.4s\n",
            "[CV 1/5] END criterion=entropy, max_depth=5, random_state=42, splitter=best;, score=0.999 total time=   7.6s\n",
            "[CV 2/5] END criterion=entropy, max_depth=5, random_state=42, splitter=best;, score=0.999 total time=   7.5s\n",
            "[CV 3/5] END criterion=entropy, max_depth=5, random_state=42, splitter=best;, score=0.999 total time=   7.5s\n",
            "[CV 4/5] END criterion=entropy, max_depth=5, random_state=42, splitter=best;, score=0.999 total time=   7.6s\n",
            "[CV 5/5] END criterion=entropy, max_depth=5, random_state=42, splitter=best;, score=0.999 total time=   7.6s\n",
            "[CV 1/5] END criterion=entropy, max_depth=5, random_state=42, splitter=random;, score=0.999 total time=   0.4s\n",
            "[CV 2/5] END criterion=entropy, max_depth=5, random_state=42, splitter=random;, score=0.999 total time=   0.4s\n",
            "[CV 3/5] END criterion=entropy, max_depth=5, random_state=42, splitter=random;, score=0.999 total time=   0.4s\n",
            "[CV 4/5] END criterion=entropy, max_depth=5, random_state=42, splitter=random;, score=0.999 total time=   0.4s\n",
            "[CV 5/5] END criterion=entropy, max_depth=5, random_state=42, splitter=random;, score=0.999 total time=   0.4s\n",
            "[CV 1/5] END criterion=entropy, max_depth=6, random_state=42, splitter=best;, score=0.999 total time=   9.1s\n",
            "[CV 2/5] END criterion=entropy, max_depth=6, random_state=42, splitter=best;, score=0.999 total time=   9.0s\n",
            "[CV 3/5] END criterion=entropy, max_depth=6, random_state=42, splitter=best;, score=0.999 total time=   9.1s\n",
            "[CV 4/5] END criterion=entropy, max_depth=6, random_state=42, splitter=best;, score=0.999 total time=   8.4s\n",
            "[CV 5/5] END criterion=entropy, max_depth=6, random_state=42, splitter=best;, score=0.999 total time=   9.0s\n",
            "[CV 1/5] END criterion=entropy, max_depth=6, random_state=42, splitter=random;, score=0.999 total time=   0.4s\n",
            "[CV 2/5] END criterion=entropy, max_depth=6, random_state=42, splitter=random;, score=0.999 total time=   0.4s\n",
            "[CV 3/5] END criterion=entropy, max_depth=6, random_state=42, splitter=random;, score=0.999 total time=   0.5s\n",
            "[CV 4/5] END criterion=entropy, max_depth=6, random_state=42, splitter=random;, score=0.999 total time=   0.4s\n",
            "[CV 5/5] END criterion=entropy, max_depth=6, random_state=42, splitter=random;, score=0.999 total time=   0.4s\n",
            "[CV 1/5] END criterion=entropy, max_depth=7, random_state=42, splitter=best;, score=0.999 total time=  10.4s\n",
            "[CV 2/5] END criterion=entropy, max_depth=7, random_state=42, splitter=best;, score=0.999 total time=   9.6s\n",
            "[CV 3/5] END criterion=entropy, max_depth=7, random_state=42, splitter=best;, score=0.999 total time=   9.8s\n",
            "[CV 4/5] END criterion=entropy, max_depth=7, random_state=42, splitter=best;, score=0.999 total time=   8.7s\n",
            "[CV 5/5] END criterion=entropy, max_depth=7, random_state=42, splitter=best;, score=1.000 total time=  10.2s\n",
            "[CV 1/5] END criterion=entropy, max_depth=7, random_state=42, splitter=random;, score=0.999 total time=   0.5s\n",
            "[CV 2/5] END criterion=entropy, max_depth=7, random_state=42, splitter=random;, score=0.999 total time=   0.5s\n",
            "[CV 3/5] END criterion=entropy, max_depth=7, random_state=42, splitter=random;, score=0.999 total time=   0.4s\n",
            "[CV 4/5] END criterion=entropy, max_depth=7, random_state=42, splitter=random;, score=0.999 total time=   0.5s\n",
            "[CV 5/5] END criterion=entropy, max_depth=7, random_state=42, splitter=random;, score=0.999 total time=   0.5s\n",
            "[CV 1/5] END criterion=entropy, max_depth=8, random_state=42, splitter=best;, score=0.999 total time=  11.2s\n",
            "[CV 2/5] END criterion=entropy, max_depth=8, random_state=42, splitter=best;, score=0.999 total time=  10.2s\n",
            "[CV 3/5] END criterion=entropy, max_depth=8, random_state=42, splitter=best;, score=0.999 total time=  10.5s\n",
            "[CV 4/5] END criterion=entropy, max_depth=8, random_state=42, splitter=best;, score=1.000 total time=   9.3s\n",
            "[CV 5/5] END criterion=entropy, max_depth=8, random_state=42, splitter=best;, score=0.999 total time=  11.5s\n",
            "[CV 1/5] END criterion=entropy, max_depth=8, random_state=42, splitter=random;, score=0.999 total time=   0.5s\n",
            "[CV 2/5] END criterion=entropy, max_depth=8, random_state=42, splitter=random;, score=0.999 total time=   0.5s\n",
            "[CV 3/5] END criterion=entropy, max_depth=8, random_state=42, splitter=random;, score=0.999 total time=   0.5s\n",
            "[CV 4/5] END criterion=entropy, max_depth=8, random_state=42, splitter=random;, score=0.999 total time=   0.6s\n",
            "[CV 5/5] END criterion=entropy, max_depth=8, random_state=42, splitter=random;, score=0.999 total time=   0.6s\n",
            "[CV 1/5] END criterion=entropy, max_depth=9, random_state=42, splitter=best;, score=0.999 total time=  12.0s\n",
            "[CV 2/5] END criterion=entropy, max_depth=9, random_state=42, splitter=best;, score=0.999 total time=  10.5s\n",
            "[CV 3/5] END criterion=entropy, max_depth=9, random_state=42, splitter=best;, score=0.999 total time=  11.0s\n",
            "[CV 4/5] END criterion=entropy, max_depth=9, random_state=42, splitter=best;, score=1.000 total time=   9.5s\n",
            "[CV 5/5] END criterion=entropy, max_depth=9, random_state=42, splitter=best;, score=1.000 total time=  11.7s\n",
            "[CV 1/5] END criterion=entropy, max_depth=9, random_state=42, splitter=random;, score=0.999 total time=   0.5s\n",
            "[CV 2/5] END criterion=entropy, max_depth=9, random_state=42, splitter=random;, score=0.999 total time=   0.6s\n",
            "[CV 3/5] END criterion=entropy, max_depth=9, random_state=42, splitter=random;, score=0.999 total time=   0.6s\n",
            "[CV 4/5] END criterion=entropy, max_depth=9, random_state=42, splitter=random;, score=0.999 total time=   0.5s\n",
            "[CV 5/5] END criterion=entropy, max_depth=9, random_state=42, splitter=random;, score=0.999 total time=   0.5s\n",
            "[CV 1/5] END criterion=entropy, max_depth=10, random_state=42, splitter=best;, score=0.999 total time=  12.2s\n",
            "[CV 2/5] END criterion=entropy, max_depth=10, random_state=42, splitter=best;, score=0.999 total time=  10.5s\n",
            "[CV 3/5] END criterion=entropy, max_depth=10, random_state=42, splitter=best;, score=0.999 total time=  11.1s\n",
            "[CV 4/5] END criterion=entropy, max_depth=10, random_state=42, splitter=best;, score=0.999 total time=   9.4s\n",
            "[CV 5/5] END criterion=entropy, max_depth=10, random_state=42, splitter=best;, score=0.999 total time=  11.7s\n",
            "[CV 1/5] END criterion=entropy, max_depth=10, random_state=42, splitter=random;, score=0.999 total time=   0.5s\n",
            "[CV 2/5] END criterion=entropy, max_depth=10, random_state=42, splitter=random;, score=0.999 total time=   0.5s\n",
            "[CV 3/5] END criterion=entropy, max_depth=10, random_state=42, splitter=random;, score=0.999 total time=   0.7s\n",
            "[CV 4/5] END criterion=entropy, max_depth=10, random_state=42, splitter=random;, score=0.999 total time=   0.5s\n",
            "[CV 5/5] END criterion=entropy, max_depth=10, random_state=42, splitter=random;, score=0.999 total time=   0.6s\n",
            "[CV 1/5] END criterion=entropy, max_depth=11, random_state=42, splitter=best;, score=0.999 total time=  12.6s\n",
            "[CV 2/5] END criterion=entropy, max_depth=11, random_state=42, splitter=best;, score=0.999 total time=  10.5s\n",
            "[CV 3/5] END criterion=entropy, max_depth=11, random_state=42, splitter=best;, score=0.999 total time=  11.2s\n",
            "[CV 4/5] END criterion=entropy, max_depth=11, random_state=42, splitter=best;, score=0.999 total time=   9.3s\n",
            "[CV 5/5] END criterion=entropy, max_depth=11, random_state=42, splitter=best;, score=0.999 total time=  11.8s\n",
            "[CV 1/5] END criterion=entropy, max_depth=11, random_state=42, splitter=random;, score=0.999 total time=   0.5s\n",
            "[CV 2/5] END criterion=entropy, max_depth=11, random_state=42, splitter=random;, score=0.999 total time=   0.6s\n",
            "[CV 3/5] END criterion=entropy, max_depth=11, random_state=42, splitter=random;, score=0.999 total time=   0.5s\n",
            "[CV 4/5] END criterion=entropy, max_depth=11, random_state=42, splitter=random;, score=0.999 total time=   0.5s\n",
            "[CV 5/5] END criterion=entropy, max_depth=11, random_state=42, splitter=random;, score=0.999 total time=   0.6s\n",
            "[CV 1/5] END criterion=entropy, max_depth=12, random_state=42, splitter=best;, score=0.999 total time=  12.7s\n",
            "[CV 2/5] END criterion=entropy, max_depth=12, random_state=42, splitter=best;, score=0.999 total time=  10.4s\n",
            "[CV 3/5] END criterion=entropy, max_depth=12, random_state=42, splitter=best;, score=0.999 total time=  11.2s\n",
            "[CV 4/5] END criterion=entropy, max_depth=12, random_state=42, splitter=best;, score=0.999 total time=   9.4s\n",
            "[CV 5/5] END criterion=entropy, max_depth=12, random_state=42, splitter=best;, score=0.999 total time=  11.8s\n",
            "[CV 1/5] END criterion=entropy, max_depth=12, random_state=42, splitter=random;, score=0.999 total time=   0.6s\n",
            "[CV 2/5] END criterion=entropy, max_depth=12, random_state=42, splitter=random;, score=0.999 total time=   0.5s\n",
            "[CV 3/5] END criterion=entropy, max_depth=12, random_state=42, splitter=random;, score=0.999 total time=   0.5s\n",
            "[CV 4/5] END criterion=entropy, max_depth=12, random_state=42, splitter=random;, score=0.999 total time=   0.6s\n",
            "[CV 5/5] END criterion=entropy, max_depth=12, random_state=42, splitter=random;, score=0.999 total time=   0.6s\n",
            "[CV 1/5] END criterion=entropy, max_depth=13, random_state=42, splitter=best;, score=0.999 total time=  12.8s\n",
            "[CV 2/5] END criterion=entropy, max_depth=13, random_state=42, splitter=best;, score=0.999 total time=  10.5s\n",
            "[CV 3/5] END criterion=entropy, max_depth=13, random_state=42, splitter=best;, score=0.999 total time=  11.2s\n",
            "[CV 4/5] END criterion=entropy, max_depth=13, random_state=42, splitter=best;, score=0.999 total time=   9.4s\n",
            "[CV 5/5] END criterion=entropy, max_depth=13, random_state=42, splitter=best;, score=0.999 total time=  11.8s\n",
            "[CV 1/5] END criterion=entropy, max_depth=13, random_state=42, splitter=random;, score=0.999 total time=   0.7s\n",
            "[CV 2/5] END criterion=entropy, max_depth=13, random_state=42, splitter=random;, score=0.999 total time=   0.7s\n",
            "[CV 3/5] END criterion=entropy, max_depth=13, random_state=42, splitter=random;, score=0.999 total time=   0.7s\n",
            "[CV 4/5] END criterion=entropy, max_depth=13, random_state=42, splitter=random;, score=0.999 total time=   0.7s\n",
            "[CV 5/5] END criterion=entropy, max_depth=13, random_state=42, splitter=random;, score=0.999 total time=   0.9s\n",
            "[CV 1/5] END criterion=entropy, max_depth=14, random_state=42, splitter=best;, score=0.999 total time=  12.9s\n",
            "[CV 2/5] END criterion=entropy, max_depth=14, random_state=42, splitter=best;, score=0.999 total time=  10.6s\n",
            "[CV 3/5] END criterion=entropy, max_depth=14, random_state=42, splitter=best;, score=0.999 total time=  11.3s\n",
            "[CV 4/5] END criterion=entropy, max_depth=14, random_state=42, splitter=best;, score=0.999 total time=   9.5s\n",
            "[CV 5/5] END criterion=entropy, max_depth=14, random_state=42, splitter=best;, score=0.999 total time=  11.9s\n",
            "[CV 1/5] END criterion=entropy, max_depth=14, random_state=42, splitter=random;, score=0.999 total time=   0.6s\n",
            "[CV 2/5] END criterion=entropy, max_depth=14, random_state=42, splitter=random;, score=0.999 total time=   0.4s\n",
            "[CV 3/5] END criterion=entropy, max_depth=14, random_state=42, splitter=random;, score=0.999 total time=   0.5s\n",
            "[CV 4/5] END criterion=entropy, max_depth=14, random_state=42, splitter=random;, score=0.999 total time=   0.6s\n",
            "[CV 5/5] END criterion=entropy, max_depth=14, random_state=42, splitter=random;, score=0.999 total time=   0.8s\n",
            "[CV 1/5] END criterion=entropy, max_depth=15, random_state=42, splitter=best;, score=0.999 total time=  13.0s\n",
            "[CV 2/5] END criterion=entropy, max_depth=15, random_state=42, splitter=best;, score=0.999 total time=  10.6s\n",
            "[CV 3/5] END criterion=entropy, max_depth=15, random_state=42, splitter=best;, score=0.999 total time=  11.3s\n",
            "[CV 4/5] END criterion=entropy, max_depth=15, random_state=42, splitter=best;, score=0.999 total time=   9.5s\n",
            "[CV 5/5] END criterion=entropy, max_depth=15, random_state=42, splitter=best;, score=0.999 total time=  11.9s\n",
            "[CV 1/5] END criterion=entropy, max_depth=15, random_state=42, splitter=random;, score=0.999 total time=   0.6s\n",
            "[CV 2/5] END criterion=entropy, max_depth=15, random_state=42, splitter=random;, score=0.999 total time=   0.5s\n",
            "[CV 3/5] END criterion=entropy, max_depth=15, random_state=42, splitter=random;, score=0.999 total time=   0.6s\n",
            "[CV 4/5] END criterion=entropy, max_depth=15, random_state=42, splitter=random;, score=0.999 total time=   0.6s\n",
            "[CV 5/5] END criterion=entropy, max_depth=15, random_state=42, splitter=random;, score=0.999 total time=   0.7s\n",
            "[CV 1/5] END criterion=entropy, max_depth=16, random_state=42, splitter=best;, score=0.999 total time=  13.0s\n",
            "[CV 2/5] END criterion=entropy, max_depth=16, random_state=42, splitter=best;, score=0.999 total time=  10.5s\n",
            "[CV 3/5] END criterion=entropy, max_depth=16, random_state=42, splitter=best;, score=0.999 total time=  11.3s\n",
            "[CV 4/5] END criterion=entropy, max_depth=16, random_state=42, splitter=best;, score=0.999 total time=   9.4s\n",
            "[CV 5/5] END criterion=entropy, max_depth=16, random_state=42, splitter=best;, score=0.999 total time=  11.8s\n",
            "[CV 1/5] END criterion=entropy, max_depth=16, random_state=42, splitter=random;, score=0.999 total time=   0.6s\n",
            "[CV 2/5] END criterion=entropy, max_depth=16, random_state=42, splitter=random;, score=0.999 total time=   0.4s\n",
            "[CV 3/5] END criterion=entropy, max_depth=16, random_state=42, splitter=random;, score=0.999 total time=   0.6s\n",
            "[CV 4/5] END criterion=entropy, max_depth=16, random_state=42, splitter=random;, score=0.999 total time=   0.6s\n",
            "[CV 5/5] END criterion=entropy, max_depth=16, random_state=42, splitter=random;, score=0.999 total time=   0.5s\n",
            "[CV 1/5] END criterion=entropy, max_depth=17, random_state=42, splitter=best;, score=0.999 total time=  13.0s\n",
            "[CV 2/5] END criterion=entropy, max_depth=17, random_state=42, splitter=best;, score=0.999 total time=  10.6s\n",
            "[CV 3/5] END criterion=entropy, max_depth=17, random_state=42, splitter=best;, score=0.999 total time=  11.2s\n",
            "[CV 4/5] END criterion=entropy, max_depth=17, random_state=42, splitter=best;, score=0.999 total time=   9.4s\n",
            "[CV 5/5] END criterion=entropy, max_depth=17, random_state=42, splitter=best;, score=0.999 total time=  11.9s\n",
            "[CV 1/5] END criterion=entropy, max_depth=17, random_state=42, splitter=random;, score=0.999 total time=   0.6s\n",
            "[CV 2/5] END criterion=entropy, max_depth=17, random_state=42, splitter=random;, score=0.999 total time=   0.5s\n",
            "[CV 3/5] END criterion=entropy, max_depth=17, random_state=42, splitter=random;, score=0.999 total time=   0.7s\n",
            "[CV 4/5] END criterion=entropy, max_depth=17, random_state=42, splitter=random;, score=0.999 total time=   0.6s\n",
            "[CV 5/5] END criterion=entropy, max_depth=17, random_state=42, splitter=random;, score=0.999 total time=   0.7s\n",
            "[CV 1/5] END criterion=entropy, max_depth=18, random_state=42, splitter=best;, score=0.999 total time=  12.9s\n",
            "[CV 2/5] END criterion=entropy, max_depth=18, random_state=42, splitter=best;, score=0.999 total time=  10.5s\n",
            "[CV 3/5] END criterion=entropy, max_depth=18, random_state=42, splitter=best;, score=0.999 total time=  11.2s\n",
            "[CV 4/5] END criterion=entropy, max_depth=18, random_state=42, splitter=best;, score=0.999 total time=   9.4s\n",
            "[CV 5/5] END criterion=entropy, max_depth=18, random_state=42, splitter=best;, score=0.999 total time=  11.9s\n",
            "[CV 1/5] END criterion=entropy, max_depth=18, random_state=42, splitter=random;, score=0.999 total time=   0.6s\n",
            "[CV 2/5] END criterion=entropy, max_depth=18, random_state=42, splitter=random;, score=0.999 total time=   0.5s\n",
            "[CV 3/5] END criterion=entropy, max_depth=18, random_state=42, splitter=random;, score=0.999 total time=   0.8s\n",
            "[CV 4/5] END criterion=entropy, max_depth=18, random_state=42, splitter=random;, score=0.999 total time=   0.6s\n",
            "[CV 5/5] END criterion=entropy, max_depth=18, random_state=42, splitter=random;, score=0.999 total time=   0.6s\n",
            "[CV 1/5] END criterion=entropy, max_depth=19, random_state=42, splitter=best;, score=0.999 total time=  13.0s\n",
            "[CV 2/5] END criterion=entropy, max_depth=19, random_state=42, splitter=best;, score=0.999 total time=  10.6s\n",
            "[CV 3/5] END criterion=entropy, max_depth=19, random_state=42, splitter=best;, score=0.999 total time=  11.3s\n",
            "[CV 4/5] END criterion=entropy, max_depth=19, random_state=42, splitter=best;, score=0.999 total time=   9.3s\n",
            "[CV 5/5] END criterion=entropy, max_depth=19, random_state=42, splitter=best;, score=0.999 total time=  11.8s\n",
            "[CV 1/5] END criterion=entropy, max_depth=19, random_state=42, splitter=random;, score=0.999 total time=   0.6s\n",
            "[CV 2/5] END criterion=entropy, max_depth=19, random_state=42, splitter=random;, score=0.999 total time=   0.5s\n",
            "[CV 3/5] END criterion=entropy, max_depth=19, random_state=42, splitter=random;, score=0.999 total time=   0.7s\n",
            "[CV 4/5] END criterion=entropy, max_depth=19, random_state=42, splitter=random;, score=0.999 total time=   0.6s\n",
            "[CV 5/5] END criterion=entropy, max_depth=19, random_state=42, splitter=random;, score=0.999 total time=   0.5s\n"
          ]
        },
        {
          "output_type": "execute_result",
          "data": {
            "text/plain": [
              "GridSearchCV(cv=5, estimator=DecisionTreeClassifier(),\n",
              "             param_grid={'criterion': ('gini', 'entropy'),\n",
              "                         'max_depth': array([ 3,  4,  5,  6,  7,  8,  9, 10, 11, 12, 13, 14, 15, 16, 17, 18, 19]),\n",
              "                         'random_state': [42], 'splitter': ['best', 'random']},\n",
              "             verbose=3)"
            ]
          },
          "metadata": {},
          "execution_count": 67
        }
      ]
    },
    {
      "cell_type": "code",
      "metadata": {
        "colab": {
          "base_uri": "https://localhost:8080/"
        },
        "id": "oUUChx57auRU",
        "outputId": "c2d4e046-6058-4b65-afd2-3303c6c72897"
      },
      "source": [
        "tree.best_params_"
      ],
      "execution_count": null,
      "outputs": [
        {
          "output_type": "execute_result",
          "data": {
            "text/plain": [
              "{'criterion': 'gini', 'max_depth': 6, 'random_state': 42, 'splitter': 'best'}"
            ]
          },
          "metadata": {},
          "execution_count": 68
        }
      ]
    },
    {
      "cell_type": "code",
      "metadata": {
        "colab": {
          "base_uri": "https://localhost:8080/"
        },
        "id": "0j5f72IzbCSv",
        "outputId": "27df8d73-098f-4e93-b27c-e9294be120e9"
      },
      "source": [
        "grid_random_forest = {\"criterion\": [\"gini\", \"entropy\"],\n",
        "                      \"random_state\": [42],\n",
        "                      \"max_depth\": [6]}\n",
        "\n",
        "random_forest = GridSearchCV(RandomForestClassifier(), grid_random_forest, cv=5, verbose=3)\n",
        "\n",
        "random_forest.fit(X_train, y_train)"
      ],
      "execution_count": null,
      "outputs": [
        {
          "output_type": "stream",
          "name": "stdout",
          "text": [
            "Fitting 5 folds for each of 2 candidates, totalling 10 fits\n",
            "[CV 1/5] END criterion=gini, max_depth=6, random_state=42;, score=1.000 total time= 1.3min\n",
            "[CV 2/5] END criterion=gini, max_depth=6, random_state=42;, score=0.999 total time= 1.3min\n",
            "[CV 3/5] END criterion=gini, max_depth=6, random_state=42;, score=0.999 total time= 1.3min\n",
            "[CV 4/5] END criterion=gini, max_depth=6, random_state=42;, score=1.000 total time= 1.3min\n",
            "[CV 5/5] END criterion=gini, max_depth=6, random_state=42;, score=1.000 total time= 1.3min\n",
            "[CV 1/5] END criterion=entropy, max_depth=6, random_state=42;, score=1.000 total time= 1.7min\n",
            "[CV 2/5] END criterion=entropy, max_depth=6, random_state=42;, score=0.999 total time= 1.7min\n",
            "[CV 3/5] END criterion=entropy, max_depth=6, random_state=42;, score=0.999 total time= 1.7min\n",
            "[CV 4/5] END criterion=entropy, max_depth=6, random_state=42;, score=0.999 total time= 1.7min\n",
            "[CV 5/5] END criterion=entropy, max_depth=6, random_state=42;, score=1.000 total time= 1.7min\n"
          ]
        },
        {
          "output_type": "execute_result",
          "data": {
            "text/plain": [
              "GridSearchCV(cv=5, estimator=RandomForestClassifier(),\n",
              "             param_grid={'criterion': ['gini', 'entropy'], 'max_depth': [6],\n",
              "                         'random_state': [42]},\n",
              "             verbose=3)"
            ]
          },
          "metadata": {},
          "execution_count": 69
        }
      ]
    },
    {
      "cell_type": "code",
      "metadata": {
        "colab": {
          "base_uri": "https://localhost:8080/"
        },
        "id": "GX2_ShkDbDrF",
        "outputId": "ca01fe87-c894-4251-ce0a-a69da4535162"
      },
      "source": [
        "random_forest.best_params_"
      ],
      "execution_count": null,
      "outputs": [
        {
          "output_type": "execute_result",
          "data": {
            "text/plain": [
              "{'criterion': 'entropy', 'max_depth': 6, 'random_state': 42}"
            ]
          },
          "metadata": {},
          "execution_count": 70
        }
      ]
    },
    {
      "cell_type": "code",
      "metadata": {
        "id": "VhdGcC8VivqT"
      },
      "source": [
        "tree_pred_proba = tree.predict_proba(X_test)[:, 1]\n",
        "random_forest_pred_proba = random_forest.predict_proba(X_test)[:, 1]\n",
        "\n",
        "tree_pred = tree.predict(X_test)\n",
        "random_forest_pred = random_forest.predict(X_test)"
      ],
      "execution_count": null,
      "outputs": []
    },
    {
      "cell_type": "markdown",
      "metadata": {
        "id": "4J-GYEqOw2Iv"
      },
      "source": [
        "Сравнение показателей"
      ]
    },
    {
      "cell_type": "markdown",
      "metadata": {
        "id": "89boPfj3q8lk"
      },
      "source": [
        "Случайный лес лучшая модель почти по всем метрикам"
      ]
    },
    {
      "cell_type": "code",
      "metadata": {
        "colab": {
          "base_uri": "https://localhost:8080/"
        },
        "id": "dorqxQIIivtM",
        "outputId": "3a2d9630-9a5e-4052-bd48-50f585b3c7a9"
      },
      "source": [
        "bin_metrics = {\"LogLos\": log_loss, \"Accuracy\": accuracy_score, \n",
        "               \"Precision\": precision_score, \"Recall\": recall_score, \n",
        "               \"F1\": f1_score}\n",
        "\n",
        "for name_metric, metric in bin_metrics.items():\n",
        "  print(name_metric)\n",
        "  metric_score1 = round(metric(y_test, logreg_pred), 2)\n",
        "  metric_score2 = round(metric(y_test, cross_val_logreg_pred), 2)\n",
        "  metric_score3 = round(metric(y_test, tree_pred), 2)\n",
        "  metric_score4 = round(metric(y_test, random_forest_pred), 2)\n",
        "\n",
        "  print(f\"LogReg = {metric_score1}\")\n",
        "  print(f\"Improved LogReg = {metric_score2}\")\n",
        "  print(f\"Decision tree = {metric_score3}\")\n",
        "  print(f\"Random forest = {metric_score4}\")\n",
        "  print()\n",
        "\n",
        "metric_score1 = round(roc_auc_score(y_test, logreg_pred_proba), 2)\n",
        "metric_score2 = round(roc_auc_score(y_test, cross_val_logreg_pred_proba), 2)\n",
        "metric_score3 = round(roc_auc_score(y_test, tree_pred_proba), 2)\n",
        "metric_score4 = round(roc_auc_score(y_test, random_forest_pred_proba), 2)\n",
        "\n",
        "print(\"ROC-AUC\")\n",
        "print(f\"LogReg = {metric_score1}\")\n",
        "print(f\"Improved LogReg = {metric_score2}\")\n",
        "print(f\"Decision tree = {metric_score3}\")\n",
        "print(f\"Random forest = {metric_score4}\")"
      ],
      "execution_count": null,
      "outputs": [
        {
          "output_type": "stream",
          "name": "stdout",
          "text": [
            "LogLos\n",
            "LogReg = 0.05\n",
            "Improved LogReg = 0.03\n",
            "Decision tree = 0.02\n",
            "Random forest = 0.02\n",
            "\n",
            "Accuracy\n",
            "LogReg = 1.0\n",
            "Improved LogReg = 1.0\n",
            "Decision tree = 1.0\n",
            "Random forest = 1.0\n",
            "\n",
            "Precision\n",
            "LogReg = 0.61\n",
            "Improved LogReg = 0.86\n",
            "Decision tree = 0.9\n",
            "Random forest = 0.96\n",
            "\n",
            "Recall\n",
            "LogReg = 0.56\n",
            "Improved LogReg = 0.58\n",
            "Decision tree = 0.8\n",
            "Random forest = 0.76\n",
            "\n",
            "F1\n",
            "LogReg = 0.59\n",
            "Improved LogReg = 0.7\n",
            "Decision tree = 0.84\n",
            "Random forest = 0.85\n",
            "\n",
            "ROC-AUC\n",
            "LogReg = 0.9\n",
            "Improved LogReg = 0.97\n",
            "Decision tree = 0.91\n",
            "Random forest = 0.98\n"
          ]
        }
      ]
    },
    {
      "cell_type": "markdown",
      "metadata": {
        "id": "fYbJCxYkw5K3"
      },
      "source": [
        "Графики"
      ]
    },
    {
      "cell_type": "code",
      "metadata": {
        "id": "l-aWqRS3tgVh"
      },
      "source": [
        "def draw_plot(curve, xlabel, ylabel, title):\n",
        "  plt.figure(figsize=(7, 7))\n",
        "\n",
        "  fpr0, tpr0, thresholds0 = curve(y_test, logreg_pred_proba)\n",
        "  fpr1, tpr1, thresholds1 = curve(y_test, cross_val_logreg_pred_proba)\n",
        "  fpr2, tpr2, thresholds2 = curve(y_test, tree_pred_proba)\n",
        "  fpr3, tpr3, thresholds3 = curve(y_test, random_forest_pred_proba)\n",
        "\n",
        "  plt.plot(fpr0, tpr0, 'b', linewidth=3)\n",
        "  plt.plot(fpr1, tpr1, 'g', linewidth=3)\n",
        "  plt.plot(fpr2, tpr2, 'c', linewidth=3)\n",
        "  plt.plot(fpr3, tpr3, 'r', linewidth=3)\n",
        "\n",
        "  plt.plot([0, 1], [0, 1], 'k--')\n",
        "  plt.plot([0, 0], [0, 1], 'k')\n",
        "  plt.plot([1, 1], [0, 1], 'k')\n",
        "  plt.plot([0, 1], [0, 0], 'k')\n",
        "  plt.plot([0, 1], [1, 1], 'k')\n",
        "\n",
        "  plt.xlabel(xlabel)\n",
        "  plt.ylabel(ylabel)\n",
        "\n",
        "  plt.legend((\"Простой логрег\", \"Улучшенный логрег\", \"Дерево решений\", \"Случайный лес\"),\n",
        "            shadow=True, loc=(1, 1))\n",
        "\n",
        "  plt.title(title)"
      ],
      "execution_count": null,
      "outputs": []
    },
    {
      "cell_type": "code",
      "metadata": {
        "colab": {
          "base_uri": "https://localhost:8080/",
          "height": 505
        },
        "id": "E_Xi6_28tgXf",
        "outputId": "6a236876-55bc-47d5-8f35-b1ce176e7fa6"
      },
      "source": [
        "draw_plot(roc_curve, 'False positive rate', 'True positive rate', \"Сравнение метрики ROC-AUC\")"
      ],
      "execution_count": null,
      "outputs": [
        {
          "output_type": "display_data",
          "data": {
            "image/png": "[encoded data removed]",
            "text/plain": [
              "<Figure size 504x504 with 1 Axes>"
            ]
          },
          "metadata": {
            "needs_background": "light"
          }
        }
      ]
    },
    {
      "cell_type": "code",
      "metadata": {
        "colab": {
          "base_uri": "https://localhost:8080/",
          "height": 505
        },
        "id": "ZxLK-ouHtgZ2",
        "outputId": "da38f14c-c516-4ee3-f9ef-e37d17e16f20"
      },
      "source": [
        "draw_plot(precision_recall_curve, \"Recall\", \"Precision\", \"Precision-Recall\")"
      ],
      "execution_count": null,
      "outputs": [
        {
          "output_type": "display_data",
          "data": {
            "image/png": "[encoded data removed]",
            "text/plain": [
              "<Figure size 504x504 with 1 Axes>"
            ]
          },
          "metadata": {
            "needs_background": "light"
          }
        }
      ]
    },
    {
      "cell_type": "markdown",
      "metadata": {
        "id": "ASoeag8uHCIh"
      },
      "source": [
        "# 2 - Небинарная классификация на вашем датасете (суммарно 6 баллов)"
      ]
    },
    {
      "cell_type": "markdown",
      "metadata": {
        "id": "FGg4uIlnHCIi"
      },
      "source": [
        "### (2 балла) Выберите какой-нибудь интересный вам датасет, скачайте его и считайте данные\n",
        "\n",
        "Творческое задание - найти в интернете (или собрать свой даже) датасет, сохранить его в файл, и загрузить сюда.\n",
        "\n",
        "Требования:\n",
        "\n",
        "- он должен быть немаленький (хотя бы 500 объектов, лучше больше)\n",
        "- он должен быть интересный\n",
        "- таргет должен быть небинарным классом\n",
        "\n",
        "Минус балл, если ваш датасет с кем-нибудь повторится."
      ]
    },
    {
      "cell_type": "markdown",
      "metadata": {
        "id": "87Z9_zEh54m4"
      },
      "source": [
        "Возьмем датасет c небинарной (6 классов) классификацией - определение профиля человека"
      ]
    },
    {
      "cell_type": "markdown",
      "metadata": {
        "id": "tUn6ps0e57YN"
      },
      "source": [
        "https://www.kaggle.com/scarecrow2020/tech-students-profile-prediction"
      ]
    },
    {
      "cell_type": "code",
      "metadata": {
        "colab": {
          "base_uri": "https://localhost:8080/",
          "height": 330
        },
        "id": "V7w_f866HCIi",
        "outputId": "27f15d1d-f2af-4392-a572-c843b7f21682"
      },
      "source": [
        "data = pd.read_csv(\"dataset-tortuga.csv\")\n",
        "data.head()"
      ],
      "execution_count": null,
      "outputs": [
        {
          "output_type": "execute_result",
          "data": {
            "text/html": [
              "<div>\n",
              "<style scoped>\n",
              "    .dataframe tbody tr th:only-of-type {\n",
              "        vertical-align: middle;\n",
              "    }\n",
              "\n",
              "    .dataframe tbody tr th {\n",
              "        vertical-align: top;\n",
              "    }\n",
              "\n",
              "    .dataframe thead th {\n",
              "        text-align: right;\n",
              "    }\n",
              "</style>\n",
              "<table border=\"1\" class=\"dataframe\">\n",
              "  <thead>\n",
              "    <tr style=\"text-align: right;\">\n",
              "      <th></th>\n",
              "      <th>Unnamed: 0</th>\n",
              "      <th>NAME</th>\n",
              "      <th>USER_ID</th>\n",
              "      <th>HOURS_DATASCIENCE</th>\n",
              "      <th>HOURS_BACKEND</th>\n",
              "      <th>HOURS_FRONTEND</th>\n",
              "      <th>NUM_COURSES_BEGINNER_DATASCIENCE</th>\n",
              "      <th>NUM_COURSES_BEGINNER_BACKEND</th>\n",
              "      <th>NUM_COURSES_BEGINNER_FRONTEND</th>\n",
              "      <th>NUM_COURSES_ADVANCED_DATASCIENCE</th>\n",
              "      <th>NUM_COURSES_ADVANCED_BACKEND</th>\n",
              "      <th>NUM_COURSES_ADVANCED_FRONTEND</th>\n",
              "      <th>AVG_SCORE_DATASCIENCE</th>\n",
              "      <th>AVG_SCORE_BACKEND</th>\n",
              "      <th>AVG_SCORE_FRONTEND</th>\n",
              "      <th>PROFILE</th>\n",
              "    </tr>\n",
              "  </thead>\n",
              "  <tbody>\n",
              "    <tr>\n",
              "      <th>0</th>\n",
              "      <td>28</td>\n",
              "      <td>Stormy Muto</td>\n",
              "      <td>58283940</td>\n",
              "      <td>7.0</td>\n",
              "      <td>39.0</td>\n",
              "      <td>29.0</td>\n",
              "      <td>2.0</td>\n",
              "      <td>4.0</td>\n",
              "      <td>0.0</td>\n",
              "      <td>2.0</td>\n",
              "      <td>5.0</td>\n",
              "      <td>0.0</td>\n",
              "      <td>84.0</td>\n",
              "      <td>74.0</td>\n",
              "      <td>NaN</td>\n",
              "      <td>beginner_front_end</td>\n",
              "    </tr>\n",
              "    <tr>\n",
              "      <th>1</th>\n",
              "      <td>81</td>\n",
              "      <td>Carlos Ferro</td>\n",
              "      <td>1357218</td>\n",
              "      <td>32.0</td>\n",
              "      <td>0.0</td>\n",
              "      <td>44.0</td>\n",
              "      <td>2.0</td>\n",
              "      <td>0.0</td>\n",
              "      <td>0.0</td>\n",
              "      <td>0.0</td>\n",
              "      <td>5.0</td>\n",
              "      <td>0.0</td>\n",
              "      <td>67.0</td>\n",
              "      <td>45.0</td>\n",
              "      <td>NaN</td>\n",
              "      <td>beginner_front_end</td>\n",
              "    </tr>\n",
              "    <tr>\n",
              "      <th>2</th>\n",
              "      <td>89</td>\n",
              "      <td>Robby Constantini</td>\n",
              "      <td>63212105</td>\n",
              "      <td>45.0</td>\n",
              "      <td>0.0</td>\n",
              "      <td>59.0</td>\n",
              "      <td>0.0</td>\n",
              "      <td>5.0</td>\n",
              "      <td>4.0</td>\n",
              "      <td>0.0</td>\n",
              "      <td>4.0</td>\n",
              "      <td>1.0</td>\n",
              "      <td>NaN</td>\n",
              "      <td>54.0</td>\n",
              "      <td>47.0</td>\n",
              "      <td>advanced_front_end</td>\n",
              "    </tr>\n",
              "    <tr>\n",
              "      <th>3</th>\n",
              "      <td>138</td>\n",
              "      <td>Paul Mckenny</td>\n",
              "      <td>23239851</td>\n",
              "      <td>36.0</td>\n",
              "      <td>19.0</td>\n",
              "      <td>28.0</td>\n",
              "      <td>0.0</td>\n",
              "      <td>5.0</td>\n",
              "      <td>7.0</td>\n",
              "      <td>0.0</td>\n",
              "      <td>5.0</td>\n",
              "      <td>3.0</td>\n",
              "      <td>NaN</td>\n",
              "      <td>71.0</td>\n",
              "      <td>89.0</td>\n",
              "      <td>beginner_data_science</td>\n",
              "    </tr>\n",
              "    <tr>\n",
              "      <th>4</th>\n",
              "      <td>143</td>\n",
              "      <td>Jean Webb</td>\n",
              "      <td>72234478</td>\n",
              "      <td>61.0</td>\n",
              "      <td>78.0</td>\n",
              "      <td>38.0</td>\n",
              "      <td>6.0</td>\n",
              "      <td>11.0</td>\n",
              "      <td>0.0</td>\n",
              "      <td>4.0</td>\n",
              "      <td>3.0</td>\n",
              "      <td>0.0</td>\n",
              "      <td>66.0</td>\n",
              "      <td>85.0</td>\n",
              "      <td>NaN</td>\n",
              "      <td>advanced_front_end</td>\n",
              "    </tr>\n",
              "  </tbody>\n",
              "</table>\n",
              "</div>"
            ],
            "text/plain": [
              "   Unnamed: 0               NAME  ...  AVG_SCORE_FRONTEND                PROFILE\n",
              "0          28        Stormy Muto  ...                 NaN     beginner_front_end\n",
              "1          81       Carlos Ferro  ...                 NaN     beginner_front_end\n",
              "2          89  Robby Constantini  ...                47.0     advanced_front_end\n",
              "3         138       Paul Mckenny  ...                89.0  beginner_data_science\n",
              "4         143          Jean Webb  ...                 NaN     advanced_front_end\n",
              "\n",
              "[5 rows x 16 columns]"
            ]
          },
          "metadata": {},
          "execution_count": 82
        }
      ]
    },
    {
      "cell_type": "code",
      "metadata": {
        "colab": {
          "base_uri": "https://localhost:8080/"
        },
        "id": "DxR4ToLjHCIj",
        "outputId": "8c8240ec-901d-48ef-f26d-ce4f30672f7e"
      },
      "source": [
        "data.shape # больше 500 объектов"
      ],
      "execution_count": null,
      "outputs": [
        {
          "output_type": "execute_result",
          "data": {
            "text/plain": [
              "(20000, 16)"
            ]
          },
          "metadata": {},
          "execution_count": 83
        }
      ]
    },
    {
      "cell_type": "code",
      "metadata": {
        "colab": {
          "base_uri": "https://localhost:8080/"
        },
        "id": "8oGEFcwv6FJl",
        "outputId": "c7bd5500-8c93-4163-a8d9-db63b8b8eda6"
      },
      "source": [
        "data.info()"
      ],
      "execution_count": null,
      "outputs": [
        {
          "output_type": "stream",
          "name": "stdout",
          "text": [
            "<class 'pandas.core.frame.DataFrame'>\n",
            "RangeIndex: 20000 entries, 0 to 19999\n",
            "Data columns (total 16 columns):\n",
            " #   Column                            Non-Null Count  Dtype  \n",
            "---  ------                            --------------  -----  \n",
            " 0   Unnamed: 0                        20000 non-null  int64  \n",
            " 1   NAME                              20000 non-null  object \n",
            " 2   USER_ID                           20000 non-null  int64  \n",
            " 3   HOURS_DATASCIENCE                 19986 non-null  float64\n",
            " 4   HOURS_BACKEND                     19947 non-null  float64\n",
            " 5   HOURS_FRONTEND                    19984 non-null  float64\n",
            " 6   NUM_COURSES_BEGINNER_DATASCIENCE  19974 non-null  float64\n",
            " 7   NUM_COURSES_BEGINNER_BACKEND      19982 non-null  float64\n",
            " 8   NUM_COURSES_BEGINNER_FRONTEND     19961 non-null  float64\n",
            " 9   NUM_COURSES_ADVANCED_DATASCIENCE  19998 non-null  float64\n",
            " 10  NUM_COURSES_ADVANCED_BACKEND      19992 non-null  float64\n",
            " 11  NUM_COURSES_ADVANCED_FRONTEND     19963 non-null  float64\n",
            " 12  AVG_SCORE_DATASCIENCE             19780 non-null  float64\n",
            " 13  AVG_SCORE_BACKEND                 19916 non-null  float64\n",
            " 14  AVG_SCORE_FRONTEND                19832 non-null  float64\n",
            " 15  PROFILE                           20000 non-null  object \n",
            "dtypes: float64(12), int64(2), object(2)\n",
            "memory usage: 2.4+ MB\n"
          ]
        }
      ]
    },
    {
      "cell_type": "code",
      "metadata": {
        "colab": {
          "base_uri": "https://localhost:8080/"
        },
        "id": "7H1RjBIM6FL4",
        "outputId": "b6c73260-00b3-42f2-c41e-dbfc5bcfef12"
      },
      "source": [
        "profile_counts = data[\"PROFILE\"].value_counts()\n",
        "profile_counts"
      ],
      "execution_count": null,
      "outputs": [
        {
          "output_type": "execute_result",
          "data": {
            "text/plain": [
              "advanced_backend         3339\n",
              "advanced_front_end       3337\n",
              "beginner_front_end       3335\n",
              "beginner_backend         3332\n",
              "advanced_data_science    3330\n",
              "beginner_data_science    3327\n",
              "Name: PROFILE, dtype: int64"
            ]
          },
          "metadata": {},
          "execution_count": 85
        }
      ]
    },
    {
      "cell_type": "code",
      "metadata": {
        "colab": {
          "base_uri": "https://localhost:8080/"
        },
        "id": "j47rSKeX6FOM",
        "outputId": "882df297-6d0d-4a1d-b7a1-b337fb3ab9e0"
      },
      "source": [
        "nan_columns = (\"HOURS_DATASCIENCE\", \"HOURS_BACKEND\", \"HOURS_FRONTEND\", \n",
        "               \"NUM_COURSES_BEGINNER_DATASCIENCE\", \"NUM_COURSES_BEGINNER_BACKEND\",\n",
        "               \"NUM_COURSES_BEGINNER_FRONTEND\", \"NUM_COURSES_ADVANCED_DATASCIENCE\",\n",
        "               \"NUM_COURSES_ADVANCED_BACKEND\", \"NUM_COURSES_ADVANCED_FRONTEND\",\n",
        "               \"AVG_SCORE_DATASCIENCE\", \"AVG_SCORE_BACKEND\", \"AVG_SCORE_FRONTEND\")\n",
        "\n",
        "for column in nan_columns:\n",
        "  data[column].fillna(data[column].mean(), inplace=True)\n",
        "data.isna().mean().sum()"
      ],
      "execution_count": null,
      "outputs": [
        {
          "output_type": "execute_result",
          "data": {
            "text/plain": [
              "0.0"
            ]
          },
          "metadata": {},
          "execution_count": 86
        }
      ]
    },
    {
      "cell_type": "markdown",
      "metadata": {
        "id": "o5R5X2Ko6LR0"
      },
      "source": [
        "Переведем профиль в числовой тип"
      ]
    },
    {
      "cell_type": "code",
      "metadata": {
        "colab": {
          "base_uri": "https://localhost:8080/"
        },
        "id": "zJK5B1jK6FQg",
        "outputId": "88ccfdb1-3ab6-4ab0-d116-8a2ba4c0e21d"
      },
      "source": [
        "encoder = LabelEncoder()\n",
        "encoder.fit(data[\"PROFILE\"])\n",
        "encoder.classes_"
      ],
      "execution_count": null,
      "outputs": [
        {
          "output_type": "execute_result",
          "data": {
            "text/plain": [
              "array(['advanced_backend', 'advanced_data_science', 'advanced_front_end',\n",
              "       'beginner_backend', 'beginner_data_science', 'beginner_front_end'],\n",
              "      dtype=object)"
            ]
          },
          "metadata": {},
          "execution_count": 87
        }
      ]
    },
    {
      "cell_type": "code",
      "metadata": {
        "id": "XUJD-gva6FS0"
      },
      "source": [
        "data[\"PROFILE\"] = encoder.transform(data[\"PROFILE\"])"
      ],
      "execution_count": null,
      "outputs": []
    },
    {
      "cell_type": "markdown",
      "metadata": {
        "id": "0hfZkTKm6mF0"
      },
      "source": [
        "Посмотрим на матрицу корреляции\n",
        "\n",
        "Видно, что есть зависимость с кол-во часов, потраченных на datasience и frontend/ И кол-во курсов на back-end разработку"
      ]
    },
    {
      "cell_type": "code",
      "metadata": {
        "colab": {
          "base_uri": "https://localhost:8080/",
          "height": 609
        },
        "id": "yTtT43Pj6mzi",
        "outputId": "dc650175-ef5e-4625-9266-10c92c25703d"
      },
      "source": [
        "plt.figure(figsize=(16, 6))\n",
        "\n",
        "heatmap = sns.heatmap(data.corr(), vmin=-1, vmax=1, annot=True, cmap=\"Blues\")\n",
        "\n",
        "heatmap.set_title(\"Матрица корреляции\")"
      ],
      "execution_count": null,
      "outputs": [
        {
          "output_type": "execute_result",
          "data": {
            "text/plain": [
              "Text(0.5, 1.0, 'Матрица корреляции')"
            ]
          },
          "metadata": {},
          "execution_count": 89
        },
        {
          "output_type": "display_data",
          "data": {
            "image/png": "[encoded data removed]",
            "text/plain": [
              "<Figure size 1152x432 with 2 Axes>"
            ]
          },
          "metadata": {
            "needs_background": "light"
          }
        }
      ]
    },
    {
      "cell_type": "code",
      "metadata": {
        "id": "lkeLJ6_Q6m1f"
      },
      "source": [
        "X = data.drop(columns=['PROFILE', \"Unnamed: 0\", \"NAME\", \"USER_ID\"]) \n",
        "y = data['PROFILE']"
      ],
      "execution_count": null,
      "outputs": []
    },
    {
      "cell_type": "markdown",
      "metadata": {
        "id": "zDZya7-57n34"
      },
      "source": [
        "Применим стандартизацию"
      ]
    },
    {
      "cell_type": "code",
      "metadata": {
        "id": "AhZIBJXn7i1H"
      },
      "source": [
        "sdc = StandardScaler()\n",
        "X_sdc = sdc.fit_transform(X)"
      ],
      "execution_count": null,
      "outputs": []
    },
    {
      "cell_type": "code",
      "metadata": {
        "colab": {
          "base_uri": "https://localhost:8080/"
        },
        "id": "IM5vsRfV6ynZ",
        "outputId": "dfa60267-89db-4ee0-b11a-d566fe1ff1db"
      },
      "source": [
        "X_train, X_test, y_train, y_test = train_test_split(X_sdc, y.values, \n",
        "                                                    test_size=0.2, random_state=42)\n",
        "X_train.shape, X_test.shape, y_train.shape, y_test.shape"
      ],
      "execution_count": null,
      "outputs": [
        {
          "output_type": "execute_result",
          "data": {
            "text/plain": [
              "((16000, 12), (4000, 12), (16000,), (4000,))"
            ]
          },
          "metadata": {},
          "execution_count": 92
        }
      ]
    },
    {
      "cell_type": "markdown",
      "metadata": {
        "id": "PXCanFdXHCIj"
      },
      "source": [
        "### (2 балла) Обучите несколько моделей, посмотрите на метрики.\n",
        "Как модели точно возьмите LogisticRegression, KNN и константу, можете придумать еще какие-нибудь.\n",
        "\n",
        "Как метрики точно возьмите accuracy, разные усреднения precision, recall и f1."
      ]
    },
    {
      "cell_type": "markdown",
      "metadata": {
        "id": "UlUpj6U48QlS"
      },
      "source": [
        "Константа, всегда выбираем класс, который встечается чаще"
      ]
    },
    {
      "cell_type": "code",
      "metadata": {
        "id": "O7Zn2joL8ViK"
      },
      "source": [
        "const_pred = data[\"PROFILE\"].max() + np.zeros(len(y_test))"
      ],
      "execution_count": null,
      "outputs": []
    },
    {
      "cell_type": "markdown",
      "metadata": {
        "id": "ktavDdVk7_ZZ"
      },
      "source": [
        "Рандомно выбираем профиль - от 0 до 5 (вторая константа)"
      ]
    },
    {
      "cell_type": "code",
      "metadata": {
        "id": "uAtQnPACHCIj"
      },
      "source": [
        "prob_pred = np.random.randint(5, size=len(y_test))"
      ],
      "execution_count": null,
      "outputs": []
    },
    {
      "cell_type": "code",
      "metadata": {
        "id": "exoQzagG7twc"
      },
      "source": [
        "knn = KNeighborsClassifier()\n",
        "knn.fit(X_train, y_train)\n",
        "knn_pred = knn.predict(X_test)"
      ],
      "execution_count": null,
      "outputs": []
    },
    {
      "cell_type": "code",
      "metadata": {
        "id": "-TXzy7Mp7ty4"
      },
      "source": [
        "logreg = LogisticRegression(random_state=42, multi_class='multinomial')\n",
        "logreg.fit(X_train, y_train)\n",
        "logreg_pred = logreg.predict(X_test)"
      ],
      "execution_count": null,
      "outputs": []
    },
    {
      "cell_type": "markdown",
      "metadata": {
        "id": "Fgo_uaWS9k32"
      },
      "source": [
        "KNN лучше всех..."
      ]
    },
    {
      "cell_type": "code",
      "metadata": {
        "colab": {
          "base_uri": "https://localhost:8080/"
        },
        "id": "AE4OUjxp7t1g",
        "outputId": "df8b2df5-4926-49e3-db0c-ab9ab5351be9"
      },
      "source": [
        "metrics = {\"Precision\": precision_score, \"Recall\": recall_score, \n",
        "           \"F1\": f1_score}\n",
        "\n",
        "for name_metric, metric in metrics.items():\n",
        "  print(name_metric)\n",
        "  print(f\"Const1 = {metric(y_test, const_pred, average='micro')}\")\n",
        "  print(f\"Const2 = {metric(y_test, prob_pred, average='micro')}\")\n",
        "  print(f\"KNN = {metric(y_test, knn_pred, average='micro')}\")\n",
        "  print(f\"Logreg = {metric(y_test, logreg_pred, average='micro')}\")\n",
        "  print()\n",
        "\n",
        "print(\"Accuracy\")\n",
        "print(f\"Const1 = {accuracy_score(y_test, const_pred)}\")\n",
        "print(f\"Const2 = {accuracy_score(y_test, prob_pred)}\")\n",
        "print(f\"KNN = {accuracy_score(y_test, knn_pred)}\")\n",
        "print(f\"Logreg = {accuracy_score(y_test, logreg_pred)}\")"
      ],
      "execution_count": null,
      "outputs": [
        {
          "output_type": "stream",
          "name": "stdout",
          "text": [
            "Precision\n",
            "Const1 = 0.1635\n",
            "Const2 = 0.1635\n",
            "KNN = 0.9325\n",
            "Logreg = 0.696\n",
            "\n",
            "Recall\n",
            "Const1 = 0.1635\n",
            "Const2 = 0.1635\n",
            "KNN = 0.9325\n",
            "Logreg = 0.696\n",
            "\n",
            "F1\n",
            "Const1 = 0.1635\n",
            "Const2 = 0.1635\n",
            "KNN = 0.9325\n",
            "Logreg = 0.696\n",
            "\n",
            "Accuracy\n",
            "Const1 = 0.1635\n",
            "Const2 = 0.1635\n",
            "KNN = 0.9325\n",
            "Logreg = 0.696\n"
          ]
        }
      ]
    },
    {
      "cell_type": "markdown",
      "metadata": {
        "id": "F0gt8Al8Chz3"
      },
      "source": [
        "Попробуем улучшить логистическую регрессию"
      ]
    },
    {
      "cell_type": "code",
      "metadata": {
        "colab": {
          "base_uri": "https://localhost:8080/"
        },
        "id": "RXMmsC-97t3v",
        "outputId": "fda2f257-4bb7-4906-f52d-d2f5138b5dcd"
      },
      "source": [
        "logreg_grid = {\"penalty\": ['l1', 'l2', \"elasticnet\", \"none\"],\n",
        "               'solver': ['newton-cg', 'saga','sag', \"lbfgs\"],\n",
        "               \"C\": np.arange(1.0, 3.0, 0.5),\n",
        "               \"random_state\": [42],\n",
        "               \"multi_class\": ['multinomial']}\n",
        "\n",
        "cross_val_logreg = GridSearchCV(LogisticRegression(), logreg_grid, cv=5, verbose=0)\n",
        "cross_val_logreg.fit(X_train, y_train)"
      ],
      "execution_count": null,
      "outputs": [
        {
          "output_type": "stream",
          "name": "stderr",
          "text": [
            "/usr/local/lib/python3.7/dist-packages/sklearn/linear_model/_logistic.py:1484: UserWarning: Setting penalty='none' will ignore the C and l1_ratio parameters\n",
            "  \"Setting penalty='none' will ignore the C and l1_ratio parameters\"\n",
            "/usr/local/lib/python3.7/dist-packages/sklearn/linear_model/_logistic.py:1484: UserWarning: Setting penalty='none' will ignore the C and l1_ratio parameters\n",
            "  \"Setting penalty='none' will ignore the C and l1_ratio parameters\"\n",
            "/usr/local/lib/python3.7/dist-packages/sklearn/linear_model/_logistic.py:1484: UserWarning: Setting penalty='none' will ignore the C and l1_ratio parameters\n",
            "  \"Setting penalty='none' will ignore the C and l1_ratio parameters\"\n",
            "/usr/local/lib/python3.7/dist-packages/sklearn/linear_model/_logistic.py:1484: UserWarning: Setting penalty='none' will ignore the C and l1_ratio parameters\n",
            "  \"Setting penalty='none' will ignore the C and l1_ratio parameters\"\n",
            "/usr/local/lib/python3.7/dist-packages/sklearn/linear_model/_logistic.py:1484: UserWarning: Setting penalty='none' will ignore the C and l1_ratio parameters\n",
            "  \"Setting penalty='none' will ignore the C and l1_ratio parameters\"\n",
            "/usr/local/lib/python3.7/dist-packages/sklearn/linear_model/_logistic.py:1484: UserWarning: Setting penalty='none' will ignore the C and l1_ratio parameters\n",
            "  \"Setting penalty='none' will ignore the C and l1_ratio parameters\"\n",
            "/usr/local/lib/python3.7/dist-packages/sklearn/linear_model/_logistic.py:1484: UserWarning: Setting penalty='none' will ignore the C and l1_ratio parameters\n",
            "  \"Setting penalty='none' will ignore the C and l1_ratio parameters\"\n",
            "/usr/local/lib/python3.7/dist-packages/sklearn/linear_model/_logistic.py:1484: UserWarning: Setting penalty='none' will ignore the C and l1_ratio parameters\n",
            "  \"Setting penalty='none' will ignore the C and l1_ratio parameters\"\n",
            "/usr/local/lib/python3.7/dist-packages/sklearn/linear_model/_logistic.py:1484: UserWarning: Setting penalty='none' will ignore the C and l1_ratio parameters\n",
            "  \"Setting penalty='none' will ignore the C and l1_ratio parameters\"\n",
            "/usr/local/lib/python3.7/dist-packages/sklearn/linear_model/_logistic.py:1484: UserWarning: Setting penalty='none' will ignore the C and l1_ratio parameters\n",
            "  \"Setting penalty='none' will ignore the C and l1_ratio parameters\"\n",
            "/usr/local/lib/python3.7/dist-packages/sklearn/linear_model/_logistic.py:1484: UserWarning: Setting penalty='none' will ignore the C and l1_ratio parameters\n",
            "  \"Setting penalty='none' will ignore the C and l1_ratio parameters\"\n",
            "/usr/local/lib/python3.7/dist-packages/sklearn/linear_model/_logistic.py:1484: UserWarning: Setting penalty='none' will ignore the C and l1_ratio parameters\n",
            "  \"Setting penalty='none' will ignore the C and l1_ratio parameters\"\n",
            "/usr/local/lib/python3.7/dist-packages/sklearn/linear_model/_logistic.py:1484: UserWarning: Setting penalty='none' will ignore the C and l1_ratio parameters\n",
            "  \"Setting penalty='none' will ignore the C and l1_ratio parameters\"\n",
            "/usr/local/lib/python3.7/dist-packages/sklearn/linear_model/_logistic.py:1484: UserWarning: Setting penalty='none' will ignore the C and l1_ratio parameters\n",
            "  \"Setting penalty='none' will ignore the C and l1_ratio parameters\"\n",
            "/usr/local/lib/python3.7/dist-packages/sklearn/linear_model/_logistic.py:1484: UserWarning: Setting penalty='none' will ignore the C and l1_ratio parameters\n",
            "  \"Setting penalty='none' will ignore the C and l1_ratio parameters\"\n",
            "/usr/local/lib/python3.7/dist-packages/sklearn/linear_model/_logistic.py:1484: UserWarning: Setting penalty='none' will ignore the C and l1_ratio parameters\n",
            "  \"Setting penalty='none' will ignore the C and l1_ratio parameters\"\n",
            "/usr/local/lib/python3.7/dist-packages/sklearn/linear_model/_logistic.py:1484: UserWarning: Setting penalty='none' will ignore the C and l1_ratio parameters\n",
            "  \"Setting penalty='none' will ignore the C and l1_ratio parameters\"\n",
            "/usr/local/lib/python3.7/dist-packages/sklearn/linear_model/_logistic.py:1484: UserWarning: Setting penalty='none' will ignore the C and l1_ratio parameters\n",
            "  \"Setting penalty='none' will ignore the C and l1_ratio parameters\"\n",
            "/usr/local/lib/python3.7/dist-packages/sklearn/linear_model/_logistic.py:1484: UserWarning: Setting penalty='none' will ignore the C and l1_ratio parameters\n",
            "  \"Setting penalty='none' will ignore the C and l1_ratio parameters\"\n",
            "/usr/local/lib/python3.7/dist-packages/sklearn/linear_model/_logistic.py:1484: UserWarning: Setting penalty='none' will ignore the C and l1_ratio parameters\n",
            "  \"Setting penalty='none' will ignore the C and l1_ratio parameters\"\n",
            "/usr/local/lib/python3.7/dist-packages/sklearn/linear_model/_logistic.py:1484: UserWarning: Setting penalty='none' will ignore the C and l1_ratio parameters\n",
            "  \"Setting penalty='none' will ignore the C and l1_ratio parameters\"\n",
            "/usr/local/lib/python3.7/dist-packages/sklearn/linear_model/_logistic.py:1484: UserWarning: Setting penalty='none' will ignore the C and l1_ratio parameters\n",
            "  \"Setting penalty='none' will ignore the C and l1_ratio parameters\"\n",
            "/usr/local/lib/python3.7/dist-packages/sklearn/linear_model/_logistic.py:1484: UserWarning: Setting penalty='none' will ignore the C and l1_ratio parameters\n",
            "  \"Setting penalty='none' will ignore the C and l1_ratio parameters\"\n",
            "/usr/local/lib/python3.7/dist-packages/sklearn/linear_model/_logistic.py:1484: UserWarning: Setting penalty='none' will ignore the C and l1_ratio parameters\n",
            "  \"Setting penalty='none' will ignore the C and l1_ratio parameters\"\n",
            "/usr/local/lib/python3.7/dist-packages/sklearn/linear_model/_logistic.py:1484: UserWarning: Setting penalty='none' will ignore the C and l1_ratio parameters\n",
            "  \"Setting penalty='none' will ignore the C and l1_ratio parameters\"\n",
            "/usr/local/lib/python3.7/dist-packages/sklearn/linear_model/_logistic.py:1484: UserWarning: Setting penalty='none' will ignore the C and l1_ratio parameters\n",
            "  \"Setting penalty='none' will ignore the C and l1_ratio parameters\"\n",
            "/usr/local/lib/python3.7/dist-packages/sklearn/linear_model/_logistic.py:1484: UserWarning: Setting penalty='none' will ignore the C and l1_ratio parameters\n",
            "  \"Setting penalty='none' will ignore the C and l1_ratio parameters\"\n",
            "/usr/local/lib/python3.7/dist-packages/sklearn/linear_model/_logistic.py:1484: UserWarning: Setting penalty='none' will ignore the C and l1_ratio parameters\n",
            "  \"Setting penalty='none' will ignore the C and l1_ratio parameters\"\n",
            "/usr/local/lib/python3.7/dist-packages/sklearn/linear_model/_logistic.py:1484: UserWarning: Setting penalty='none' will ignore the C and l1_ratio parameters\n",
            "  \"Setting penalty='none' will ignore the C and l1_ratio parameters\"\n",
            "/usr/local/lib/python3.7/dist-packages/sklearn/linear_model/_logistic.py:1484: UserWarning: Setting penalty='none' will ignore the C and l1_ratio parameters\n",
            "  \"Setting penalty='none' will ignore the C and l1_ratio parameters\"\n",
            "/usr/local/lib/python3.7/dist-packages/sklearn/linear_model/_logistic.py:1484: UserWarning: Setting penalty='none' will ignore the C and l1_ratio parameters\n",
            "  \"Setting penalty='none' will ignore the C and l1_ratio parameters\"\n",
            "/usr/local/lib/python3.7/dist-packages/sklearn/linear_model/_logistic.py:1484: UserWarning: Setting penalty='none' will ignore the C and l1_ratio parameters\n",
            "  \"Setting penalty='none' will ignore the C and l1_ratio parameters\"\n",
            "/usr/local/lib/python3.7/dist-packages/sklearn/linear_model/_logistic.py:1484: UserWarning: Setting penalty='none' will ignore the C and l1_ratio parameters\n",
            "  \"Setting penalty='none' will ignore the C and l1_ratio parameters\"\n",
            "/usr/local/lib/python3.7/dist-packages/sklearn/linear_model/_logistic.py:1484: UserWarning: Setting penalty='none' will ignore the C and l1_ratio parameters\n",
            "  \"Setting penalty='none' will ignore the C and l1_ratio parameters\"\n",
            "/usr/local/lib/python3.7/dist-packages/sklearn/linear_model/_logistic.py:1484: UserWarning: Setting penalty='none' will ignore the C and l1_ratio parameters\n",
            "  \"Setting penalty='none' will ignore the C and l1_ratio parameters\"\n",
            "/usr/local/lib/python3.7/dist-packages/sklearn/linear_model/_logistic.py:1484: UserWarning: Setting penalty='none' will ignore the C and l1_ratio parameters\n",
            "  \"Setting penalty='none' will ignore the C and l1_ratio parameters\"\n",
            "/usr/local/lib/python3.7/dist-packages/sklearn/linear_model/_logistic.py:1484: UserWarning: Setting penalty='none' will ignore the C and l1_ratio parameters\n",
            "  \"Setting penalty='none' will ignore the C and l1_ratio parameters\"\n",
            "/usr/local/lib/python3.7/dist-packages/sklearn/linear_model/_logistic.py:1484: UserWarning: Setting penalty='none' will ignore the C and l1_ratio parameters\n",
            "  \"Setting penalty='none' will ignore the C and l1_ratio parameters\"\n",
            "/usr/local/lib/python3.7/dist-packages/sklearn/linear_model/_logistic.py:1484: UserWarning: Setting penalty='none' will ignore the C and l1_ratio parameters\n",
            "  \"Setting penalty='none' will ignore the C and l1_ratio parameters\"\n",
            "/usr/local/lib/python3.7/dist-packages/sklearn/linear_model/_logistic.py:1484: UserWarning: Setting penalty='none' will ignore the C and l1_ratio parameters\n",
            "  \"Setting penalty='none' will ignore the C and l1_ratio parameters\"\n",
            "/usr/local/lib/python3.7/dist-packages/sklearn/linear_model/_logistic.py:1484: UserWarning: Setting penalty='none' will ignore the C and l1_ratio parameters\n",
            "  \"Setting penalty='none' will ignore the C and l1_ratio parameters\"\n",
            "/usr/local/lib/python3.7/dist-packages/sklearn/linear_model/_logistic.py:1484: UserWarning: Setting penalty='none' will ignore the C and l1_ratio parameters\n",
            "  \"Setting penalty='none' will ignore the C and l1_ratio parameters\"\n",
            "/usr/local/lib/python3.7/dist-packages/sklearn/linear_model/_logistic.py:1484: UserWarning: Setting penalty='none' will ignore the C and l1_ratio parameters\n",
            "  \"Setting penalty='none' will ignore the C and l1_ratio parameters\"\n",
            "/usr/local/lib/python3.7/dist-packages/sklearn/linear_model/_logistic.py:1484: UserWarning: Setting penalty='none' will ignore the C and l1_ratio parameters\n",
            "  \"Setting penalty='none' will ignore the C and l1_ratio parameters\"\n",
            "/usr/local/lib/python3.7/dist-packages/sklearn/linear_model/_logistic.py:1484: UserWarning: Setting penalty='none' will ignore the C and l1_ratio parameters\n",
            "  \"Setting penalty='none' will ignore the C and l1_ratio parameters\"\n",
            "/usr/local/lib/python3.7/dist-packages/sklearn/linear_model/_logistic.py:1484: UserWarning: Setting penalty='none' will ignore the C and l1_ratio parameters\n",
            "  \"Setting penalty='none' will ignore the C and l1_ratio parameters\"\n",
            "/usr/local/lib/python3.7/dist-packages/sklearn/linear_model/_logistic.py:1484: UserWarning: Setting penalty='none' will ignore the C and l1_ratio parameters\n",
            "  \"Setting penalty='none' will ignore the C and l1_ratio parameters\"\n",
            "/usr/local/lib/python3.7/dist-packages/sklearn/linear_model/_logistic.py:1484: UserWarning: Setting penalty='none' will ignore the C and l1_ratio parameters\n",
            "  \"Setting penalty='none' will ignore the C and l1_ratio parameters\"\n",
            "/usr/local/lib/python3.7/dist-packages/sklearn/linear_model/_logistic.py:1484: UserWarning: Setting penalty='none' will ignore the C and l1_ratio parameters\n",
            "  \"Setting penalty='none' will ignore the C and l1_ratio parameters\"\n",
            "/usr/local/lib/python3.7/dist-packages/sklearn/linear_model/_logistic.py:1484: UserWarning: Setting penalty='none' will ignore the C and l1_ratio parameters\n",
            "  \"Setting penalty='none' will ignore the C and l1_ratio parameters\"\n",
            "/usr/local/lib/python3.7/dist-packages/sklearn/linear_model/_logistic.py:1484: UserWarning: Setting penalty='none' will ignore the C and l1_ratio parameters\n",
            "  \"Setting penalty='none' will ignore the C and l1_ratio parameters\"\n",
            "/usr/local/lib/python3.7/dist-packages/sklearn/linear_model/_logistic.py:1484: UserWarning: Setting penalty='none' will ignore the C and l1_ratio parameters\n",
            "  \"Setting penalty='none' will ignore the C and l1_ratio parameters\"\n",
            "/usr/local/lib/python3.7/dist-packages/sklearn/linear_model/_logistic.py:1484: UserWarning: Setting penalty='none' will ignore the C and l1_ratio parameters\n",
            "  \"Setting penalty='none' will ignore the C and l1_ratio parameters\"\n",
            "/usr/local/lib/python3.7/dist-packages/sklearn/linear_model/_logistic.py:1484: UserWarning: Setting penalty='none' will ignore the C and l1_ratio parameters\n",
            "  \"Setting penalty='none' will ignore the C and l1_ratio parameters\"\n",
            "/usr/local/lib/python3.7/dist-packages/sklearn/linear_model/_logistic.py:1484: UserWarning: Setting penalty='none' will ignore the C and l1_ratio parameters\n",
            "  \"Setting penalty='none' will ignore the C and l1_ratio parameters\"\n",
            "/usr/local/lib/python3.7/dist-packages/sklearn/linear_model/_logistic.py:1484: UserWarning: Setting penalty='none' will ignore the C and l1_ratio parameters\n",
            "  \"Setting penalty='none' will ignore the C and l1_ratio parameters\"\n",
            "/usr/local/lib/python3.7/dist-packages/sklearn/linear_model/_logistic.py:1484: UserWarning: Setting penalty='none' will ignore the C and l1_ratio parameters\n",
            "  \"Setting penalty='none' will ignore the C and l1_ratio parameters\"\n",
            "/usr/local/lib/python3.7/dist-packages/sklearn/linear_model/_logistic.py:1484: UserWarning: Setting penalty='none' will ignore the C and l1_ratio parameters\n",
            "  \"Setting penalty='none' will ignore the C and l1_ratio parameters\"\n",
            "/usr/local/lib/python3.7/dist-packages/sklearn/linear_model/_logistic.py:1484: UserWarning: Setting penalty='none' will ignore the C and l1_ratio parameters\n",
            "  \"Setting penalty='none' will ignore the C and l1_ratio parameters\"\n",
            "/usr/local/lib/python3.7/dist-packages/sklearn/linear_model/_logistic.py:1484: UserWarning: Setting penalty='none' will ignore the C and l1_ratio parameters\n",
            "  \"Setting penalty='none' will ignore the C and l1_ratio parameters\"\n",
            "/usr/local/lib/python3.7/dist-packages/sklearn/model_selection/_validation.py:372: FitFailedWarning: \n",
            "140 fits failed out of a total of 320.\n",
            "The score on these train-test partitions for these parameters will be set to nan.\n",
            "If these failures are not expected, you can try to debug them by setting error_score='raise'.\n",
            "\n",
            "Below are more details about the failures:\n",
            "--------------------------------------------------------------------------------\n",
            "20 fits failed with the following error:\n",
            "Traceback (most recent call last):\n",
            "  File \"/usr/local/lib/python3.7/dist-packages/sklearn/model_selection/_validation.py\", line 681, in _fit_and_score\n",
            "    estimator.fit(X_train, y_train, **fit_params)\n",
            "  File \"/usr/local/lib/python3.7/dist-packages/sklearn/linear_model/_logistic.py\", line 1461, in fit\n",
            "    solver = _check_solver(self.solver, self.penalty, self.dual)\n",
            "  File \"/usr/local/lib/python3.7/dist-packages/sklearn/linear_model/_logistic.py\", line 449, in _check_solver\n",
            "    % (solver, penalty)\n",
            "ValueError: Solver newton-cg supports only 'l2' or 'none' penalties, got l1 penalty.\n",
            "\n",
            "--------------------------------------------------------------------------------\n",
            "20 fits failed with the following error:\n",
            "Traceback (most recent call last):\n",
            "  File \"/usr/local/lib/python3.7/dist-packages/sklearn/model_selection/_validation.py\", line 681, in _fit_and_score\n",
            "    estimator.fit(X_train, y_train, **fit_params)\n",
            "  File \"/usr/local/lib/python3.7/dist-packages/sklearn/linear_model/_logistic.py\", line 1461, in fit\n",
            "    solver = _check_solver(self.solver, self.penalty, self.dual)\n",
            "  File \"/usr/local/lib/python3.7/dist-packages/sklearn/linear_model/_logistic.py\", line 449, in _check_solver\n",
            "    % (solver, penalty)\n",
            "ValueError: Solver sag supports only 'l2' or 'none' penalties, got l1 penalty.\n",
            "\n",
            "--------------------------------------------------------------------------------\n",
            "20 fits failed with the following error:\n",
            "Traceback (most recent call last):\n",
            "  File \"/usr/local/lib/python3.7/dist-packages/sklearn/model_selection/_validation.py\", line 681, in _fit_and_score\n",
            "    estimator.fit(X_train, y_train, **fit_params)\n",
            "  File \"/usr/local/lib/python3.7/dist-packages/sklearn/linear_model/_logistic.py\", line 1461, in fit\n",
            "    solver = _check_solver(self.solver, self.penalty, self.dual)\n",
            "  File \"/usr/local/lib/python3.7/dist-packages/sklearn/linear_model/_logistic.py\", line 449, in _check_solver\n",
            "    % (solver, penalty)\n",
            "ValueError: Solver lbfgs supports only 'l2' or 'none' penalties, got l1 penalty.\n",
            "\n",
            "--------------------------------------------------------------------------------\n",
            "20 fits failed with the following error:\n",
            "Traceback (most recent call last):\n",
            "  File \"/usr/local/lib/python3.7/dist-packages/sklearn/model_selection/_validation.py\", line 681, in _fit_and_score\n",
            "    estimator.fit(X_train, y_train, **fit_params)\n",
            "  File \"/usr/local/lib/python3.7/dist-packages/sklearn/linear_model/_logistic.py\", line 1461, in fit\n",
            "    solver = _check_solver(self.solver, self.penalty, self.dual)\n",
            "  File \"/usr/local/lib/python3.7/dist-packages/sklearn/linear_model/_logistic.py\", line 449, in _check_solver\n",
            "    % (solver, penalty)\n",
            "ValueError: Solver newton-cg supports only 'l2' or 'none' penalties, got elasticnet penalty.\n",
            "\n",
            "--------------------------------------------------------------------------------\n",
            "20 fits failed with the following error:\n",
            "Traceback (most recent call last):\n",
            "  File \"/usr/local/lib/python3.7/dist-packages/sklearn/model_selection/_validation.py\", line 681, in _fit_and_score\n",
            "    estimator.fit(X_train, y_train, **fit_params)\n",
            "  File \"/usr/local/lib/python3.7/dist-packages/sklearn/linear_model/_logistic.py\", line 1473, in fit\n",
            "    % self.l1_ratio\n",
            "ValueError: l1_ratio must be between 0 and 1; got (l1_ratio=None)\n",
            "\n",
            "--------------------------------------------------------------------------------\n",
            "20 fits failed with the following error:\n",
            "Traceback (most recent call last):\n",
            "  File \"/usr/local/lib/python3.7/dist-packages/sklearn/model_selection/_validation.py\", line 681, in _fit_and_score\n",
            "    estimator.fit(X_train, y_train, **fit_params)\n",
            "  File \"/usr/local/lib/python3.7/dist-packages/sklearn/linear_model/_logistic.py\", line 1461, in fit\n",
            "    solver = _check_solver(self.solver, self.penalty, self.dual)\n",
            "  File \"/usr/local/lib/python3.7/dist-packages/sklearn/linear_model/_logistic.py\", line 449, in _check_solver\n",
            "    % (solver, penalty)\n",
            "ValueError: Solver sag supports only 'l2' or 'none' penalties, got elasticnet penalty.\n",
            "\n",
            "--------------------------------------------------------------------------------\n",
            "20 fits failed with the following error:\n",
            "Traceback (most recent call last):\n",
            "  File \"/usr/local/lib/python3.7/dist-packages/sklearn/model_selection/_validation.py\", line 681, in _fit_and_score\n",
            "    estimator.fit(X_train, y_train, **fit_params)\n",
            "  File \"/usr/local/lib/python3.7/dist-packages/sklearn/linear_model/_logistic.py\", line 1461, in fit\n",
            "    solver = _check_solver(self.solver, self.penalty, self.dual)\n",
            "  File \"/usr/local/lib/python3.7/dist-packages/sklearn/linear_model/_logistic.py\", line 449, in _check_solver\n",
            "    % (solver, penalty)\n",
            "ValueError: Solver lbfgs supports only 'l2' or 'none' penalties, got elasticnet penalty.\n",
            "\n",
            "  warnings.warn(some_fits_failed_message, FitFailedWarning)\n",
            "/usr/local/lib/python3.7/dist-packages/sklearn/model_selection/_search.py:972: UserWarning: One or more of the test scores are non-finite: [      nan 0.7056875       nan       nan 0.7055    0.7054375 0.7054375\n",
            " 0.7055          nan       nan       nan       nan 0.705375  0.705375\n",
            " 0.705375  0.705375        nan 0.7055625       nan       nan 0.7055\n",
            " 0.7055    0.7054375 0.7055          nan       nan       nan       nan\n",
            " 0.705375  0.705375  0.705375  0.705375        nan 0.7055          nan\n",
            "       nan 0.7055    0.7055    0.7054375 0.7054375       nan       nan\n",
            "       nan       nan 0.705375  0.705375  0.705375  0.705375        nan\n",
            " 0.7055          nan       nan 0.7055    0.7055    0.7054375 0.7054375\n",
            "       nan       nan       nan       nan 0.705375  0.705375  0.705375\n",
            " 0.705375 ]\n",
            "  category=UserWarning,\n"
          ]
        },
        {
          "output_type": "execute_result",
          "data": {
            "text/plain": [
              "GridSearchCV(cv=5, estimator=LogisticRegression(),\n",
              "             param_grid={'C': array([1. , 1.5, 2. , 2.5]),\n",
              "                         'multi_class': ['multinomial'],\n",
              "                         'penalty': ['l1', 'l2', 'elasticnet', 'none'],\n",
              "                         'random_state': [42],\n",
              "                         'solver': ['newton-cg', 'saga', 'sag', 'lbfgs']})"
            ]
          },
          "metadata": {},
          "execution_count": 98
        }
      ]
    },
    {
      "cell_type": "code",
      "metadata": {
        "colab": {
          "base_uri": "https://localhost:8080/"
        },
        "id": "ehVGLmihCrkI",
        "outputId": "db79033f-3dd0-4769-b2f7-0e6a743a3d46"
      },
      "source": [
        "cross_val_logreg.best_params_"
      ],
      "execution_count": null,
      "outputs": [
        {
          "output_type": "execute_result",
          "data": {
            "text/plain": [
              "{'C': 1.0,\n",
              " 'multi_class': 'multinomial',\n",
              " 'penalty': 'l1',\n",
              " 'random_state': 42,\n",
              " 'solver': 'saga'}"
            ]
          },
          "metadata": {},
          "execution_count": 99
        }
      ]
    },
    {
      "cell_type": "code",
      "metadata": {
        "colab": {
          "base_uri": "https://localhost:8080/"
        },
        "id": "srWbfYlSCvB2",
        "outputId": "ddf9ef31-f70e-4d6a-cde2-d15d035e14fb"
      },
      "source": [
        "cross_val_logreg_pred = cross_val_logreg.predict(X_test)\n",
        "accuracy_score(y_test, cross_val_logreg_pred)"
      ],
      "execution_count": null,
      "outputs": [
        {
          "output_type": "execute_result",
          "data": {
            "text/plain": [
              "0.69575"
            ]
          },
          "metadata": {},
          "execution_count": 100
        }
      ]
    },
    {
      "cell_type": "code",
      "metadata": {
        "colab": {
          "base_uri": "https://localhost:8080/"
        },
        "id": "kVepPTec_AxS",
        "outputId": "2a02f80d-a317-47ec-cdaa-af2684aca03c"
      },
      "source": [
        "cv = RepeatedStratifiedKFold(n_splits=10, n_repeats=3, random_state=42)\n",
        "scores = cross_val_score(LogisticRegression(), X_train, y_train, scoring='accuracy', cv=cv)\n",
        "scores.mean()"
      ],
      "execution_count": null,
      "outputs": [
        {
          "output_type": "execute_result",
          "data": {
            "text/plain": [
              "0.7057916666666667"
            ]
          },
          "metadata": {},
          "execution_count": 101
        }
      ]
    },
    {
      "cell_type": "markdown",
      "metadata": {
        "id": "3ev4nTk9DFtc"
      },
      "source": [
        "Логрег работает плохо - лучший результат 70%. У KNN - 93%\n",
        "\n",
        "Попоробуем другие модели"
      ]
    },
    {
      "cell_type": "markdown",
      "metadata": {
        "id": "xEnhDDe2HCIk"
      },
      "source": [
        "### (2 балла) Выберите метрику, которую вы хотите максимизировать. Переберите гиперпараметры, постарайтесь найти модель, которая максимизирует эту метрику.\n",
        "\n",
        "Обоснуйте свой выбор. Напишите красивый отчет с графиками. Добились ли вы результатов, которых хотели добиться для этого датасета?"
      ]
    },
    {
      "cell_type": "markdown",
      "metadata": {
        "id": "YZcZ68ZfDbNS"
      },
      "source": [
        "Буду максимизировать accuracy. Классы, которые мы предсказываем сбалансированны. Поэтому доля правильно угаданных объектов будет хорошо показывать истину"
      ]
    },
    {
      "cell_type": "code",
      "metadata": {
        "id": "iJVaTuURGgk3"
      },
      "source": [
        "def draw_scatter(accuracy, title):\n",
        "  plt.plot(accuracy)\n",
        "  plt.scatter(np.arange(5), accuracy, c=\"r\")\n",
        "  plt.title(title)\n",
        "  plt.xlabel(\"Номер запуска\")\n",
        "  plt.ylabel(\"Точность\")\n",
        "  plt.show()"
      ],
      "execution_count": null,
      "outputs": []
    },
    {
      "cell_type": "code",
      "metadata": {
        "colab": {
          "base_uri": "https://localhost:8080/",
          "height": 313
        },
        "id": "Vk4t19kDHCIl",
        "outputId": "920e4f77-1299-43f0-dcaa-bdb555684bf9"
      },
      "source": [
        "tree_accuracy = cross_val_score(DecisionTreeClassifier(random_state=42), X_train, y_train, scoring='accuracy', cv=5)\n",
        "draw_scatter(tree_accuracy, \"Дерево решений\")\n",
        "print(tree_accuracy.mean())"
      ],
      "execution_count": null,
      "outputs": [
        {
          "output_type": "display_data",
          "data": {
            "image/png": "[encoded data removed]",
            "text/plain": [
              "<Figure size 432x288 with 1 Axes>"
            ]
          },
          "metadata": {
            "needs_background": "light"
          }
        },
        {
          "output_type": "stream",
          "name": "stdout",
          "text": [
            "0.76075\n"
          ]
        }
      ]
    },
    {
      "cell_type": "code",
      "metadata": {
        "colab": {
          "base_uri": "https://localhost:8080/",
          "height": 313
        },
        "id": "D3b5oCWUHCIl",
        "outputId": "9d8f9ba4-8dc0-4966-9438-18f38dbbeb56"
      },
      "source": [
        "random_forest_accuracy = cross_val_score(RandomForestClassifier(random_state=42), X_train, y_train, scoring='accuracy', cv=5)\n",
        "draw_scatter(random_forest_accuracy, \"Случайный лес\")\n",
        "print(random_forest_accuracy.mean())"
      ],
      "execution_count": null,
      "outputs": [
        {
          "output_type": "display_data",
          "data": {
            "image/png": "[encoded data removed]",
            "text/plain": [
              "<Figure size 432x288 with 1 Axes>"
            ]
          },
          "metadata": {
            "needs_background": "light"
          }
        },
        {
          "output_type": "stream",
          "name": "stdout",
          "text": [
            "0.915625\n"
          ]
        }
      ]
    },
    {
      "cell_type": "code",
      "metadata": {
        "colab": {
          "base_uri": "https://localhost:8080/",
          "height": 313
        },
        "id": "yvkB2rlLEtxh",
        "outputId": "1b3ee32d-1416-485d-919d-cc3d4fcc1c2c"
      },
      "source": [
        "knn_accuracy = cross_val_score(KNeighborsClassifier(), X_train, y_train, scoring='accuracy', cv=5)\n",
        "draw_scatter(knn_accuracy, \"Случайный лес\")\n",
        "print(knn_accuracy.mean())"
      ],
      "execution_count": null,
      "outputs": [
        {
          "output_type": "display_data",
          "data": {
            "image/png": "[encoded data removed]",
            "text/plain": [
              "<Figure size 432x288 with 1 Axes>"
            ]
          },
          "metadata": {
            "needs_background": "light"
          }
        },
        {
          "output_type": "stream",
          "name": "stdout",
          "text": [
            "0.9294375\n"
          ]
        }
      ]
    },
    {
      "cell_type": "markdown",
      "metadata": {
        "id": "Y1aI2Sq3HeZ6"
      },
      "source": [
        "KNN хорошо работает на этом датасете. Примерно с такой же точностью работает случайный лес. Дерево решений и логистическая регрессия работают хуже."
      ]
    },
    {
      "cell_type": "code",
      "metadata": {
        "colab": {
          "base_uri": "https://localhost:8080/"
        },
        "id": "8RCrNPtl-bB7",
        "outputId": "d2505f16-f0b5-48ce-9d1a-6568527932e6"
      },
      "source": [
        "knn_grid = {\"n_neighbors\": np.arange(4, 10)}\n",
        "\n",
        "knn_cross_val = GridSearchCV(KNeighborsClassifier(), knn_grid, cv=5, verbose=0)\n",
        "knn_cross_val.fit(X_train, y_train)"
      ],
      "execution_count": null,
      "outputs": [
        {
          "output_type": "execute_result",
          "data": {
            "text/plain": [
              "GridSearchCV(cv=5, estimator=KNeighborsClassifier(),\n",
              "             param_grid={'n_neighbors': array([4, 5, 6, 7, 8, 9])})"
            ]
          },
          "metadata": {},
          "execution_count": 109
        }
      ]
    },
    {
      "cell_type": "code",
      "metadata": {
        "colab": {
          "base_uri": "https://localhost:8080/"
        },
        "id": "CD2Xo01MG2ON",
        "outputId": "0325b1be-baf4-4db4-cf1a-41addf99f12e"
      },
      "source": [
        "knn_cross_val.best_params_"
      ],
      "execution_count": null,
      "outputs": [
        {
          "output_type": "execute_result",
          "data": {
            "text/plain": [
              "{'n_neighbors': 7}"
            ]
          },
          "metadata": {},
          "execution_count": 110
        }
      ]
    },
    {
      "cell_type": "code",
      "metadata": {
        "id": "h6S1_b6aG7vv"
      },
      "source": [
        "knn_cross_val_pred = knn.predict(X_test)"
      ],
      "execution_count": null,
      "outputs": []
    },
    {
      "cell_type": "code",
      "metadata": {
        "colab": {
          "base_uri": "https://localhost:8080/"
        },
        "id": "Uzu0J5QoG99t",
        "outputId": "ccd991dc-b501-4b3c-b934-abcea673e348"
      },
      "source": [
        "accuracy_score(y_test, knn_cross_val_pred)"
      ],
      "execution_count": null,
      "outputs": [
        {
          "output_type": "execute_result",
          "data": {
            "text/plain": [
              "0.9325"
            ]
          },
          "metadata": {},
          "execution_count": 113
        }
      ]
    }
  ]
}