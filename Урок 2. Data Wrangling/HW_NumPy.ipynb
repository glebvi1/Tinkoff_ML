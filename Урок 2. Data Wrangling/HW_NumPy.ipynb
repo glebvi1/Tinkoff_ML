{
  "nbformat": 4,
  "nbformat_minor": 0,
  "metadata": {
    "kernelspec": {
      "display_name": "Python 3",
      "language": "python",
      "name": "python3"
    },
    "language_info": {
      "codemirror_mode": {
        "name": "ipython",
        "version": 3
      },
      "file_extension": ".py",
      "mimetype": "text/x-python",
      "name": "python",
      "nbconvert_exporter": "python",
      "pygments_lexer": "ipython3",
      "version": "3.6.4"
    },
    "colab": {
      "name": "Task 2 NumPy.ipynb",
      "provenance": []
    }
  },
  "cells": [
    {
      "cell_type": "markdown",
      "metadata": {
        "id": "EUAIfJwwOLz-"
      },
      "source": [
        "# Numpy"
      ]
    },
    {
      "cell_type": "code",
      "metadata": {
        "id": "vcEMSjAdOOA9"
      },
      "source": [
        "import numpy as np"
      ],
      "execution_count": null,
      "outputs": []
    },
    {
      "cell_type": "markdown",
      "metadata": {
        "id": "PY7Xq_7OOL0D"
      },
      "source": [
        "#### 1.Создать вектор (одномерный массив) размера 100, заполненный нулями"
      ]
    },
    {
      "cell_type": "code",
      "metadata": {
        "colab": {
          "base_uri": "https://localhost:8080/"
        },
        "id": "XLfTZ73TOL0F",
        "outputId": "e2bb5881-db94-46fc-b3ae-799e7692e8ad"
      },
      "source": [
        "np.zeros(100)"
      ],
      "execution_count": null,
      "outputs": [
        {
          "output_type": "execute_result",
          "data": {
            "text/plain": [
              "array([0., 0., 0., 0., 0., 0., 0., 0., 0., 0., 0., 0., 0., 0., 0., 0., 0.,\n",
              "       0., 0., 0., 0., 0., 0., 0., 0., 0., 0., 0., 0., 0., 0., 0., 0., 0.,\n",
              "       0., 0., 0., 0., 0., 0., 0., 0., 0., 0., 0., 0., 0., 0., 0., 0., 0.,\n",
              "       0., 0., 0., 0., 0., 0., 0., 0., 0., 0., 0., 0., 0., 0., 0., 0., 0.,\n",
              "       0., 0., 0., 0., 0., 0., 0., 0., 0., 0., 0., 0., 0., 0., 0., 0., 0.,\n",
              "       0., 0., 0., 0., 0., 0., 0., 0., 0., 0., 0., 0., 0., 0., 0.])"
            ]
          },
          "metadata": {},
          "execution_count": 2
        }
      ]
    },
    {
      "cell_type": "markdown",
      "metadata": {
        "id": "SYf8i5tvOL0G"
      },
      "source": [
        "#### 2.Создать вектор размера 100, заполненный единицами"
      ]
    },
    {
      "cell_type": "code",
      "metadata": {
        "colab": {
          "base_uri": "https://localhost:8080/"
        },
        "id": "V2aPXmv_OL0H",
        "outputId": "14dc3813-764d-4671-ab50-7e6563d927ef"
      },
      "source": [
        "np.ones(100)"
      ],
      "execution_count": null,
      "outputs": [
        {
          "output_type": "execute_result",
          "data": {
            "text/plain": [
              "array([1., 1., 1., 1., 1., 1., 1., 1., 1., 1., 1., 1., 1., 1., 1., 1., 1.,\n",
              "       1., 1., 1., 1., 1., 1., 1., 1., 1., 1., 1., 1., 1., 1., 1., 1., 1.,\n",
              "       1., 1., 1., 1., 1., 1., 1., 1., 1., 1., 1., 1., 1., 1., 1., 1., 1.,\n",
              "       1., 1., 1., 1., 1., 1., 1., 1., 1., 1., 1., 1., 1., 1., 1., 1., 1.,\n",
              "       1., 1., 1., 1., 1., 1., 1., 1., 1., 1., 1., 1., 1., 1., 1., 1., 1.,\n",
              "       1., 1., 1., 1., 1., 1., 1., 1., 1., 1., 1., 1., 1., 1., 1.])"
            ]
          },
          "metadata": {},
          "execution_count": 3
        }
      ]
    },
    {
      "cell_type": "markdown",
      "metadata": {
        "id": "cSN74NnIOL0H"
      },
      "source": [
        "#### 3.Создать вектор размера 100, заполненный числом 3"
      ]
    },
    {
      "cell_type": "code",
      "metadata": {
        "colab": {
          "base_uri": "https://localhost:8080/"
        },
        "id": "DjhJtx0XOL0I",
        "outputId": "e3873851-d9f7-4f00-e4fa-c047103b0f5b"
      },
      "source": [
        "np.ones(100) * 3"
      ],
      "execution_count": null,
      "outputs": [
        {
          "output_type": "execute_result",
          "data": {
            "text/plain": [
              "array([3., 3., 3., 3., 3., 3., 3., 3., 3., 3., 3., 3., 3., 3., 3., 3., 3.,\n",
              "       3., 3., 3., 3., 3., 3., 3., 3., 3., 3., 3., 3., 3., 3., 3., 3., 3.,\n",
              "       3., 3., 3., 3., 3., 3., 3., 3., 3., 3., 3., 3., 3., 3., 3., 3., 3.,\n",
              "       3., 3., 3., 3., 3., 3., 3., 3., 3., 3., 3., 3., 3., 3., 3., 3., 3.,\n",
              "       3., 3., 3., 3., 3., 3., 3., 3., 3., 3., 3., 3., 3., 3., 3., 3., 3.,\n",
              "       3., 3., 3., 3., 3., 3., 3., 3., 3., 3., 3., 3., 3., 3., 3.])"
            ]
          },
          "metadata": {},
          "execution_count": 4
        }
      ]
    },
    {
      "cell_type": "markdown",
      "metadata": {
        "id": "ao5ffC5oOL0I"
      },
      "source": [
        "#### 4. Как получить документацию о функции numpy.add из командной строки?"
      ]
    },
    {
      "cell_type": "markdown",
      "metadata": {
        "id": "t7B2DKuuO28b"
      },
      "source": [
        "python -c \"import numpy; numpy.info(numpy.add)\""
      ]
    },
    {
      "cell_type": "markdown",
      "metadata": {
        "id": "thmpSwR2OL0J"
      },
      "source": [
        "#### 5. Поменять 2 строки в матрице"
      ]
    },
    {
      "cell_type": "code",
      "metadata": {
        "colab": {
          "base_uri": "https://localhost:8080/"
        },
        "id": "RWpQot_2OL0J",
        "outputId": "04f714d7-db4b-4204-f323-04c0ce6e7cbd"
      },
      "source": [
        "x = np.eye(2)\n",
        "print(\"Было:\")\n",
        "print(x)\n",
        "x[[0, 1]] = x[[1, 0]]\n",
        "print(\"Стало:\")\n",
        "print(x)"
      ],
      "execution_count": null,
      "outputs": [
        {
          "output_type": "stream",
          "name": "stdout",
          "text": [
            "Было:\n",
            "[[1. 0.]\n",
            " [0. 1.]]\n",
            "Стало:\n",
            "[[0. 1.]\n",
            " [1. 0.]]\n"
          ]
        }
      ]
    },
    {
      "cell_type": "markdown",
      "metadata": {
        "id": "mntE2xD4OL0K"
      },
      "source": [
        "#### 6. Создать вектор со значениями от 10 до 100"
      ]
    },
    {
      "cell_type": "code",
      "metadata": {
        "colab": {
          "base_uri": "https://localhost:8080/"
        },
        "id": "9_2zFujHOL0K",
        "outputId": "cdb59b3f-bcc6-4d64-b87c-b2426ee7a235"
      },
      "source": [
        "np.arange(10, 101)"
      ],
      "execution_count": null,
      "outputs": [
        {
          "output_type": "execute_result",
          "data": {
            "text/plain": [
              "array([ 10,  11,  12,  13,  14,  15,  16,  17,  18,  19,  20,  21,  22,\n",
              "        23,  24,  25,  26,  27,  28,  29,  30,  31,  32,  33,  34,  35,\n",
              "        36,  37,  38,  39,  40,  41,  42,  43,  44,  45,  46,  47,  48,\n",
              "        49,  50,  51,  52,  53,  54,  55,  56,  57,  58,  59,  60,  61,\n",
              "        62,  63,  64,  65,  66,  67,  68,  69,  70,  71,  72,  73,  74,\n",
              "        75,  76,  77,  78,  79,  80,  81,  82,  83,  84,  85,  86,  87,\n",
              "        88,  89,  90,  91,  92,  93,  94,  95,  96,  97,  98,  99, 100])"
            ]
          },
          "metadata": {},
          "execution_count": 8
        }
      ]
    },
    {
      "cell_type": "markdown",
      "metadata": {
        "id": "dADUexMWOL0L"
      },
      "source": [
        "#### 7. Развернуть вектор (первый становится последним)"
      ]
    },
    {
      "cell_type": "code",
      "metadata": {
        "colab": {
          "base_uri": "https://localhost:8080/"
        },
        "id": "bbkLHS3TOL0L",
        "outputId": "dbf49c36-221e-450a-f986-005c6b9ffdc7"
      },
      "source": [
        "np.arange(10, 101)[::-1]"
      ],
      "execution_count": null,
      "outputs": [
        {
          "output_type": "execute_result",
          "data": {
            "text/plain": [
              "array([100,  99,  98,  97,  96,  95,  94,  93,  92,  91,  90,  89,  88,\n",
              "        87,  86,  85,  84,  83,  82,  81,  80,  79,  78,  77,  76,  75,\n",
              "        74,  73,  72,  71,  70,  69,  68,  67,  66,  65,  64,  63,  62,\n",
              "        61,  60,  59,  58,  57,  56,  55,  54,  53,  52,  51,  50,  49,\n",
              "        48,  47,  46,  45,  44,  43,  42,  41,  40,  39,  38,  37,  36,\n",
              "        35,  34,  33,  32,  31,  30,  29,  28,  27,  26,  25,  24,  23,\n",
              "        22,  21,  20,  19,  18,  17,  16,  15,  14,  13,  12,  11,  10])"
            ]
          },
          "metadata": {},
          "execution_count": 9
        }
      ]
    },
    {
      "cell_type": "markdown",
      "metadata": {
        "id": "xwMRWOJeOL0L"
      },
      "source": [
        "#### 8. Создать матрицу (двумерный массив) 4x4 со значениями от 0 до 16"
      ]
    },
    {
      "cell_type": "code",
      "metadata": {
        "colab": {
          "base_uri": "https://localhost:8080/"
        },
        "id": "g1Ypasf7OL0M",
        "outputId": "b8207bbd-1aa7-497b-de14-e7ebd1c3e2d3"
      },
      "source": [
        "np.arange(16).reshape(4, 4)"
      ],
      "execution_count": null,
      "outputs": [
        {
          "output_type": "execute_result",
          "data": {
            "text/plain": [
              "array([[ 0,  1,  2,  3],\n",
              "       [ 4,  5,  6,  7],\n",
              "       [ 8,  9, 10, 11],\n",
              "       [12, 13, 14, 15]])"
            ]
          },
          "metadata": {},
          "execution_count": 10
        }
      ]
    },
    {
      "cell_type": "markdown",
      "metadata": {
        "id": "lE289VmLOL0M"
      },
      "source": [
        "#### 9.  Дан вектор [1, 2, 3, 4, 5], построить новый вектор с тремя нулями между каждым значением"
      ]
    },
    {
      "cell_type": "code",
      "metadata": {
        "colab": {
          "base_uri": "https://localhost:8080/"
        },
        "id": "BSynAjpVOL0N",
        "outputId": "16dab0f8-a0a0-40bc-ab1c-1bf8858c3d21"
      },
      "source": [
        "x = np.array([1, 2, 3, 4, 5])\n",
        "y = np.zeros(len(x) + 12)\n",
        "y[::4] = x\n",
        "y"
      ],
      "execution_count": null,
      "outputs": [
        {
          "output_type": "execute_result",
          "data": {
            "text/plain": [
              "array([1., 0., 0., 0., 2., 0., 0., 0., 3., 0., 0., 0., 4., 0., 0., 0., 5.])"
            ]
          },
          "metadata": {},
          "execution_count": 11
        }
      ]
    },
    {
      "cell_type": "markdown",
      "metadata": {
        "id": "AVb8whDROL0O"
      },
      "source": [
        "#### 10. Создать 3x3 единичную матрицу"
      ]
    },
    {
      "cell_type": "code",
      "metadata": {
        "colab": {
          "base_uri": "https://localhost:8080/"
        },
        "id": "-_VGFvY1OL0O",
        "outputId": "05dfd6ed-840f-4bba-db5e-c1f10cf9e615"
      },
      "source": [
        "np.eye(3)"
      ],
      "execution_count": null,
      "outputs": [
        {
          "output_type": "execute_result",
          "data": {
            "text/plain": [
              "array([[1., 0., 0.],\n",
              "       [0., 1., 0.],\n",
              "       [0., 0., 1.]])"
            ]
          },
          "metadata": {},
          "execution_count": 12
        }
      ]
    },
    {
      "cell_type": "markdown",
      "metadata": {
        "id": "bH5z9ffqOL0P"
      },
      "source": [
        "#### 11. Создать массив 3x3x3 со случайными значениями"
      ]
    },
    {
      "cell_type": "code",
      "metadata": {
        "colab": {
          "base_uri": "https://localhost:8080/"
        },
        "id": "F90_rkLWOL0P",
        "outputId": "e3dc6474-3a37-4c54-8ff5-6e03e09434b1"
      },
      "source": [
        "np.random.random((3,3,3))"
      ],
      "execution_count": null,
      "outputs": [
        {
          "output_type": "execute_result",
          "data": {
            "text/plain": [
              "array([[[0.8464297 , 0.74482227, 0.13584008],\n",
              "        [0.20578636, 0.62273486, 0.80334403],\n",
              "        [0.85815587, 0.08548948, 0.60861387]],\n",
              "\n",
              "       [[0.42341763, 0.40180163, 0.30824172],\n",
              "        [0.91843798, 0.66854007, 0.65936429],\n",
              "        [0.04325978, 0.8167495 , 0.83643856]],\n",
              "\n",
              "       [[0.80177058, 0.8259894 , 0.64711492],\n",
              "        [0.43323289, 0.20641268, 0.29574515],\n",
              "        [0.6878977 , 0.21105208, 0.89252241]]])"
            ]
          },
          "metadata": {},
          "execution_count": 13
        }
      ]
    },
    {
      "cell_type": "markdown",
      "metadata": {
        "id": "yGyNlewVOL0P"
      },
      "source": [
        "#### 12. Создать массив 10x10 со случайными значениями, найти минимум и максимум"
      ]
    },
    {
      "cell_type": "code",
      "metadata": {
        "colab": {
          "base_uri": "https://localhost:8080/"
        },
        "id": "UIuz80myOL0Q",
        "outputId": "85ee15f8-6b74-4c8e-a597-cb2844783787"
      },
      "source": [
        "x = np.random.random((10, 10))\n",
        "x.min(), x.max()"
      ],
      "execution_count": null,
      "outputs": [
        {
          "output_type": "execute_result",
          "data": {
            "text/plain": [
              "(0.0010768183868159475, 0.9953534723478519)"
            ]
          },
          "metadata": {},
          "execution_count": 14
        }
      ]
    },
    {
      "cell_type": "markdown",
      "metadata": {
        "id": "der0EoupOL0Q"
      },
      "source": [
        "#### 13. Создать случайный вектор размера 30 и найти среднее значение всех элементов"
      ]
    },
    {
      "cell_type": "code",
      "metadata": {
        "colab": {
          "base_uri": "https://localhost:8080/"
        },
        "id": "gQqSGbzuOL0Q",
        "outputId": "0c0499a6-36fb-463f-bb41-f1a74467a53a"
      },
      "source": [
        "x = np.random.random(30)\n",
        "x.mean()"
      ],
      "execution_count": null,
      "outputs": [
        {
          "output_type": "execute_result",
          "data": {
            "text/plain": [
              "0.40782195794217974"
            ]
          },
          "metadata": {},
          "execution_count": 15
        }
      ]
    },
    {
      "cell_type": "markdown",
      "metadata": {
        "id": "QSJNWjxBOL0R"
      },
      "source": [
        "#### 14. Создать матрицу с 0 внутри, и 1 на границах"
      ]
    },
    {
      "cell_type": "code",
      "metadata": {
        "colab": {
          "base_uri": "https://localhost:8080/"
        },
        "id": "PYrG2ssHOL0R",
        "outputId": "9c82e90d-b937-4c04-f439-87b0a1078d31"
      },
      "source": [
        "x = np.zeros((10, 10))\n",
        "x[1:-1, 1:-1] = 1\n",
        "x"
      ],
      "execution_count": null,
      "outputs": [
        {
          "output_type": "execute_result",
          "data": {
            "text/plain": [
              "array([[0., 0., 0., 0., 0., 0., 0., 0., 0., 0.],\n",
              "       [0., 1., 1., 1., 1., 1., 1., 1., 1., 0.],\n",
              "       [0., 1., 1., 1., 1., 1., 1., 1., 1., 0.],\n",
              "       [0., 1., 1., 1., 1., 1., 1., 1., 1., 0.],\n",
              "       [0., 1., 1., 1., 1., 1., 1., 1., 1., 0.],\n",
              "       [0., 1., 1., 1., 1., 1., 1., 1., 1., 0.],\n",
              "       [0., 1., 1., 1., 1., 1., 1., 1., 1., 0.],\n",
              "       [0., 1., 1., 1., 1., 1., 1., 1., 1., 0.],\n",
              "       [0., 1., 1., 1., 1., 1., 1., 1., 1., 0.],\n",
              "       [0., 0., 0., 0., 0., 0., 0., 0., 0., 0.]])"
            ]
          },
          "metadata": {},
          "execution_count": 16
        }
      ]
    },
    {
      "cell_type": "markdown",
      "metadata": {
        "id": "p2K36WYEOL0R"
      },
      "source": [
        "#### 15. Удивите меня в этом задании, покажите какое нибудь класное преобразование в numpy (не идет в зачет)"
      ]
    },
    {
      "cell_type": "markdown",
      "metadata": {
        "id": "x-BGxYemR77x"
      },
      "source": [
        "Не знаю насколько классное, но полезное)"
      ]
    },
    {
      "cell_type": "code",
      "metadata": {
        "colab": {
          "base_uri": "https://localhost:8080/"
        },
        "id": "S8sDQscIOL0S",
        "outputId": "4ff066c8-e572-4265-bac2-2d712d6fd7c0"
      },
      "source": [
        "x = np.arange(10)\n",
        "\n",
        "func = np.vectorize(lambda x: x ** 3)\n",
        "func(x)"
      ],
      "execution_count": null,
      "outputs": [
        {
          "output_type": "execute_result",
          "data": {
            "text/plain": [
              "array([  0,   1,   8,  27,  64, 125, 216, 343, 512, 729])"
            ]
          },
          "metadata": {},
          "execution_count": 18
        }
      ]
    },
    {
      "cell_type": "markdown",
      "metadata": {
        "id": "2C_gr0zuOL0S"
      },
      "source": [
        "#### 16. Создать 5x5 матрицу с 1,2,2,4 под диагональю"
      ]
    },
    {
      "cell_type": "code",
      "metadata": {
        "colab": {
          "base_uri": "https://localhost:8080/"
        },
        "id": "TRujgnZpOL0S",
        "outputId": "218c845e-3ba7-4b66-fc02-567c240942d2"
      },
      "source": [
        "np.diag(np.array([1, 2, 2, 4]), k=-1)"
      ],
      "execution_count": null,
      "outputs": [
        {
          "output_type": "execute_result",
          "data": {
            "text/plain": [
              "array([[0, 0, 0, 0, 0],\n",
              "       [1, 0, 0, 0, 0],\n",
              "       [0, 2, 0, 0, 0],\n",
              "       [0, 0, 2, 0, 0],\n",
              "       [0, 0, 0, 4, 0]])"
            ]
          },
          "metadata": {},
          "execution_count": 19
        }
      ]
    },
    {
      "cell_type": "markdown",
      "metadata": {
        "id": "aqGTt752OL0S"
      },
      "source": [
        "#### 17. Создать 8x8 матрицу и заполнить её в шахматном порядке"
      ]
    },
    {
      "cell_type": "code",
      "metadata": {
        "colab": {
          "base_uri": "https://localhost:8080/"
        },
        "id": "DJOnAkxyOL0T",
        "outputId": "797600b0-57e2-44b7-fb36-dac0a153aaf5"
      },
      "source": [
        "x = np.ones((8, 8), dtype=int)\n",
        "x[1::2, ::2] = 0\n",
        "x[::2, 1::2] = 0\n",
        "x"
      ],
      "execution_count": null,
      "outputs": [
        {
          "output_type": "execute_result",
          "data": {
            "text/plain": [
              "array([[1, 0, 1, 0, 1, 0, 1, 0],\n",
              "       [0, 1, 0, 1, 0, 1, 0, 1],\n",
              "       [1, 0, 1, 0, 1, 0, 1, 0],\n",
              "       [0, 1, 0, 1, 0, 1, 0, 1],\n",
              "       [1, 0, 1, 0, 1, 0, 1, 0],\n",
              "       [0, 1, 0, 1, 0, 1, 0, 1],\n",
              "       [1, 0, 1, 0, 1, 0, 1, 0],\n",
              "       [0, 1, 0, 1, 0, 1, 0, 1]])"
            ]
          },
          "metadata": {},
          "execution_count": 20
        }
      ]
    },
    {
      "cell_type": "markdown",
      "metadata": {
        "id": "xPNrepuqOL0T"
      },
      "source": [
        "#### 18. Дан массив размерности (6,7,8). Каков индекс (x,y,z) сотого элемента?"
      ]
    },
    {
      "cell_type": "code",
      "metadata": {
        "colab": {
          "base_uri": "https://localhost:8080/"
        },
        "id": "nfXYoz_iOL0U",
        "outputId": "7b956d50-14b4-4bf6-b68b-9d9a9b211776"
      },
      "source": [
        "np.unravel_index(100, (6, 7, 8))"
      ],
      "execution_count": null,
      "outputs": [
        {
          "output_type": "execute_result",
          "data": {
            "text/plain": [
              "(1, 5, 4)"
            ]
          },
          "metadata": {},
          "execution_count": 21
        }
      ]
    },
    {
      "cell_type": "markdown",
      "metadata": {
        "id": "zwZ930JmOL0U"
      },
      "source": [
        "#### 19. Создать 8x8 матрицу и заполнить её в шахматном порядке, используя функцию tile"
      ]
    },
    {
      "cell_type": "code",
      "metadata": {
        "colab": {
          "base_uri": "https://localhost:8080/"
        },
        "id": "hYwzUSMfOL0V",
        "outputId": "df3dfd68-b0a9-4687-9bed-0580da48d6ab"
      },
      "source": [
        "first = np.tile(np.array([0, 1]), 4)\n",
        "second = np.tile(np.array([1, 0]), 4)\n",
        "x = []\n",
        "\n",
        "for i in range(4):\n",
        "  x.append(first)\n",
        "  x.append(second)\n",
        "np.array(x)"
      ],
      "execution_count": null,
      "outputs": [
        {
          "output_type": "execute_result",
          "data": {
            "text/plain": [
              "array([[0, 1, 0, 1, 0, 1, 0, 1],\n",
              "       [1, 0, 1, 0, 1, 0, 1, 0],\n",
              "       [0, 1, 0, 1, 0, 1, 0, 1],\n",
              "       [1, 0, 1, 0, 1, 0, 1, 0],\n",
              "       [0, 1, 0, 1, 0, 1, 0, 1],\n",
              "       [1, 0, 1, 0, 1, 0, 1, 0],\n",
              "       [0, 1, 0, 1, 0, 1, 0, 1],\n",
              "       [1, 0, 1, 0, 1, 0, 1, 0]])"
            ]
          },
          "metadata": {},
          "execution_count": 22
        }
      ]
    },
    {
      "cell_type": "markdown",
      "metadata": {
        "id": "2BvKFzKXOL0V"
      },
      "source": [
        "#### 20. Перемножить матрицы 5x3 и 3x2"
      ]
    },
    {
      "cell_type": "code",
      "metadata": {
        "colab": {
          "base_uri": "https://localhost:8080/"
        },
        "id": "EZtiiZtROL0V",
        "outputId": "a4586aa7-4061-418f-898b-8408bda8f88a"
      },
      "source": [
        "a = np.ones((5,3)) @ np.ones((3,2))\n",
        "b = np.dot(np.ones((5,3)), np.ones((3,2)))\n",
        "a, b"
      ],
      "execution_count": null,
      "outputs": [
        {
          "output_type": "execute_result",
          "data": {
            "text/plain": [
              "(array([[3., 3.],\n",
              "        [3., 3.],\n",
              "        [3., 3.],\n",
              "        [3., 3.],\n",
              "        [3., 3.]]), array([[3., 3.],\n",
              "        [3., 3.],\n",
              "        [3., 3.],\n",
              "        [3., 3.],\n",
              "        [3., 3.]]))"
            ]
          },
          "metadata": {},
          "execution_count": 23
        }
      ]
    },
    {
      "cell_type": "markdown",
      "metadata": {
        "id": "yagzeudlOL0W"
      },
      "source": [
        "#### 21. Дан массив, поменять знак у элементов, значения которых между 3 и 8"
      ]
    },
    {
      "cell_type": "code",
      "metadata": {
        "colab": {
          "base_uri": "https://localhost:8080/"
        },
        "id": "3bJXAVywOL0W",
        "outputId": "6473bdbd-c2cb-42e5-a766-1b835585e045"
      },
      "source": [
        "x = np.random.random(50) * 20\n",
        "x[(3 <= x) & (x <= 8)] *= -1\n",
        "x"
      ],
      "execution_count": null,
      "outputs": [
        {
          "output_type": "execute_result",
          "data": {
            "text/plain": [
              "array([-5.22770087,  8.29012059, 17.58550785, -7.39420114,  9.22482071,\n",
              "       12.59679096,  0.57950349, -6.22667271, -6.14235256,  0.90040879,\n",
              "       11.03816648, 13.72841705, 16.20305671, 12.1214941 ,  9.24237503,\n",
              "       -4.80179528, -6.99396389, 13.52627551, 14.24528993,  9.83386834,\n",
              "       12.20077365,  9.94158479, -7.93034739, 14.31643876, 13.67401966,\n",
              "       17.65357418, -3.9453233 , 12.16250321, 15.60247401, 14.2626548 ,\n",
              "       14.58109943, 10.42693155, 18.24801685, 16.36206263, 17.64007805,\n",
              "       16.4603403 , -7.59348009, -4.22770961,  1.57252029, 11.85903127,\n",
              "       -7.14719906,  2.11545288, -4.32570495,  9.5330654 , 12.73662617,\n",
              "       16.20087387, 13.97592381, 17.08178084, 15.00309953, -5.80659927])"
            ]
          },
          "metadata": {},
          "execution_count": 24
        }
      ]
    },
    {
      "cell_type": "markdown",
      "metadata": {
        "id": "3yRKjrnlOL0W"
      },
      "source": [
        "#### 23. Создать 5x5 матрицу со значениями в строках от 0 до 4"
      ]
    },
    {
      "cell_type": "code",
      "metadata": {
        "colab": {
          "base_uri": "https://localhost:8080/"
        },
        "id": "vxReSCvFOL0X",
        "outputId": "eac684bb-a2fe-4bce-8af8-277cb4689c23"
      },
      "source": [
        "np.zeros((5,5), dtype=int) + np.arange(5)"
      ],
      "execution_count": null,
      "outputs": [
        {
          "output_type": "execute_result",
          "data": {
            "text/plain": [
              "array([[0, 1, 2, 3, 4],\n",
              "       [0, 1, 2, 3, 4],\n",
              "       [0, 1, 2, 3, 4],\n",
              "       [0, 1, 2, 3, 4],\n",
              "       [0, 1, 2, 3, 4]])"
            ]
          },
          "metadata": {},
          "execution_count": 25
        }
      ]
    },
    {
      "cell_type": "markdown",
      "metadata": {
        "id": "gn-7pEZnOL0X"
      },
      "source": [
        "#### 24. Есть генератор, сделать с его помощью массив"
      ]
    },
    {
      "cell_type": "code",
      "metadata": {
        "colab": {
          "base_uri": "https://localhost:8080/"
        },
        "id": "xQc45RNzOL0X",
        "outputId": "62d1c862-25e9-42cf-ebb7-da6072918c4c"
      },
      "source": [
        "def np_generate():\n",
        "    for x in range(10):\n",
        "        yield x ** 3\n",
        "x = np.fromiter(np_generate(), dtype=int)\n",
        "x"
      ],
      "execution_count": null,
      "outputs": [
        {
          "output_type": "execute_result",
          "data": {
            "text/plain": [
              "array([  0,   1,   8,  27,  64, 125, 216, 343, 512, 729])"
            ]
          },
          "metadata": {},
          "execution_count": 26
        }
      ]
    },
    {
      "cell_type": "markdown",
      "metadata": {
        "id": "wHpl86bROL0X"
      },
      "source": [
        "#### 25. Создать вектор размера 10 со значениями от 0 до 1, не включая ни то, ни другое"
      ]
    },
    {
      "cell_type": "code",
      "metadata": {
        "colab": {
          "base_uri": "https://localhost:8080/"
        },
        "id": "M2NLnliBOL0Y",
        "outputId": "7ac8df68-6552-4b9f-d95f-a2bfe1132d80"
      },
      "source": [
        "np.linspace(0,1,12)[1:11]"
      ],
      "execution_count": null,
      "outputs": [
        {
          "output_type": "execute_result",
          "data": {
            "text/plain": [
              "array([0.09090909, 0.18181818, 0.27272727, 0.36363636, 0.45454545,\n",
              "       0.54545455, 0.63636364, 0.72727273, 0.81818182, 0.90909091])"
            ]
          },
          "metadata": {},
          "execution_count": 28
        }
      ]
    },
    {
      "cell_type": "markdown",
      "metadata": {
        "id": "aR8dzLqTOL0Y"
      },
      "source": [
        "#### 26. Отсортировать вектор"
      ]
    },
    {
      "cell_type": "code",
      "metadata": {
        "colab": {
          "base_uri": "https://localhost:8080/"
        },
        "id": "o_4RHhn6OL0Y",
        "outputId": "ea28158c-e0e1-4e78-9bbf-95a9bee74895"
      },
      "source": [
        "x = np.random.random(50)\n",
        "x.sort()\n",
        "x"
      ],
      "execution_count": null,
      "outputs": [
        {
          "output_type": "execute_result",
          "data": {
            "text/plain": [
              "array([0.00217023, 0.00356828, 0.02126188, 0.02178495, 0.0381462 ,\n",
              "       0.1269536 , 0.13337016, 0.13635068, 0.1460334 , 0.15466336,\n",
              "       0.18513526, 0.19839243, 0.19860573, 0.19980435, 0.21679928,\n",
              "       0.21857812, 0.2339546 , 0.23520287, 0.25297685, 0.36163255,\n",
              "       0.37844886, 0.40958058, 0.43016939, 0.44095239, 0.45378304,\n",
              "       0.48514779, 0.49401388, 0.51466   , 0.52638742, 0.55617506,\n",
              "       0.59166726, 0.63455059, 0.64185231, 0.65015632, 0.65034451,\n",
              "       0.66758747, 0.68373333, 0.6848894 , 0.70066954, 0.74597576,\n",
              "       0.75928351, 0.77574577, 0.79118954, 0.79473884, 0.81014344,\n",
              "       0.85250027, 0.85911877, 0.92915529, 0.94665239, 0.96422224])"
            ]
          },
          "metadata": {},
          "execution_count": 29
        }
      ]
    },
    {
      "cell_type": "markdown",
      "metadata": {
        "id": "OSuF8i-oOL0Z"
      },
      "source": [
        "#### 27. Проверить, одинаковы ли 2 numpy массива"
      ]
    },
    {
      "cell_type": "code",
      "metadata": {
        "colab": {
          "base_uri": "https://localhost:8080/"
        },
        "id": "fgg0bgkLOL0Z",
        "outputId": "14b41326-4f67-45a6-ba7f-87d688de9d97"
      },
      "source": [
        "a = np.array([1, 2, 3])\n",
        "b = np.array([1, 2, 3])\n",
        "\n",
        "np.allclose(a, b)"
      ],
      "execution_count": null,
      "outputs": [
        {
          "output_type": "execute_result",
          "data": {
            "text/plain": [
              "True"
            ]
          },
          "metadata": {},
          "execution_count": 30
        }
      ]
    },
    {
      "cell_type": "markdown",
      "metadata": {
        "id": "Jw_avwExOL0Z"
      },
      "source": [
        "#### 28. Сделать массив неизменяемым"
      ]
    },
    {
      "cell_type": "code",
      "metadata": {
        "id": "MUkRTM-LOL0a"
      },
      "source": [
        "x = np.random.random(50)\n",
        "x.flags.writeable = False"
      ],
      "execution_count": null,
      "outputs": []
    },
    {
      "cell_type": "markdown",
      "metadata": {
        "id": "IU5WjyEkOL0a"
      },
      "source": [
        "#### 29. Найти n наибольших значений в массиве"
      ]
    },
    {
      "cell_type": "code",
      "metadata": {
        "colab": {
          "base_uri": "https://localhost:8080/"
        },
        "id": "-DrV0ijWOL0a",
        "outputId": "d1961cab-3af6-4f65-c15b-60597504fecf"
      },
      "source": [
        "n = 10\n",
        "x = np.random.random(50)\n",
        "x.sort()\n",
        "x, x[-n:]"
      ],
      "execution_count": null,
      "outputs": [
        {
          "output_type": "execute_result",
          "data": {
            "text/plain": [
              "(array([0.00505984, 0.0549295 , 0.05696204, 0.10564042, 0.13814157,\n",
              "        0.14123496, 0.15606687, 0.16560843, 0.17689476, 0.20007732,\n",
              "        0.20023255, 0.2076977 , 0.22176158, 0.23959332, 0.240516  ,\n",
              "        0.25262109, 0.27390331, 0.30608891, 0.30694556, 0.31180881,\n",
              "        0.33131204, 0.33381028, 0.34283605, 0.36479299, 0.36635921,\n",
              "        0.40334255, 0.40349742, 0.43003962, 0.43507745, 0.45400761,\n",
              "        0.47174681, 0.47775756, 0.48528135, 0.49611509, 0.52413641,\n",
              "        0.57897525, 0.62212419, 0.66131431, 0.68209266, 0.74120088,\n",
              "        0.75356613, 0.76356719, 0.7652845 , 0.78270939, 0.82987296,\n",
              "        0.86102824, 0.8758043 , 0.90164337, 0.94352379, 0.98568294]),\n",
              " array([0.75356613, 0.76356719, 0.7652845 , 0.78270939, 0.82987296,\n",
              "        0.86102824, 0.8758043 , 0.90164337, 0.94352379, 0.98568294]))"
            ]
          },
          "metadata": {},
          "execution_count": 32
        }
      ]
    },
    {
      "cell_type": "markdown",
      "metadata": {
        "id": "8qPTIk-bOL0a"
      },
      "source": [
        "#### 30. Заменить максимальный элемент на ноль"
      ]
    },
    {
      "cell_type": "code",
      "metadata": {
        "colab": {
          "base_uri": "https://localhost:8080/"
        },
        "id": "uGgvdWdvOL0b",
        "outputId": "ebe70c8a-1cba-4fe5-a0ba-67557bcefaed"
      },
      "source": [
        "x = np.random.random(50)\n",
        "x[x.argmax()] = 0\n",
        "x"
      ],
      "execution_count": null,
      "outputs": [
        {
          "output_type": "execute_result",
          "data": {
            "text/plain": [
              "array([0.33996699, 0.85755604, 0.87289536, 0.71777551, 0.48499372,\n",
              "       0.52467536, 0.79930672, 0.64174386, 0.09978734, 0.21641384,\n",
              "       0.45534069, 0.08720935, 0.95544516, 0.75775097, 0.52242356,\n",
              "       0.36190191, 0.80465902, 0.56994173, 0.26368483, 0.76928087,\n",
              "       0.8647199 , 0.52176562, 0.72211336, 0.9205544 , 0.35759011,\n",
              "       0.81871357, 0.75259042, 0.        , 0.52237964, 0.00811203,\n",
              "       0.39200764, 0.16611557, 0.49318884, 0.79933711, 0.94709257,\n",
              "       0.38887085, 0.86437163, 0.16368826, 0.10994173, 0.17713717,\n",
              "       0.32279419, 0.72266973, 0.64201228, 0.37439624, 0.09114396,\n",
              "       0.10935054, 0.31398564, 0.48617406, 0.79375819, 0.37983204])"
            ]
          },
          "metadata": {},
          "execution_count": 33
        }
      ]
    },
    {
      "cell_type": "markdown",
      "metadata": {
        "id": "HwhvD6a2OL0b"
      },
      "source": [
        "#### 31. Создать структурированный массив с координатами x, y на сетке в квадрате [0,1]x[0,1]"
      ]
    },
    {
      "cell_type": "code",
      "metadata": {
        "colab": {
          "base_uri": "https://localhost:8080/"
        },
        "id": "17C-PL-YOL0b",
        "outputId": "52c81eee-7b61-4743-dff3-579a5e514980"
      },
      "source": [
        "np.meshgrid(np.linspace(0, 1, 10), np.linspace(0, 1, 10))"
      ],
      "execution_count": null,
      "outputs": [
        {
          "output_type": "execute_result",
          "data": {
            "text/plain": [
              "[array([[0.        , 0.11111111, 0.22222222, 0.33333333, 0.44444444,\n",
              "         0.55555556, 0.66666667, 0.77777778, 0.88888889, 1.        ],\n",
              "        [0.        , 0.11111111, 0.22222222, 0.33333333, 0.44444444,\n",
              "         0.55555556, 0.66666667, 0.77777778, 0.88888889, 1.        ],\n",
              "        [0.        , 0.11111111, 0.22222222, 0.33333333, 0.44444444,\n",
              "         0.55555556, 0.66666667, 0.77777778, 0.88888889, 1.        ],\n",
              "        [0.        , 0.11111111, 0.22222222, 0.33333333, 0.44444444,\n",
              "         0.55555556, 0.66666667, 0.77777778, 0.88888889, 1.        ],\n",
              "        [0.        , 0.11111111, 0.22222222, 0.33333333, 0.44444444,\n",
              "         0.55555556, 0.66666667, 0.77777778, 0.88888889, 1.        ],\n",
              "        [0.        , 0.11111111, 0.22222222, 0.33333333, 0.44444444,\n",
              "         0.55555556, 0.66666667, 0.77777778, 0.88888889, 1.        ],\n",
              "        [0.        , 0.11111111, 0.22222222, 0.33333333, 0.44444444,\n",
              "         0.55555556, 0.66666667, 0.77777778, 0.88888889, 1.        ],\n",
              "        [0.        , 0.11111111, 0.22222222, 0.33333333, 0.44444444,\n",
              "         0.55555556, 0.66666667, 0.77777778, 0.88888889, 1.        ],\n",
              "        [0.        , 0.11111111, 0.22222222, 0.33333333, 0.44444444,\n",
              "         0.55555556, 0.66666667, 0.77777778, 0.88888889, 1.        ],\n",
              "        [0.        , 0.11111111, 0.22222222, 0.33333333, 0.44444444,\n",
              "         0.55555556, 0.66666667, 0.77777778, 0.88888889, 1.        ]]),\n",
              " array([[0.        , 0.        , 0.        , 0.        , 0.        ,\n",
              "         0.        , 0.        , 0.        , 0.        , 0.        ],\n",
              "        [0.11111111, 0.11111111, 0.11111111, 0.11111111, 0.11111111,\n",
              "         0.11111111, 0.11111111, 0.11111111, 0.11111111, 0.11111111],\n",
              "        [0.22222222, 0.22222222, 0.22222222, 0.22222222, 0.22222222,\n",
              "         0.22222222, 0.22222222, 0.22222222, 0.22222222, 0.22222222],\n",
              "        [0.33333333, 0.33333333, 0.33333333, 0.33333333, 0.33333333,\n",
              "         0.33333333, 0.33333333, 0.33333333, 0.33333333, 0.33333333],\n",
              "        [0.44444444, 0.44444444, 0.44444444, 0.44444444, 0.44444444,\n",
              "         0.44444444, 0.44444444, 0.44444444, 0.44444444, 0.44444444],\n",
              "        [0.55555556, 0.55555556, 0.55555556, 0.55555556, 0.55555556,\n",
              "         0.55555556, 0.55555556, 0.55555556, 0.55555556, 0.55555556],\n",
              "        [0.66666667, 0.66666667, 0.66666667, 0.66666667, 0.66666667,\n",
              "         0.66666667, 0.66666667, 0.66666667, 0.66666667, 0.66666667],\n",
              "        [0.77777778, 0.77777778, 0.77777778, 0.77777778, 0.77777778,\n",
              "         0.77777778, 0.77777778, 0.77777778, 0.77777778, 0.77777778],\n",
              "        [0.88888889, 0.88888889, 0.88888889, 0.88888889, 0.88888889,\n",
              "         0.88888889, 0.88888889, 0.88888889, 0.88888889, 0.88888889],\n",
              "        [1.        , 1.        , 1.        , 1.        , 1.        ,\n",
              "         1.        , 1.        , 1.        , 1.        , 1.        ]])]"
            ]
          },
          "metadata": {},
          "execution_count": 34
        }
      ]
    },
    {
      "cell_type": "markdown",
      "metadata": {
        "id": "QYmbC_T9OL0b"
      },
      "source": [
        "#### 32. Из двух массивов сделать матрицу Коши C (Cij = 1/(xi - yj))"
      ]
    },
    {
      "cell_type": "code",
      "metadata": {
        "id": "hw2fdirQOL0c",
        "colab": {
          "base_uri": "https://localhost:8080/"
        },
        "outputId": "33431fcd-3970-40d0-90c8-9a24aa708444"
      },
      "source": [
        "x = np.array([1, 2, 3])\n",
        "y = np.array([4, 5, 6])\n",
        "\n",
        "z = 1 / np.array([(a - b) for a in x for b in y]).reshape([x.size, y.size])\n",
        "z"
      ],
      "execution_count": null,
      "outputs": [
        {
          "output_type": "execute_result",
          "data": {
            "text/plain": [
              "array([[-0.33333333, -0.25      , -0.2       ],\n",
              "       [-0.5       , -0.33333333, -0.25      ],\n",
              "       [-1.        , -0.5       , -0.33333333]])"
            ]
          },
          "metadata": {},
          "execution_count": 150
        }
      ]
    },
    {
      "cell_type": "markdown",
      "metadata": {
        "id": "uDCl-a5ZOL0c"
      },
      "source": [
        "#### 33. Найти минимальное и максимальное значение, принимаемое каждым числовым типом numpy"
      ]
    },
    {
      "cell_type": "code",
      "metadata": {
        "id": "qJ1NcLUuOL0c",
        "colab": {
          "base_uri": "https://localhost:8080/"
        },
        "outputId": "fa72cea0-f553-4b59-e4d6-3213f0d7ea2d"
      },
      "source": [
        "print(\"INT\")\n",
        "for int_type in (np.int8, np.int16, np.int32, np.intc, np.int, np.integer, \n",
        "                 np.int0, np.int64, np.int_):\n",
        "  print(int_type)\n",
        "  print(f\"[{np.iinfo(int_type).min}; {np.iinfo(int_type).max}]\")\n",
        "\n",
        "print(\"\\n\\nFLOAT\")\n",
        "for float_type in (np.float16, np.float32, np.float64, np.float_, \n",
        "                   np.float, np.floating, np.float128):\n",
        "  print(float_type)\n",
        "  print(f\"[{np.finfo(float_type).min}; {np.finfo(float_type).max}]\")\n"
      ],
      "execution_count": null,
      "outputs": [
        {
          "output_type": "stream",
          "name": "stdout",
          "text": [
            "INT\n",
            "<class 'numpy.int8'>\n",
            "[-128; 127]\n",
            "<class 'numpy.int16'>\n",
            "[-32768; 32767]\n",
            "<class 'numpy.int32'>\n",
            "[-2147483648; 2147483647]\n",
            "<class 'numpy.int32'>\n",
            "[-2147483648; 2147483647]\n",
            "<class 'int'>\n",
            "[-9223372036854775808; 9223372036854775807]\n",
            "<class 'numpy.integer'>\n",
            "[-9223372036854775808; 9223372036854775807]\n",
            "<class 'numpy.int64'>\n",
            "[-9223372036854775808; 9223372036854775807]\n",
            "<class 'numpy.int64'>\n",
            "[-9223372036854775808; 9223372036854775807]\n",
            "<class 'numpy.int64'>\n",
            "[-9223372036854775808; 9223372036854775807]\n",
            "\n",
            "\n",
            "FLOAT\n",
            "<class 'numpy.float16'>\n",
            "[-65504.0; 65504.0]\n",
            "<class 'numpy.float32'>\n",
            "[-3.4028234663852886e+38; 3.4028234663852886e+38]\n",
            "<class 'numpy.float64'>\n",
            "[-1.7976931348623157e+308; 1.7976931348623157e+308]\n",
            "<class 'numpy.float64'>\n",
            "[-1.7976931348623157e+308; 1.7976931348623157e+308]\n",
            "<class 'float'>\n",
            "[-1.7976931348623157e+308; 1.7976931348623157e+308]\n",
            "<class 'numpy.floating'>\n",
            "[-1.7976931348623157e+308; 1.7976931348623157e+308]\n",
            "<class 'numpy.float128'>\n",
            "[-inf; inf]\n"
          ]
        }
      ]
    },
    {
      "cell_type": "markdown",
      "metadata": {
        "id": "Up4fyacZOL0c"
      },
      "source": [
        "#### 34. Напечатать все значения в массиве"
      ]
    },
    {
      "cell_type": "code",
      "metadata": {
        "colab": {
          "base_uri": "https://localhost:8080/"
        },
        "id": "EZI4LHC3OL0d",
        "outputId": "79794147-7d39-4026-bb25-9eb52f4b1409"
      },
      "source": [
        "x = np.random.random(50)\n",
        "x[49] = np.nan\n",
        "print(x)"
      ],
      "execution_count": null,
      "outputs": [
        {
          "output_type": "stream",
          "name": "stdout",
          "text": [
            "[0.56851095 0.18611731 0.07307531 0.66396224 0.29352175 0.26161694\n",
            " 0.31706528 0.35211677 0.99616689 0.34941653 0.11687967 0.88332695\n",
            " 0.55673787 0.97256471 0.51044868 0.3074281  0.63189924 0.09267666\n",
            " 0.30361702 0.85180965 0.60990922 0.25020262 0.51421104 0.04769334\n",
            " 0.43308558 0.42036825 0.59822371 0.95585792 0.5235529  0.61031767\n",
            " 0.06482475 0.47317203 0.57295656 0.54961085 0.64475166 0.83997482\n",
            " 0.9758864  0.30452605 0.73265708 0.95145237 0.91299483 0.24795595\n",
            " 0.67289428 0.00488226 0.19722025 0.18452189 0.66778316 0.43387623\n",
            " 0.9441599         nan]\n"
          ]
        }
      ]
    },
    {
      "cell_type": "markdown",
      "metadata": {
        "id": "aXIRwN26OL0d"
      },
      "source": [
        "#### 35. Найти ближайшее к заданному значению число в заданном массиве"
      ]
    },
    {
      "cell_type": "code",
      "metadata": {
        "id": "I1rCpoZrOL0d",
        "colab": {
          "base_uri": "https://localhost:8080/"
        },
        "outputId": "e3936fb2-7104-4fb0-8f0d-958eb70408a0"
      },
      "source": [
        "x = np.random.random(50) * 20\n",
        "y = 5\n",
        "x[np.abs(x - y).argmin()]"
      ],
      "execution_count": null,
      "outputs": [
        {
          "output_type": "execute_result",
          "data": {
            "text/plain": [
              "4.812371318035629"
            ]
          },
          "metadata": {},
          "execution_count": 50
        }
      ]
    },
    {
      "cell_type": "markdown",
      "metadata": {
        "id": "c1rnDTX_OL0d"
      },
      "source": [
        "#### 36. Преобразовать массив из float в int"
      ]
    },
    {
      "cell_type": "code",
      "metadata": {
        "colab": {
          "base_uri": "https://localhost:8080/"
        },
        "id": "TXgTbyGeOL0e",
        "outputId": "af217c99-305b-405a-942d-3b8258896084"
      },
      "source": [
        "x = np.random.random(50).astype(dtype=int)\n",
        "x"
      ],
      "execution_count": null,
      "outputs": [
        {
          "output_type": "execute_result",
          "data": {
            "text/plain": [
              "array([0, 0, 0, 0, 0, 0, 0, 0, 0, 0, 0, 0, 0, 0, 0, 0, 0, 0, 0, 0, 0, 0,\n",
              "       0, 0, 0, 0, 0, 0, 0, 0, 0, 0, 0, 0, 0, 0, 0, 0, 0, 0, 0, 0, 0, 0,\n",
              "       0, 0, 0, 0, 0, 0])"
            ]
          },
          "metadata": {},
          "execution_count": 44
        }
      ]
    },
    {
      "cell_type": "markdown",
      "metadata": {
        "id": "10SKhqa6OL0e"
      },
      "source": [
        "#### 37. Каков эквивалент функции enumerate для numpy массивов?"
      ]
    },
    {
      "cell_type": "code",
      "metadata": {
        "colab": {
          "base_uri": "https://localhost:8080/"
        },
        "id": "72mnqYJmOL0e",
        "outputId": "b2346840-af91-4940-9829-6694557ee05d"
      },
      "source": [
        "x = np.random.random(5)\n",
        "for i, v in np.ndenumerate(x):\n",
        "  print(i, v)"
      ],
      "execution_count": null,
      "outputs": [
        {
          "output_type": "stream",
          "name": "stdout",
          "text": [
            "(0,) 0.2159470705723321\n",
            "(1,) 0.10996139541884642\n",
            "(2,) 0.385992642234424\n",
            "(3,) 0.014960377032295913\n",
            "(4,) 0.9218975403808896\n"
          ]
        }
      ]
    },
    {
      "cell_type": "markdown",
      "metadata": {
        "id": "-R_7BTB1OL0f"
      },
      "source": [
        "#### 38. Случайно расположить p элементов в 2D массив"
      ]
    },
    {
      "cell_type": "code",
      "metadata": {
        "id": "8yoMFswXOL0f",
        "colab": {
          "base_uri": "https://localhost:8080/"
        },
        "outputId": "7d65e542-cdd7-485f-9540-33ca281fece1"
      },
      "source": [
        "x = np.zeros((5, 5), dtype=int) # исходный массив (25 элементов)\n",
        "p = np.arange(5, 25) # p элементов, которые располагаем в массиве x (20 элементов)\n",
        "\n",
        "indexes = np.arange(x.size)\n",
        "del_indexes = np.copy(indexes)\n",
        "np.random.shuffle(del_indexes)\n",
        "del_indexes = del_indexes[:x.size - p.size]\n",
        "\n",
        "indexes = np.delete(indexes, del_indexes)\n",
        "np.put(x, indexes, p)\n",
        "x"
      ],
      "execution_count": null,
      "outputs": [
        {
          "output_type": "execute_result",
          "data": {
            "text/plain": [
              "array([[ 5,  6,  0,  7,  8],\n",
              "       [ 9, 10, 11, 12, 13],\n",
              "       [14, 15,  0, 16, 17],\n",
              "       [18,  0, 19, 20, 21],\n",
              "       [22,  0, 23,  0, 24]])"
            ]
          },
          "metadata": {},
          "execution_count": 138
        }
      ]
    },
    {
      "cell_type": "markdown",
      "metadata": {
        "id": "OQDYCZcvOL0f"
      },
      "source": [
        "#### 39. Отнять среднее из каждой строки в матрице"
      ]
    },
    {
      "cell_type": "code",
      "metadata": {
        "id": "6EQOVpyDOL0g",
        "colab": {
          "base_uri": "https://localhost:8080/"
        },
        "outputId": "799bf2fd-f50c-411f-bd2d-f460fa56fc89"
      },
      "source": [
        "x = np.random.random((5, 5)) * 20\n",
        "print(x)\n",
        "# print(x.mean(axis=1)) для проверки\n",
        "y = x - x.mean(axis=1, keepdims=True)\n",
        "y"
      ],
      "execution_count": null,
      "outputs": [
        {
          "output_type": "stream",
          "name": "stdout",
          "text": [
            "[[14.20783775 11.9006082  16.60610139  6.91081815 13.69961866]\n",
            " [12.723444    1.66930775 14.90379071 18.29890238  3.51822086]\n",
            " [ 1.11677177 13.64035541 19.41951431 16.48001167  7.03521849]\n",
            " [ 7.72320659  8.08329076 10.29049542 17.16566158 14.68383137]\n",
            " [ 2.1275363   4.09207729 15.42611309 11.62070711 19.45014282]]\n"
          ]
        },
        {
          "output_type": "execute_result",
          "data": {
            "text/plain": [
              "array([[  1.54284092,  -0.76438863,   3.94110456,  -5.75417868,\n",
              "          1.03462183],\n",
              "       [  2.50071086,  -8.55342539,   4.68105757,   8.07616924,\n",
              "         -6.70451228],\n",
              "       [-10.42160256,   2.10198108,   7.88113998,   4.94163734,\n",
              "         -4.50315584],\n",
              "       [ -3.86609056,  -3.50600638,  -1.29880173,   5.57636444,\n",
              "          3.09453423],\n",
              "       [ -8.41577902,  -6.45123803,   4.88279777,   1.07739179,\n",
              "          8.9068275 ]])"
            ]
          },
          "metadata": {},
          "execution_count": 146
        }
      ]
    },
    {
      "cell_type": "markdown",
      "metadata": {
        "id": "KU5JmzXZOL0g"
      },
      "source": [
        "#### 40. Отсортировать матрицу по n-ому столбцу"
      ]
    },
    {
      "cell_type": "code",
      "metadata": {
        "id": "qggvm20cOL0g",
        "colab": {
          "base_uri": "https://localhost:8080/"
        },
        "outputId": "d05efc6b-b3c2-450e-c8b5-3454f371cc8c"
      },
      "source": [
        "def np_sort(x, n):\n",
        "  return x[x[:, (n - 1)].argsort()]\n",
        "\n",
        "x = np.random.random((5, 5)) * 20\n",
        "print(x)\n",
        "np_sort(x, 1)"
      ],
      "execution_count": null,
      "outputs": [
        {
          "output_type": "stream",
          "name": "stdout",
          "text": [
            "[[10.67071664 19.17663496  8.04937098 10.615065   19.58583754]\n",
            " [16.64874406  1.95406659  9.27459536  1.25148146  4.53203862]\n",
            " [ 4.22744473 10.75604276  2.11113472 13.71042656  2.89564292]\n",
            " [12.01848298  6.69783579 16.08636398 18.28488935 19.24382485]\n",
            " [ 3.15836634 15.47422485 15.95430748 15.3386498  15.12360711]]\n"
          ]
        },
        {
          "output_type": "execute_result",
          "data": {
            "text/plain": [
              "array([[ 3.15836634, 15.47422485, 15.95430748, 15.3386498 , 15.12360711],\n",
              "       [ 4.22744473, 10.75604276,  2.11113472, 13.71042656,  2.89564292],\n",
              "       [10.67071664, 19.17663496,  8.04937098, 10.615065  , 19.58583754],\n",
              "       [12.01848298,  6.69783579, 16.08636398, 18.28488935, 19.24382485],\n",
              "       [16.64874406,  1.95406659,  9.27459536,  1.25148146,  4.53203862]])"
            ]
          },
          "metadata": {},
          "execution_count": 149
        }
      ]
    },
    {
      "cell_type": "markdown",
      "metadata": {
        "id": "YNQ-PY5ZOL0h"
      },
      "source": [
        "#### 41. Определить, есть ли в 2D массиве нулевые столбцы"
      ]
    },
    {
      "cell_type": "code",
      "metadata": {
        "id": "z8gqK8Z9OL0h",
        "colab": {
          "base_uri": "https://localhost:8080/"
        },
        "outputId": "eee3f56a-5ac4-4c7f-d704-3132422d9712"
      },
      "source": [
        "def is_zero_col(x):\n",
        "  zero_index = np.argwhere(np.all(x == 0, axis=0))\n",
        "  return True if len(zero_index) != 0 else False\n",
        "\n",
        "x = np.array([np.array([1, 2, 3, 0]),\n",
        "              np.array([1, 5, 6, 0]),\n",
        "              np.array([-1, 0, 9, 0])])\n",
        "is_zero_col(x)"
      ],
      "execution_count": null,
      "outputs": [
        {
          "output_type": "execute_result",
          "data": {
            "text/plain": [
              "True"
            ]
          },
          "metadata": {},
          "execution_count": 81
        }
      ]
    },
    {
      "cell_type": "markdown",
      "metadata": {
        "id": "W6xRQOfhOL0h"
      },
      "source": [
        "#### 42. Дан массив, добавить 1 к каждому элементу с индексом, заданным в другом массиве (осторожно с повторами)"
      ]
    },
    {
      "cell_type": "code",
      "metadata": {
        "id": "79HqhvBBOL0i",
        "colab": {
          "base_uri": "https://localhost:8080/"
        },
        "outputId": "dda01f6b-2281-47da-e34a-a087328d2d5c"
      },
      "source": [
        "x = np.arange(10)\n",
        "indexes = np.arange(1, 11, 2)\n",
        "\n",
        "for i in indexes:\n",
        "  x[i] += 1\n",
        "x"
      ],
      "execution_count": null,
      "outputs": [
        {
          "output_type": "execute_result",
          "data": {
            "text/plain": [
              "array([ 0,  2,  2,  4,  4,  6,  6,  8,  8, 10])"
            ]
          },
          "metadata": {},
          "execution_count": 102
        }
      ]
    },
    {
      "cell_type": "markdown",
      "metadata": {
        "id": "nvFCD3gOOL0i"
      },
      "source": [
        "#### 43. Дан массив (w,h,3) (картинка) dtype=ubyte, посчитать количество различных цветов"
      ]
    },
    {
      "cell_type": "code",
      "metadata": {
        "id": "zEsvcStsOL0i",
        "colab": {
          "base_uri": "https://localhost:8080/"
        },
        "outputId": "33c8d540-7a41-4ce7-e88b-4b3dd14f3f35"
      },
      "source": [
        "def unique(w, h):\n",
        "  x = np.random.randint(0, 255, (w, h, 3))\n",
        "  x.astype(np.ubyte)\n",
        "  print(x)\n",
        "  value_unique, count_unique = np.unique(x, return_counts=True)\n",
        "  return count_unique.shape[0]\n",
        "\n",
        "unique(5, 5)"
      ],
      "execution_count": null,
      "outputs": [
        {
          "output_type": "stream",
          "name": "stdout",
          "text": [
            "[[[ 17  66 178]\n",
            "  [ 94  42   8]\n",
            "  [ 27  15 231]\n",
            "  [212 186  68]\n",
            "  [235  56 172]]\n",
            "\n",
            " [[206 144 118]\n",
            "  [227   0  65]\n",
            "  [211  50 142]\n",
            "  [198 218 119]\n",
            "  [108 126 181]]\n",
            "\n",
            " [[ 50 187 170]\n",
            "  [ 34 198 250]\n",
            "  [102  43 219]\n",
            "  [ 70  46 178]\n",
            "  [ 87 140   6]]\n",
            "\n",
            " [[209 197 208]\n",
            "  [208  23  62]\n",
            "  [189  60  98]\n",
            "  [ 98 194 226]\n",
            "  [ 58 121  61]]\n",
            "\n",
            " [[221  54  19]\n",
            "  [ 47  74  26]\n",
            "  [188 103 116]\n",
            "  [ 48 188  36]\n",
            "  [  7 210 150]]]\n"
          ]
        },
        {
          "output_type": "execute_result",
          "data": {
            "text/plain": [
              "69"
            ]
          },
          "metadata": {},
          "execution_count": 121
        }
      ]
    },
    {
      "cell_type": "markdown",
      "metadata": {
        "id": "DoKIIXwTOL0i"
      },
      "source": [
        "#### 44. Дан четырехмерный массив, посчитать сумму по последним двум осям"
      ]
    },
    {
      "cell_type": "code",
      "metadata": {
        "id": "eBE44IdgOL0j"
      },
      "source": [
        ""
      ],
      "execution_count": null,
      "outputs": []
    },
    {
      "cell_type": "code",
      "metadata": {
        "id": "D95aHsT3OL0j"
      },
      "source": [
        ""
      ],
      "execution_count": null,
      "outputs": []
    }
  ]
}